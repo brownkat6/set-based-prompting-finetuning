{
 "cells": [
  {
   "cell_type": "code",
   "execution_count": 1,
   "id": "e1423bb9-dc59-4a5c-aed5-f7a6a21ba780",
   "metadata": {
    "tags": []
   },
   "outputs": [],
   "source": [
    "import json\n",
    "import pandas\n",
    "import order_independent_llm\n",
    "import glob\n",
    "import seaborn\n",
    "import matplotlib.pyplot as plt\n",
    "import multiprocessing\n",
    "\n",
    "import order_independent_llm.plot_helpers\n",
    "\n",
    "params=order_independent_llm.plot_helpers.nice_defaults()"
   ]
  },
  {
   "cell_type": "code",
   "execution_count": 2,
   "id": "b3657ce6-db0b-4960-b694-5be076593601",
   "metadata": {
    "tags": []
   },
   "outputs": [],
   "source": [
    "targets = glob.glob(\"../results/csqa_quoted/*/*.jsonl\")"
   ]
  },
  {
   "cell_type": "code",
   "execution_count": null,
   "id": "bb8b101a-9acf-4d38-af87-0f37c7a9eb3c",
   "metadata": {
    "tags": []
   },
   "outputs": [],
   "source": [
    "def load(x):\n",
    "    return order_independent_llm.load_to_dataframe(x,include_probs=False)\n",
    "with multiprocessing.Pool() as pool:\n",
    "    df = pandas.concat(pool.map(load , targets))\n",
    "    \n",
    "    #[order_independent_llm.load_to_dataframe(t,fail_on_empty=True) for t in targets]"
   ]
  },
  {
   "cell_type": "code",
   "execution_count": null,
   "id": "f57b6b36-9341-4de9-852b-9eaabf4d67d3",
   "metadata": {
    "tags": []
   },
   "outputs": [],
   "source": [
    "df_count = df[['model','is_correct_answer','response_type']].groupby(['model','response_type']).count().reset_index().pivot(\n",
    "    index = 'model',\n",
    "    columns='response_type',\n",
    "    values='is_correct_answer'\n",
    ")[['normal', 'order_independent', 'normal_reversed',]]\n",
    "df_count"
   ]
  },
  {
   "cell_type": "code",
   "execution_count": null,
   "id": "b3afc1d2-e33b-40ad-bc59-38616552883e",
   "metadata": {
    "tags": []
   },
   "outputs": [],
   "source": [
    "df_acc = df[['model','is_correct_answer','response_type']].groupby(['model','response_type']).mean().reset_index().pivot(\n",
    "    index = 'model',\n",
    "    columns='response_type',\n",
    "    values='is_correct_answer'\n",
    ")[['normal', 'order_independent', 'normal_reversed', ]]\n",
    "df_acc"
   ]
  },
  {
   "cell_type": "code",
   "execution_count": null,
   "id": "e1381cce-e238-41fb-a544-cc565ff55ee0",
   "metadata": {
    "tags": []
   },
   "outputs": [],
   "source": [
    "fig, ax  = plt.subplots(figsize = (7,5))\n",
    "seaborn.barplot(\n",
    "    hue = 'response_type',\n",
    "    x = 'model',\n",
    "    y ='is_correct_answer',\n",
    "    data = df[['model','is_correct_answer','response_type']].groupby(['model','response_type']).mean().reset_index(),\n",
    "    ax = ax\n",
    ")\n",
    "ax.set_ylim([.15,.5])\n",
    "ax.set_xticklabels([l._text.split('/')[-1] for l in ax.get_xticklabels()], rotation=90, ha='right')\n",
    "ax.legend(bbox_to_anchor=(1,1),loc = 'upper left')"
   ]
  },
  {
   "cell_type": "code",
   "execution_count": null,
   "id": "f14e9cf6-85fd-41a2-8c7f-46f5a52220c1",
   "metadata": {
    "tags": []
   },
   "outputs": [],
   "source": [
    "df_piv = df[['model','is_correct_answer','response_type']].groupby(['model','response_type']).mean().reset_index().pivot(\n",
    "    index = 'model',\n",
    "    columns='response_type',\n",
    "    values='is_correct_answer'\n",
    ")[['normal', 'order_independent', 'normal_reversed', ]]\n",
    "df_piv"
   ]
  },
  {
   "cell_type": "code",
   "execution_count": 12,
   "id": "afafda16-1876-4b38-a6bb-e26d1308438a",
   "metadata": {
    "tags": []
   },
   "outputs": [
    {
     "name": "stdout",
     "output_type": "stream",
     "text": [
      "meta-llama/Llama-2-13b-hf\n",
      "| normal   |   False |   True |\n",
      "|:---------|--------:|-------:|\n",
      "| False    |    1154 |    195 |\n",
      "| True     |     207 |    444 |\n",
      "| normal   |   False |   True |\n",
      "|:---------|--------:|-------:|\n",
      "| False    |  0.577  | 0.0975 |\n",
      "| True     |  0.1035 | 0.222  |\n",
      "meta-llama/Meta-Llama-3-8B\n",
      "| normal   |   False |   True |\n",
      "|:---------|--------:|-------:|\n",
      "| False    |    2120 |    597 |\n",
      "| True     |     606 |    677 |\n",
      "| normal   |   False |    True |\n",
      "|:---------|--------:|--------:|\n",
      "| False    |  0.53   | 0.14925 |\n",
      "| True     |  0.1515 | 0.16925 |\n",
      "meta-llama/Llama-2-7b-chat-hf\n",
      "| normal   |   False |   True |\n",
      "|:---------|--------:|-------:|\n",
      "| False    |    1323 |    521 |\n",
      "| True     |     565 |   1091 |\n",
      "| normal   |    False |     True |\n",
      "|:---------|---------:|---------:|\n",
      "| False    | 0.378    | 0.148857 |\n",
      "| True     | 0.161429 | 0.311714 |\n",
      "meta-llama/Llama-2-13b-chat-hf\n",
      "| normal   |   False |   True |\n",
      "|:---------|--------:|-------:|\n",
      "| False    |     895 |    371 |\n",
      "| True     |     414 |    820 |\n",
      "| normal   |   False |   True |\n",
      "|:---------|--------:|-------:|\n",
      "| False    |  0.358  | 0.1484 |\n",
      "| True     |  0.1656 | 0.328  |\n",
      "gpt2\n",
      "| normal   |   False |   True |\n",
      "|:---------|--------:|-------:|\n",
      "| False    |    7554 |    279 |\n",
      "| True     |     266 |   1642 |\n",
      "| normal   |     False |      True |\n",
      "|:---------|----------:|----------:|\n",
      "| False    | 0.775485  | 0.0286418 |\n",
      "| True     | 0.0273073 | 0.168566  |\n",
      "meta-llama/Llama-2-7b-hf\n",
      "| normal   |   False |   True |\n",
      "|:---------|--------:|-------:|\n",
      "| False    |    2359 |    219 |\n",
      "| True     |     204 |    718 |\n",
      "| normal   |     False |      True |\n",
      "|:---------|----------:|----------:|\n",
      "| False    | 0.674     | 0.0625714 |\n",
      "| True     | 0.0582857 | 0.205143  |\n",
      "mistralai/Mistral-7B-Instruct-v0.2\n",
      "| normal   |   False |   True |\n",
      "|:---------|--------:|-------:|\n",
      "| False    |    1518 |    500 |\n",
      "| True     |     531 |    951 |\n",
      "| normal   |    False |     True |\n",
      "|:---------|---------:|---------:|\n",
      "| False    | 0.433714 | 0.142857 |\n",
      "| True     | 0.151714 | 0.271714 |\n"
     ]
    }
   ],
   "source": [
    "plot_dat =[]\n",
    "\n",
    "\n",
    "for model in df['model'].unique():\n",
    "    df_conf = df[(df['model']==model)].drop_duplicates(['prompt','response_type']).pivot(\n",
    "        index = 'prompt',\n",
    "        columns='response_type',\n",
    "        values='is_correct_answer'\n",
    "    )[['normal','normal_reversed','order_independent']].groupby(['normal','normal_reversed']).count().reset_index().pivot(\n",
    "        index = 'normal',\n",
    "        columns='normal_reversed',\n",
    "        values='order_independent'\n",
    "    )\n",
    "    df_mean = df[(df['model']==model)].drop_duplicates(['prompt','response_type']).pivot(\n",
    "        index = 'prompt',\n",
    "        columns='response_type',\n",
    "        values='is_correct_answer'\n",
    "    )[['normal','normal_reversed','order_independent']].groupby(['normal','normal_reversed']).count()\n",
    "    df_mean = df_mean / df_mean.sum().sum()\n",
    "    df_normed = df_conf /df_conf.sum().sum()\n",
    "    print(model)\n",
    "    print(df_conf.reset_index().to_markdown(index=False))\n",
    "    print(df_normed.reset_index().to_markdown(index=False))\n",
    "    plot_dat.append({\n",
    "    'model':model,\n",
    "    'acc' : float(df_mean.loc[(True,False)]) + float(df_mean.loc[(True,True)]),\n",
    "    'error' :  float(df_mean.loc[(False,True)]),\n",
    "    'oid' : False,\n",
    "    #'oid' : float(df[(df['model']==model) & (df['response_type']=='order_independent')].drop_duplicates(['prompt','response_type'])['is_correct_answer'].mean())\n",
    "    })\n",
    "    plot_dat.append({\n",
    "    'model':model,\n",
    "    'acc' : float(df[(df['model']==model) & (df['response_type']=='order_independent')].drop_duplicates(['prompt','response_type'])['is_correct_answer'].mean()),\n",
    "    'error' : 0,\n",
    "    'oid' : True,\n",
    "    #'oid' : \n",
    "    })"
   ]
  },
  {
   "cell_type": "code",
   "execution_count": 59,
   "id": "28f81a2b-0d58-4de3-b3bc-42b05b88ae96",
   "metadata": {},
   "outputs": [],
   "source": [
    "df_plot = pandas.DataFrame(plot_dat)"
   ]
  },
  {
   "cell_type": "code",
   "execution_count": 52,
   "id": "9ddf8dae-0986-4fae-92a3-38bc6517c224",
   "metadata": {},
   "outputs": [
    {
     "data": {
      "text/plain": [
       "0    0.308593\n",
       "1    0.323170\n",
       "2    0.246176\n",
       "3    0.285333\n",
       "4    0.234400\n",
       "5    0.357733\n",
       "6    0.295111\n",
       "7    0.000533\n",
       "8    0.072374\n",
       "Name: error, dtype: float64"
      ]
     },
     "execution_count": 52,
     "metadata": {},
     "output_type": "execute_result"
    }
   ],
   "source": [
    "df_plot['error']"
   ]
  },
  {
   "cell_type": "code",
   "execution_count": 89,
   "id": "94f0d26b-beb4-4bb9-857a-a2759a6c013e",
   "metadata": {},
   "outputs": [
    {
     "name": "stdout",
     "output_type": "stream",
     "text": [
      "Rectangle(xy=(-0.4, 0), width=0.4, height=0.328406, angle=0)\n",
      "Rectangle(xy=(0.6, 0), width=0.4, height=0.424186, angle=0)\n",
      "Rectangle(xy=(1.6, 0), width=0.4, height=0.232933, angle=0)\n",
      "Rectangle(xy=(2.6, 0), width=0.4, height=0.4704, angle=0)\n",
      "Rectangle(xy=(3.6, 0), width=0.4, height=0.3042, angle=0)\n",
      "Rectangle(xy=(4.6, 0), width=0.4, height=0.344533, angle=0)\n",
      "Rectangle(xy=(5.6, 0), width=0.4, height=0.444444, angle=0)\n",
      "Rectangle(xy=(6.6, 0), width=0.4, height=0.264667, angle=0)\n",
      "Rectangle(xy=(7.6, 0), width=0.4, height=0.199774, angle=0)\n",
      "Rectangle(xy=(5.55112e-17, 0), width=0.4, height=0.33898, angle=0)\n",
      "Rectangle(xy=(1, 0), width=0.4, height=0.367724, angle=0)\n",
      "Rectangle(xy=(2, 0), width=0.4, height=0.263423, angle=0)\n",
      "Rectangle(xy=(3, 0), width=0.4, height=0.413733, angle=0)\n",
      "Rectangle(xy=(4, 0), width=0.4, height=0.293, angle=0)\n",
      "Rectangle(xy=(5, 0), width=0.4, height=0.2752, angle=0)\n",
      "Rectangle(xy=(6, 0), width=0.4, height=0.389778, angle=0)\n",
      "Rectangle(xy=(7, 0), width=0.4, height=0.2648, angle=0)\n",
      "Rectangle(xy=(8, 0), width=0.4, height=0.200595, angle=0)\n",
      "Rectangle(xy=(0, 0), width=0, height=0, angle=0)\n",
      "Rectangle(xy=(0, 0), width=0, height=0, angle=0)\n"
     ]
    }
   ],
   "source": [
    "for p in ax.patches:\n",
    "    print(p)"
   ]
  },
  {
   "cell_type": "code",
   "execution_count": 93,
   "id": "0fa9f80b-75ff-4805-bd71-9044477a4374",
   "metadata": {},
   "outputs": [
    {
     "data": {
      "text/plain": [
       "([<matplotlib.patches.Rectangle at 0x323e4b0d0>,\n",
       "  <matplotlib.patches.Rectangle at 0x3248ddbd0>],\n",
       " ['False', 'True'])"
      ]
     },
     "execution_count": 93,
     "metadata": {},
     "output_type": "execute_result"
    }
   ],
   "source": [
    "ax.get_legend_handles_labels()"
   ]
  },
  {
   "cell_type": "code",
   "execution_count": 14,
   "id": "8176a9fd-c1d7-4406-a8a5-7b2e86b82f69",
   "metadata": {
    "tags": []
   },
   "outputs": [
    {
     "data": {
      "image/png": "[encoded data removed]",
      "text/plain": [
       "<Figure size 900x500 with 1 Axes>"
      ]
     },
     "metadata": {},
     "output_type": "display_data"
    }
   ],
   "source": [
    "df_plot = pandas.DataFrame(plot_dat)\n",
    "fig, ax = plt.subplots()\n",
    "#ax = sns.barplot(x='Param', y='Value', data=df, hue='Name', palette='CMRmap_r')\n",
    "seaborn.barplot(\n",
    "    x = 'model',\n",
    "    y = 'acc',\n",
    "    data =df_plot,\n",
    "    hue ='oid',\n",
    "    #yerr = df_plot['error'],\n",
    "    ax = ax\n",
    ")\n",
    "\n",
    "err_patches =  ax.patches[:7]\n",
    "oid_patches =  ax.patches[7:-2]\n",
    "\n",
    "x_coords = [p.get_x() + 0.5 * p.get_width() for p in ax.patches][:-2]\n",
    "y_coords = [p.get_height() for p in ax.patches][:-2]\n",
    "ax.errorbar(x=[p.get_x() + 0.5 * p.get_width() for p in err_patches], y=[p.get_height() for p in err_patches], \n",
    "            yerr=df_plot[df_plot['oid'] == False][\"error\"], fmt=\"none\", c=\"k\")\n",
    "\n",
    "ax.errorbar(x=[p.get_x() + 0.5 * p.get_width() for p in oid_patches], y=[p.get_height() for p in oid_patches], \n",
    "            yerr=df_plot[df_plot['oid'] == True][\"error\"], fmt=\"none\", c=\"k\")\n",
    "#ax.set_ylim([.15,.5])\n",
    "ax.set_xticklabels([l._text.split('/')[-1] for l in ax.get_xticklabels()], rotation=90, ha='right')\n",
    "patches, labels = ax.get_legend_handles_labels()\n",
    "label_map = {\n",
    "    'True' : \"Yes\",\n",
    "    \"False\" : \"No\",\n",
    "}\n",
    "labels = [label_map[l] for l in labels]\n",
    "ax.legend(patches, labels,bbox_to_anchor=(.7,.9),loc = 'upper left', title='Order Independant')\n",
    "ax.set_xlabel(\"Model\")\n",
    "ax.set_ylabel(\"CSQA Top 1 Accuracy\")\n",
    "order_independent_llm.plot_helpers.multi_savefig(\"CSQA-ACC-errors\")"
   ]
  },
  {
   "cell_type": "code",
   "execution_count": 53,
   "id": "903884c7-7c65-4513-a9dd-2785f2dbc527",
   "metadata": {},
   "outputs": [
    {
     "ename": "ValueError",
     "evalue": "'yerr' (shape: (9,)) must be a scalar or a 1D or (2, n) array-like whose shape matches 'y' (shape: (1,))",
     "output_type": "error",
     "traceback": [
      "\u001b[0;31m---------------------------------------------------------------------------\u001b[0m",
      "\u001b[0;31mValueError\u001b[0m                                Traceback (most recent call last)",
      "Cell \u001b[0;32mIn[53], line 2\u001b[0m\n\u001b[1;32m      1\u001b[0m fig, ax \u001b[38;5;241m=\u001b[39m plt\u001b[38;5;241m.\u001b[39msubplots()\n\u001b[0;32m----> 2\u001b[0m \u001b[43mseaborn\u001b[49m\u001b[38;5;241;43m.\u001b[39;49m\u001b[43mbarplot\u001b[49m\u001b[43m(\u001b[49m\n\u001b[1;32m      3\u001b[0m \u001b[43m    \u001b[49m\u001b[43mx\u001b[49m\u001b[43m \u001b[49m\u001b[38;5;241;43m=\u001b[39;49m\u001b[43m \u001b[49m\u001b[38;5;124;43m'\u001b[39;49m\u001b[38;5;124;43mmodel\u001b[39;49m\u001b[38;5;124;43m'\u001b[39;49m\u001b[43m,\u001b[49m\n\u001b[1;32m      4\u001b[0m \u001b[43m    \u001b[49m\u001b[43my\u001b[49m\u001b[43m \u001b[49m\u001b[38;5;241;43m=\u001b[39;49m\u001b[43m \u001b[49m\u001b[43mdf_plot\u001b[49m\u001b[43m[\u001b[49m\u001b[38;5;124;43m'\u001b[39;49m\u001b[38;5;124;43macc\u001b[39;49m\u001b[38;5;124;43m'\u001b[39;49m\u001b[43m]\u001b[49m\u001b[43m,\u001b[49m\n\u001b[1;32m      5\u001b[0m \u001b[43m    \u001b[49m\u001b[43mdata\u001b[49m\u001b[43m \u001b[49m\u001b[38;5;241;43m=\u001b[39;49m\u001b[43mdf_plot\u001b[49m\u001b[43m,\u001b[49m\n\u001b[1;32m      6\u001b[0m \u001b[43m    \u001b[49m\u001b[43myerr\u001b[49m\u001b[43m \u001b[49m\u001b[38;5;241;43m=\u001b[39;49m\u001b[43m \u001b[49m\u001b[43mdf_plot\u001b[49m\u001b[43m[\u001b[49m\u001b[38;5;124;43m'\u001b[39;49m\u001b[38;5;124;43merror\u001b[39;49m\u001b[38;5;124;43m'\u001b[39;49m\u001b[43m]\u001b[49m\u001b[43m,\u001b[49m\n\u001b[1;32m      7\u001b[0m \u001b[43m    \u001b[49m\u001b[43max\u001b[49m\u001b[43m \u001b[49m\u001b[38;5;241;43m=\u001b[39;49m\u001b[43m \u001b[49m\u001b[43max\u001b[49m\n\u001b[1;32m      8\u001b[0m \u001b[43m)\u001b[49m\n",
      "File \u001b[0;32m~/mambaforge/lib/python3.11/site-packages/seaborn/categorical.py:2356\u001b[0m, in \u001b[0;36mbarplot\u001b[0;34m(data, x, y, hue, order, hue_order, estimator, errorbar, n_boot, units, seed, orient, color, palette, saturation, fill, hue_norm, width, dodge, gap, log_scale, native_scale, formatter, legend, capsize, err_kws, ci, errcolor, errwidth, ax, **kwargs)\u001b[0m\n\u001b[1;32m   2354\u001b[0m saturation \u001b[38;5;241m=\u001b[39m saturation \u001b[38;5;28;01mif\u001b[39;00m fill \u001b[38;5;28;01melse\u001b[39;00m \u001b[38;5;241m1\u001b[39m\n\u001b[1;32m   2355\u001b[0m p\u001b[38;5;241m.\u001b[39mmap_hue(palette\u001b[38;5;241m=\u001b[39mpalette, order\u001b[38;5;241m=\u001b[39mhue_order, norm\u001b[38;5;241m=\u001b[39mhue_norm, saturation\u001b[38;5;241m=\u001b[39msaturation)\n\u001b[0;32m-> 2356\u001b[0m color \u001b[38;5;241m=\u001b[39m \u001b[43m_default_color\u001b[49m\u001b[43m(\u001b[49m\u001b[43max\u001b[49m\u001b[38;5;241;43m.\u001b[39;49m\u001b[43mbar\u001b[49m\u001b[43m,\u001b[49m\u001b[43m \u001b[49m\u001b[43mhue\u001b[49m\u001b[43m,\u001b[49m\u001b[43m \u001b[49m\u001b[43mcolor\u001b[49m\u001b[43m,\u001b[49m\u001b[43m \u001b[49m\u001b[43mkwargs\u001b[49m\u001b[43m,\u001b[49m\u001b[43m \u001b[49m\u001b[43msaturation\u001b[49m\u001b[38;5;241;43m=\u001b[39;49m\u001b[43msaturation\u001b[49m\u001b[43m)\u001b[49m\n\u001b[1;32m   2358\u001b[0m aggregator \u001b[38;5;241m=\u001b[39m EstimateAggregator(estimator, errorbar, n_boot\u001b[38;5;241m=\u001b[39mn_boot, seed\u001b[38;5;241m=\u001b[39mseed)\n\u001b[1;32m   2359\u001b[0m err_kws \u001b[38;5;241m=\u001b[39m {} \u001b[38;5;28;01mif\u001b[39;00m err_kws \u001b[38;5;129;01mis\u001b[39;00m \u001b[38;5;28;01mNone\u001b[39;00m \u001b[38;5;28;01melse\u001b[39;00m _normalize_kwargs(err_kws, mpl\u001b[38;5;241m.\u001b[39mlines\u001b[38;5;241m.\u001b[39mLine2D)\n",
      "File \u001b[0;32m~/mambaforge/lib/python3.11/site-packages/seaborn/utils.py:150\u001b[0m, in \u001b[0;36m_default_color\u001b[0;34m(method, hue, color, kws, saturation)\u001b[0m\n\u001b[1;32m    145\u001b[0m     scout\u001b[38;5;241m.\u001b[39mremove()\n\u001b[1;32m    147\u001b[0m \u001b[38;5;28;01melif\u001b[39;00m method\u001b[38;5;241m.\u001b[39m\u001b[38;5;18m__name__\u001b[39m \u001b[38;5;241m==\u001b[39m \u001b[38;5;124m\"\u001b[39m\u001b[38;5;124mbar\u001b[39m\u001b[38;5;124m\"\u001b[39m:\n\u001b[1;32m    148\u001b[0m \n\u001b[1;32m    149\u001b[0m     \u001b[38;5;66;03m# bar() needs masked, not empty data, to generate a patch\u001b[39;00m\n\u001b[0;32m--> 150\u001b[0m     scout, \u001b[38;5;241m=\u001b[39m \u001b[43mmethod\u001b[49m\u001b[43m(\u001b[49m\u001b[43m[\u001b[49m\u001b[43mnp\u001b[49m\u001b[38;5;241;43m.\u001b[39;49m\u001b[43mnan\u001b[49m\u001b[43m]\u001b[49m\u001b[43m,\u001b[49m\u001b[43m \u001b[49m\u001b[43m[\u001b[49m\u001b[43mnp\u001b[49m\u001b[38;5;241;43m.\u001b[39;49m\u001b[43mnan\u001b[49m\u001b[43m]\u001b[49m\u001b[43m,\u001b[49m\u001b[43m \u001b[49m\u001b[38;5;241;43m*\u001b[39;49m\u001b[38;5;241;43m*\u001b[39;49m\u001b[43mkws\u001b[49m\u001b[43m)\u001b[49m\n\u001b[1;32m    151\u001b[0m     color \u001b[38;5;241m=\u001b[39m to_rgb(scout\u001b[38;5;241m.\u001b[39mget_facecolor())\n\u001b[1;32m    152\u001b[0m     scout\u001b[38;5;241m.\u001b[39mremove()\n",
      "File \u001b[0;32m~/mambaforge/lib/python3.11/site-packages/matplotlib/__init__.py:1442\u001b[0m, in \u001b[0;36m_preprocess_data.<locals>.inner\u001b[0;34m(ax, data, *args, **kwargs)\u001b[0m\n\u001b[1;32m   1439\u001b[0m \u001b[38;5;129m@functools\u001b[39m\u001b[38;5;241m.\u001b[39mwraps(func)\n\u001b[1;32m   1440\u001b[0m \u001b[38;5;28;01mdef\u001b[39;00m \u001b[38;5;21minner\u001b[39m(ax, \u001b[38;5;241m*\u001b[39margs, data\u001b[38;5;241m=\u001b[39m\u001b[38;5;28;01mNone\u001b[39;00m, \u001b[38;5;241m*\u001b[39m\u001b[38;5;241m*\u001b[39mkwargs):\n\u001b[1;32m   1441\u001b[0m     \u001b[38;5;28;01mif\u001b[39;00m data \u001b[38;5;129;01mis\u001b[39;00m \u001b[38;5;28;01mNone\u001b[39;00m:\n\u001b[0;32m-> 1442\u001b[0m         \u001b[38;5;28;01mreturn\u001b[39;00m \u001b[43mfunc\u001b[49m\u001b[43m(\u001b[49m\u001b[43max\u001b[49m\u001b[43m,\u001b[49m\u001b[43m \u001b[49m\u001b[38;5;241;43m*\u001b[39;49m\u001b[38;5;28;43mmap\u001b[39;49m\u001b[43m(\u001b[49m\u001b[43msanitize_sequence\u001b[49m\u001b[43m,\u001b[49m\u001b[43m \u001b[49m\u001b[43margs\u001b[49m\u001b[43m)\u001b[49m\u001b[43m,\u001b[49m\u001b[43m \u001b[49m\u001b[38;5;241;43m*\u001b[39;49m\u001b[38;5;241;43m*\u001b[39;49m\u001b[43mkwargs\u001b[49m\u001b[43m)\u001b[49m\n\u001b[1;32m   1444\u001b[0m     bound \u001b[38;5;241m=\u001b[39m new_sig\u001b[38;5;241m.\u001b[39mbind(ax, \u001b[38;5;241m*\u001b[39margs, \u001b[38;5;241m*\u001b[39m\u001b[38;5;241m*\u001b[39mkwargs)\n\u001b[1;32m   1445\u001b[0m     auto_label \u001b[38;5;241m=\u001b[39m (bound\u001b[38;5;241m.\u001b[39marguments\u001b[38;5;241m.\u001b[39mget(label_namer)\n\u001b[1;32m   1446\u001b[0m                   \u001b[38;5;129;01mor\u001b[39;00m bound\u001b[38;5;241m.\u001b[39mkwargs\u001b[38;5;241m.\u001b[39mget(label_namer))\n",
      "File \u001b[0;32m~/mambaforge/lib/python3.11/site-packages/matplotlib/axes/_axes.py:2510\u001b[0m, in \u001b[0;36mAxes.bar\u001b[0;34m(self, x, height, width, bottom, align, **kwargs)\u001b[0m\n\u001b[1;32m   2506\u001b[0m         ey \u001b[38;5;241m=\u001b[39m [b \u001b[38;5;241m+\u001b[39m \u001b[38;5;241m0.5\u001b[39m \u001b[38;5;241m*\u001b[39m h \u001b[38;5;28;01mfor\u001b[39;00m b, h \u001b[38;5;129;01min\u001b[39;00m \u001b[38;5;28mzip\u001b[39m(bottom, height)]\n\u001b[1;32m   2508\u001b[0m     error_kw\u001b[38;5;241m.\u001b[39msetdefault(\u001b[38;5;124m\"\u001b[39m\u001b[38;5;124mlabel\u001b[39m\u001b[38;5;124m\"\u001b[39m, \u001b[38;5;124m'\u001b[39m\u001b[38;5;124m_nolegend_\u001b[39m\u001b[38;5;124m'\u001b[39m)\n\u001b[0;32m-> 2510\u001b[0m     errorbar \u001b[38;5;241m=\u001b[39m \u001b[38;5;28;43mself\u001b[39;49m\u001b[38;5;241;43m.\u001b[39;49m\u001b[43merrorbar\u001b[49m\u001b[43m(\u001b[49m\u001b[43mex\u001b[49m\u001b[43m,\u001b[49m\u001b[43m \u001b[49m\u001b[43mey\u001b[49m\u001b[43m,\u001b[49m\n\u001b[1;32m   2511\u001b[0m \u001b[43m                             \u001b[49m\u001b[43myerr\u001b[49m\u001b[38;5;241;43m=\u001b[39;49m\u001b[43myerr\u001b[49m\u001b[43m,\u001b[49m\u001b[43m \u001b[49m\u001b[43mxerr\u001b[49m\u001b[38;5;241;43m=\u001b[39;49m\u001b[43mxerr\u001b[49m\u001b[43m,\u001b[49m\n\u001b[1;32m   2512\u001b[0m \u001b[43m                             \u001b[49m\u001b[43mfmt\u001b[49m\u001b[38;5;241;43m=\u001b[39;49m\u001b[38;5;124;43m'\u001b[39;49m\u001b[38;5;124;43mnone\u001b[39;49m\u001b[38;5;124;43m'\u001b[39;49m\u001b[43m,\u001b[49m\u001b[43m \u001b[49m\u001b[38;5;241;43m*\u001b[39;49m\u001b[38;5;241;43m*\u001b[39;49m\u001b[43merror_kw\u001b[49m\u001b[43m)\u001b[49m\n\u001b[1;32m   2513\u001b[0m \u001b[38;5;28;01melse\u001b[39;00m:\n\u001b[1;32m   2514\u001b[0m     errorbar \u001b[38;5;241m=\u001b[39m \u001b[38;5;28;01mNone\u001b[39;00m\n",
      "File \u001b[0;32m~/mambaforge/lib/python3.11/site-packages/matplotlib/__init__.py:1442\u001b[0m, in \u001b[0;36m_preprocess_data.<locals>.inner\u001b[0;34m(ax, data, *args, **kwargs)\u001b[0m\n\u001b[1;32m   1439\u001b[0m \u001b[38;5;129m@functools\u001b[39m\u001b[38;5;241m.\u001b[39mwraps(func)\n\u001b[1;32m   1440\u001b[0m \u001b[38;5;28;01mdef\u001b[39;00m \u001b[38;5;21minner\u001b[39m(ax, \u001b[38;5;241m*\u001b[39margs, data\u001b[38;5;241m=\u001b[39m\u001b[38;5;28;01mNone\u001b[39;00m, \u001b[38;5;241m*\u001b[39m\u001b[38;5;241m*\u001b[39mkwargs):\n\u001b[1;32m   1441\u001b[0m     \u001b[38;5;28;01mif\u001b[39;00m data \u001b[38;5;129;01mis\u001b[39;00m \u001b[38;5;28;01mNone\u001b[39;00m:\n\u001b[0;32m-> 1442\u001b[0m         \u001b[38;5;28;01mreturn\u001b[39;00m \u001b[43mfunc\u001b[49m\u001b[43m(\u001b[49m\u001b[43max\u001b[49m\u001b[43m,\u001b[49m\u001b[43m \u001b[49m\u001b[38;5;241;43m*\u001b[39;49m\u001b[38;5;28;43mmap\u001b[39;49m\u001b[43m(\u001b[49m\u001b[43msanitize_sequence\u001b[49m\u001b[43m,\u001b[49m\u001b[43m \u001b[49m\u001b[43margs\u001b[49m\u001b[43m)\u001b[49m\u001b[43m,\u001b[49m\u001b[43m \u001b[49m\u001b[38;5;241;43m*\u001b[39;49m\u001b[38;5;241;43m*\u001b[39;49m\u001b[43mkwargs\u001b[49m\u001b[43m)\u001b[49m\n\u001b[1;32m   1444\u001b[0m     bound \u001b[38;5;241m=\u001b[39m new_sig\u001b[38;5;241m.\u001b[39mbind(ax, \u001b[38;5;241m*\u001b[39margs, \u001b[38;5;241m*\u001b[39m\u001b[38;5;241m*\u001b[39mkwargs)\n\u001b[1;32m   1445\u001b[0m     auto_label \u001b[38;5;241m=\u001b[39m (bound\u001b[38;5;241m.\u001b[39marguments\u001b[38;5;241m.\u001b[39mget(label_namer)\n\u001b[1;32m   1446\u001b[0m                   \u001b[38;5;129;01mor\u001b[39;00m bound\u001b[38;5;241m.\u001b[39mkwargs\u001b[38;5;241m.\u001b[39mget(label_namer))\n",
      "File \u001b[0;32m~/mambaforge/lib/python3.11/site-packages/matplotlib/axes/_axes.py:3635\u001b[0m, in \u001b[0;36mAxes.errorbar\u001b[0;34m(self, x, y, yerr, xerr, fmt, ecolor, elinewidth, capsize, barsabove, lolims, uplims, xlolims, xuplims, errorevery, capthick, **kwargs)\u001b[0m\n\u001b[1;32m   3633\u001b[0m     np\u001b[38;5;241m.\u001b[39mbroadcast_to(err, (\u001b[38;5;241m2\u001b[39m, \u001b[38;5;28mlen\u001b[39m(dep)))\n\u001b[1;32m   3634\u001b[0m \u001b[38;5;28;01mexcept\u001b[39;00m \u001b[38;5;167;01mValueError\u001b[39;00m:\n\u001b[0;32m-> 3635\u001b[0m     \u001b[38;5;28;01mraise\u001b[39;00m \u001b[38;5;167;01mValueError\u001b[39;00m(\n\u001b[1;32m   3636\u001b[0m         \u001b[38;5;124mf\u001b[39m\u001b[38;5;124m\"\u001b[39m\u001b[38;5;124m'\u001b[39m\u001b[38;5;132;01m{\u001b[39;00mdep_axis\u001b[38;5;132;01m}\u001b[39;00m\u001b[38;5;124merr\u001b[39m\u001b[38;5;124m'\u001b[39m\u001b[38;5;124m (shape: \u001b[39m\u001b[38;5;132;01m{\u001b[39;00mnp\u001b[38;5;241m.\u001b[39mshape(err)\u001b[38;5;132;01m}\u001b[39;00m\u001b[38;5;124m) must be a \u001b[39m\u001b[38;5;124m\"\u001b[39m\n\u001b[1;32m   3637\u001b[0m         \u001b[38;5;124mf\u001b[39m\u001b[38;5;124m\"\u001b[39m\u001b[38;5;124mscalar or a 1D or (2, n) array-like whose shape matches \u001b[39m\u001b[38;5;124m\"\u001b[39m\n\u001b[1;32m   3638\u001b[0m         \u001b[38;5;124mf\u001b[39m\u001b[38;5;124m\"\u001b[39m\u001b[38;5;124m'\u001b[39m\u001b[38;5;132;01m{\u001b[39;00mdep_axis\u001b[38;5;132;01m}\u001b[39;00m\u001b[38;5;124m'\u001b[39m\u001b[38;5;124m (shape: \u001b[39m\u001b[38;5;132;01m{\u001b[39;00mnp\u001b[38;5;241m.\u001b[39mshape(dep)\u001b[38;5;132;01m}\u001b[39;00m\u001b[38;5;124m)\u001b[39m\u001b[38;5;124m\"\u001b[39m) \u001b[38;5;28;01mfrom\u001b[39;00m \u001b[38;5;28;01mNone\u001b[39;00m\n\u001b[1;32m   3639\u001b[0m res \u001b[38;5;241m=\u001b[39m np\u001b[38;5;241m.\u001b[39mzeros(err\u001b[38;5;241m.\u001b[39mshape, dtype\u001b[38;5;241m=\u001b[39m\u001b[38;5;28mbool\u001b[39m)  \u001b[38;5;66;03m# Default in case of nan\u001b[39;00m\n\u001b[1;32m   3640\u001b[0m \u001b[38;5;28;01mif\u001b[39;00m np\u001b[38;5;241m.\u001b[39many(np\u001b[38;5;241m.\u001b[39mless(err, \u001b[38;5;241m-\u001b[39merr, out\u001b[38;5;241m=\u001b[39mres, where\u001b[38;5;241m=\u001b[39m(err \u001b[38;5;241m==\u001b[39m err))):\n\u001b[1;32m   3641\u001b[0m     \u001b[38;5;66;03m# like err<0, but also works for timedelta and nan.\u001b[39;00m\n",
      "\u001b[0;31mValueError\u001b[0m: 'yerr' (shape: (9,)) must be a scalar or a 1D or (2, n) array-like whose shape matches 'y' (shape: (1,))"
     ]
    },
    {
     "data": {
      "image/png": "[encoded data removed]",
      "text/plain": [
       "<Figure size 900x500 with 1 Axes>"
      ]
     },
     "metadata": {},
     "output_type": "display_data"
    }
   ],
   "source": [
    "fig, ax = plt.subplots()\n",
    "seaborn.barplot(\n",
    "    x = 'model',\n",
    "    y = df_plot['acc'],\n",
    "    data =df_plot,\n",
    "    yerr = df_plot['error'],\n",
    "    ax = ax\n",
    ")"
   ]
  },
  {
   "cell_type": "code",
   "execution_count": 45,
   "id": "f7131f50-b314-4830-998a-7dd93eaf887f",
   "metadata": {},
   "outputs": [
    {
     "data": {
      "text/html": [
       "<div>\n",
       "<style scoped>\n",
       "    .dataframe tbody tr th:only-of-type {\n",
       "        vertical-align: middle;\n",
       "    }\n",
       "\n",
       "    .dataframe tbody tr th {\n",
       "        vertical-align: top;\n",
       "    }\n",
       "\n",
       "    .dataframe thead th {\n",
       "        text-align: right;\n",
       "    }\n",
       "</style>\n",
       "<table border=\"1\" class=\"dataframe\">\n",
       "  <thead>\n",
       "    <tr style=\"text-align: right;\">\n",
       "      <th></th>\n",
       "      <th>model</th>\n",
       "      <th>acc</th>\n",
       "      <th>error</th>\n",
       "      <th>oid</th>\n",
       "    </tr>\n",
       "  </thead>\n",
       "  <tbody>\n",
       "    <tr>\n",
       "      <th>0</th>\n",
       "      <td>lmsys/vicuna-7b-v1.5</td>\n",
       "      <td>0.328406</td>\n",
       "      <td>0.308593</td>\n",
       "      <td>0.338980</td>\n",
       "    </tr>\n",
       "    <tr>\n",
       "      <th>1</th>\n",
       "      <td>meta-llama/Llama-2-7b-chat-hf</td>\n",
       "      <td>0.424186</td>\n",
       "      <td>0.323170</td>\n",
       "      <td>0.367724</td>\n",
       "    </tr>\n",
       "    <tr>\n",
       "      <th>2</th>\n",
       "      <td>meta-llama/Llama-2-7b-hf</td>\n",
       "      <td>0.232933</td>\n",
       "      <td>0.246176</td>\n",
       "      <td>0.263423</td>\n",
       "    </tr>\n",
       "    <tr>\n",
       "      <th>3</th>\n",
       "      <td>meta-llama/Llama-2-13b-chat-hf</td>\n",
       "      <td>0.470400</td>\n",
       "      <td>0.285333</td>\n",
       "      <td>0.413733</td>\n",
       "    </tr>\n",
       "    <tr>\n",
       "      <th>4</th>\n",
       "      <td>meta-llama/Llama-2-13b-hf</td>\n",
       "      <td>0.304200</td>\n",
       "      <td>0.234400</td>\n",
       "      <td>0.293000</td>\n",
       "    </tr>\n",
       "    <tr>\n",
       "      <th>5</th>\n",
       "      <td>meta-llama/Meta-Llama-3-8B</td>\n",
       "      <td>0.344533</td>\n",
       "      <td>0.357733</td>\n",
       "      <td>0.275200</td>\n",
       "    </tr>\n",
       "    <tr>\n",
       "      <th>6</th>\n",
       "      <td>mistralai/Mistral-7B-Instruct-v0.2</td>\n",
       "      <td>0.444444</td>\n",
       "      <td>0.295111</td>\n",
       "      <td>0.389778</td>\n",
       "    </tr>\n",
       "    <tr>\n",
       "      <th>7</th>\n",
       "      <td>WizardLM/WizardLM-7B-V1.0</td>\n",
       "      <td>0.264667</td>\n",
       "      <td>0.000533</td>\n",
       "      <td>0.264800</td>\n",
       "    </tr>\n",
       "    <tr>\n",
       "      <th>8</th>\n",
       "      <td>gpt2</td>\n",
       "      <td>0.199774</td>\n",
       "      <td>0.072374</td>\n",
       "      <td>0.200595</td>\n",
       "    </tr>\n",
       "  </tbody>\n",
       "</table>\n",
       "</div>"
      ],
      "text/plain": [
       "                                model       acc     error       oid\n",
       "0                lmsys/vicuna-7b-v1.5  0.328406  0.308593  0.338980\n",
       "1       meta-llama/Llama-2-7b-chat-hf  0.424186  0.323170  0.367724\n",
       "2            meta-llama/Llama-2-7b-hf  0.232933  0.246176  0.263423\n",
       "3      meta-llama/Llama-2-13b-chat-hf  0.470400  0.285333  0.413733\n",
       "4           meta-llama/Llama-2-13b-hf  0.304200  0.234400  0.293000\n",
       "5          meta-llama/Meta-Llama-3-8B  0.344533  0.357733  0.275200\n",
       "6  mistralai/Mistral-7B-Instruct-v0.2  0.444444  0.295111  0.389778\n",
       "7           WizardLM/WizardLM-7B-V1.0  0.264667  0.000533  0.264800\n",
       "8                                gpt2  0.199774  0.072374  0.200595"
      ]
     },
     "execution_count": 45,
     "metadata": {},
     "output_type": "execute_result"
    }
   ],
   "source": [
    "df_plot"
   ]
  },
  {
   "cell_type": "code",
   "execution_count": null,
   "id": "25db1026-e95a-433c-bcb0-986a47819dc4",
   "metadata": {},
   "outputs": [],
   "source": []
  }
 ],
 "metadata": {
  "kernelspec": {
   "display_name": "Python 3 (ipykernel)",
   "language": "python",
   "name": "python3"
  },
  "language_info": {
   "codemirror_mode": {
    "name": "ipython",
    "version": 3
   },
   "file_extension": ".py",
   "mimetype": "text/x-python",
   "name": "python",
   "nbconvert_exporter": "python",
   "pygments_lexer": "ipython3",
   "version": "3.11.4"
  }
 },
 "nbformat": 4,
 "nbformat_minor": 5
}
