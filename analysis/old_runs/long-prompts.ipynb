{
 "cells": [
  {
   "cell_type": "code",
   "execution_count": 3,
   "id": "5d010cd2-f2b2-491f-b666-1a65e6fac90f",
   "metadata": {
    "tags": []
   },
   "outputs": [],
   "source": [
    "import json\n",
    "import pandas\n",
    "import order_independent_llm"
   ]
  },
  {
   "cell_type": "code",
   "execution_count": 1,
   "id": "ddda0458-ccda-4210-bdca-e15af9f58a00",
   "metadata": {
    "tags": []
   },
   "outputs": [
    {
     "ename": "NameError",
     "evalue": "name 'order_independent_llm' is not defined",
     "output_type": "error",
     "traceback": [
      "\u001b[0;31m---------------------------------------------------------------------------\u001b[0m",
      "\u001b[0;31mNameError\u001b[0m                                 Traceback (most recent call last)",
      "Cell \u001b[0;32mIn[1], line 1\u001b[0m\n\u001b[0;32m----> 1\u001b[0m model, tokenizer \u001b[38;5;241m=\u001b[39m \u001b[43morder_independent_llm\u001b[49m\u001b[38;5;241m.\u001b[39mload_model(\u001b[38;5;124m\"\u001b[39m\u001b[38;5;124mmeta-llama/Meta-Llama-3-70B-Instruct\u001b[39m\u001b[38;5;124m\"\u001b[39m, \u001b[38;5;124m'\u001b[39m\u001b[38;5;124mcpu\u001b[39m\u001b[38;5;124m'\u001b[39m)\n",
      "\u001b[0;31mNameError\u001b[0m: name 'order_independent_llm' is not defined"
     ]
    }
   ],
   "source": [
    "model, tokenizer = order_independent_llm.load_model(\"meta-llama/Meta-Llama-3-70B-Instruct\", 'cpu')"
   ]
  },
  {
   "cell_type": "code",
   "execution_count": null,
   "id": "01c731e0-267b-427f-ba39-d61bd04e2e91",
   "metadata": {
    "tags": []
   },
   "outputs": [],
   "source": [
    "model, tokenizer = order_independent_llm.load_model(\"mistralai/Mistral-7B-Instruct-v0.1\", 'cuda')"
   ]
  },
  {
   "cell_type": "code",
   "execution_count": null,
   "id": "ad7fdc37-bb5b-49e8-8052-304820a133b8",
   "metadata": {
    "tags": []
   },
   "outputs": [
    {
     "data": {
      "application/vnd.jupyter.widget-view+json": {
       "model_id": "e9cb43010c3640d79ed0b26460b740aa",
       "version_major": 2,
       "version_minor": 0
      },
      "text/plain": [
       "Loading checkpoint shards:   0%|          | 0/19 [00:00<?, ?it/s]"
      ]
     },
     "metadata": {},
     "output_type": "display_data"
    }
   ],
   "source": [
    "model, tokenizer = order_independent_llm.load_model(\"mistralai/Mixtral-8x7B-v0.1\", 'cuda')"
   ]
  },
  {
   "cell_type": "code",
   "execution_count": 7,
   "id": "7d16691b-d2e4-4367-b959-9cf19bfe1ae7",
   "metadata": {
    "tags": []
   },
   "outputs": [],
   "source": [
    "raw = \"\"\"On March 26, 2024, at 1:28 a.m. EDT (05:28 UTC), the main spans and the three nearest northeast approach spans of the Francis Scott Key Bridge across the Patapsco River in the Baltimore metropolitan area of Maryland, United States, collapsed after the container ship Dali struck one of its piers. Two people were rescued from the river; one had no injuries, while the other was transported to a hospital in critical condition. Six members of a maintenance crew working on the roadway were reported missing; three bodies were recovered, and the other three are presumed dead.[1][2]\n",
    "\n",
    "The collapse blocked most shipping to and from the Port of Baltimore. Maryland Governor Wes Moore called the event a \"global crisis\" that had affected more than 8,000 jobs. The economic impact of the waterway's closure has been estimated at $15 million per day.\n",
    "Background\n",
    "Main articles: Francis Scott Key Bridge (Baltimore) and MV Dali\n",
    "Dali's size, though considered large, is less than that of the largest container ship.[3] It is recognized that bigger ships can cause bigger disasters, such as the 1,300-foot vessel in the 2021 Suez Canal obstruction.[3]\n",
    "\n",
    "The Francis Scott Key Bridge was a steel arch-shaped continuous truss bridge, the second-longest in the United States and third-longest in the world.[4] Opened in 1977, the 1.6-mile (2.6 km; 1.4 nmi) bridge ran northeast from Hawkins Point, Baltimore, to Sollers Point in Dundalk in Baltimore County, Maryland. Before being damaged, it carried Interstate 695, a beltway around Baltimore;[5] its four lanes (two in each direction[6]) were used by some 34,000 vehicles each day, including 3,000 trucks, many of which hauled hazardous materials barred from the two harbor tunnels.[7][8]\n",
    "\n",
    "The bridge crossed one of the busiest shipping routes in the United States: the lower Patapsco River, which connects the Port of Baltimore to the Chesapeake Bay and the Atlantic Ocean.[5][7] In 2023, the port handled more than 444,000 passengers and 52.3 million tons of foreign cargo valued at $80 billion.[5] It was the second-largest U.S. port for coal, and had been the leading port for automobiles and light trucks for 13 straight years, handling more than 847,000 vehicles in 2023.[9][10] It employed 15,000 people and indirectly supported 140,000 others,[11] annually helping to generate $3.3 billion in wages and salaries, $2.6 billion in business revenue, and $400 million in state and local tax revenue.[8]\n",
    "\n",
    "MV Dali is a container ship registered in Singapore, and at the time of the allision[a] was operated by Synergy Marine Group[12] and owned by Grace Ocean Private Ltd,[13] both based in Singapore. A Neopanamax vessel completed in 2015, Dali has a length of 980 feet (300 m), a 157-foot (48 m) beam, and a 40-foot (12.2 m) draft.[14] Danish shipping company Maersk chartered Dali upon its delivery.[15] Once in service, Dali had undergone 27 inspections at ports globally,[16][17] including two in 2023: one in June in San Antonio, Chile, where a fuel-pressure gauge was repaired; and the second in September by the U.S. Coast Guard in New York, which found no problems.[18][19][17]\n",
    "\n",
    "In March 2024, Dali was crewed by 20 Indian nationals and one Sri Lankan.[20] The ship traveled from Panama to New York, arriving on March 19,[21] then sailed to the Virginia International Gateway in Portsmouth, Virginia.[22] The ship left Virginia on March 22 and the following day arrived in Baltimore,[23] where it underwent engine maintenance.[24][25]\n",
    "\n",
    "When the bridge was completed in 1977, the largest container ships could hold 2,000 to 3,000 twenty-foot equivalent unit (TEU) containers.[26] After the Panama Canal expansion began to allow the passage of 14,000-TEU vessels in 2016, the Maryland Port Administration installed new cranes and dredged the harbor to enable the port to accommodate the larger ships.[27] At the time of its collision, Dali was loaded nearly to its 10,000-TEU capacity with 4,700 forty-foot containers.[26]\n",
    "\n",
    "In 1980, a ship roughly one-third the size of Dali struck and lightly damaged one of the bridge's piers.[28][29] After the bridge collapsed in 2024, anonymous former agency officials told The Washington Post that the Maryland Transportation Authority (MDTA) did not consider studying the possibility of a collision with a larger ship, and instead spent decades studying how terrorists might attack the bridge after the September 11 attacks or inspecting for structural flaws similar to those that caused the I-35W Mississippi River bridge collapse in 2007.[30]\n",
    "\n",
    "Federal regulations for protecting bridges from ship collisions were updated in 1991 after the Sunshine Skyway Bridge collapse in 1980, but existing bridges were exempted by a grandfather clause, and the Francis Scott Key Bridge piers lacked the level of fender system or island barriers required of newer bridges.[31][32][33] However, engineering experts debate whether such bridge protection systems could have prevented the collapse given Dali's size.[34][35]\n",
    "Collapse\n",
    "Upstream view of the bridge in 2015; Dali hit the fourth pier from left.[36]\n",
    "MV Dali immobilized by the wreckage\n",
    "\n",
    "Dali left the Port of Baltimore at 12:44 a.m. EDT (04:44 UTC) on March 26, 2024,[37] bound for Colombo, Sri Lanka.[38] The ship had two local harbor pilots on board.[36] Following standard operating procedure in Baltimore, tugboats that piloted the ship from its berth were released once the ship was in the channel.[39][40][8] At 1:24 a.m.,[41][42] the ship suffered a \"complete blackout\" and began to drift out of the shipping channel; a backup generator supported electrical systems but did not provide power to the propulsion system.[43] At 1:27 a.m., a mayday call was made from the ship,[42] notifying the Maryland Department of Transportation that the crew had lost propulsion and control of the vessel and that a collision with the bridge was possible.[44]\n",
    "\n",
    "One of the pilots requested that traffic be stopped from crossing the bridge immediately.[45][46][47][48] The ship's lights went out and came on again some moments later; then again went off and returned just before impact as smoke once again began rising from the funnel.[36][49] At the pilot's request, the MDTA Police dispatch asked officers to stop traffic in both directions at 1:27:53 a.m.; outer loop (eastbound/northbound) traffic was stopped at the south side after 20 seconds. Inner loop (westbound/southbound) traffic was stopped at the north side by 1:28:58 a.m., around the time of the collapse.[50] The Maritime and Port Authority of Singapore (MPA) reported that the ship dropped anchor before hitting the bridge, as part of its emergency procedures.[45]\n",
    "\n",
    "At 1:28:45 a.m.,[51][52][53] the ship struck the southwest pier of the central truss arch span, at roughly 8 knots (9.2 mph; 15 km/h).[54] AIS data showed the ship traveling at a speed of 8.7 knots (10.0 mph; 16.1 km/h) at 1:25 a.m. before departing the channel and slowing to 6.8 knots (7.8 mph; 12.6 km/h) by the time of the collision two minutes later.[49][55]\n",
    "\n",
    "Within seconds of the collision, the bridge broke apart in several places,[56] leaving sections protruding from the water and the roadway's approaches cut off.[54] The main span fell onto the ship's bow and a section of it came to rest there.[45][57] The bridge strike and partial collapse were recorded on video.[58][59]\n",
    "\n",
    "Multiple vehicles were on the bridge at the time it collapsed, though initially no one was believed to be inside them.[54] Workers were repairing potholes on the bridge[54] and were in their vehicles on a break at the time of the collapse.[60] A resident living near the bridge recalled being awakened by deep rumbling that shook his residence for several seconds following the collapse, which he said \"felt like an earthquake\".[54]\n",
    "\n",
    "Emergency teams began receiving 911 calls at 1:30 a.m.[45] The Baltimore Police Department was alerted to the collapse at 1:35 a.m. Large rescue and recovery efforts were begun.[58] The Coast Guard deployed boats and a helicopter as part of rescue efforts.[45] Fifty public safety divers in eight teams were dispatched to search for people who fell into the river.[61][45]\n",
    "\"\"\""
   ]
  },
  {
   "cell_type": "code",
   "execution_count": 8,
   "id": "dbc8542e-0dd5-4fb6-93c3-2eefef71b196",
   "metadata": {
    "tags": []
   },
   "outputs": [],
   "source": [
    "substrings = [\n",
    "    \"\"\"Damage\n",
    "A labelled diagram of the bridge, with Dali's impact point and the collapsed sections illustrated\n",
    "Panoramic photography of the scene as depicted in the diagram.\n",
    "The collapsed portion of the bridge comprises the three spans under the metal truss, and three others to the northeast (left of the images, in Dundalk, Maryland; right is Hawkins Point, Baltimore).[45]\n",
    "2016 photo of the pier struck by the ship\n",
    "Aerial view of the damage\n",
    "\n",
    "The bridge's continuous truss relied on its overall structure to maintain integrity; in engineering terms, it was fracture critical, meaning it had no redundancy against removal of support of any particular part of it.[51] The collision destroyed its southwest main truss pier, causing the south and central spans to collapse, which led to the collapse of a northern span.[58][62] Each failure sequence took seconds, and within 30 seconds the entirety of the trussed spans, and three others, had fallen.[63]\n",
    "\n",
    "The bridge was determined to be fully compliant with the building code[which?] when it collapsed.[45] The bridge had dolphin and fender protection against ship impact, but these protections were insufficient.[32][64][65]\n",
    "\n",
    "Of Dali's 4,700 shipping containers, 13 were damaged in the collision.[19] Two fell into the water, neither of which carried hazardous substances.[66] Dali sustained hull damage above the water line and the ship was impaled by remnants of the bridge superstructure (estimated to be 3,000 to 4,000 tonnes of bridge wreckage),[67][68] which pressed it against the channel floor.[69][70] The ship remained watertight,[67] and the shipping company initially claimed there was no water pollution directly from the ship.[71][72] Authorities installed 2,400 feet (730 m) of water containment booms[73] around the ship after a sheen was detected in the waterway, which was believed to have been produced by 21 US gallons (17 imp gal; 79 L) of oil that leaked from a bow thruster on the ship.[74] On March 27, the National Transportation Safety Board (NTSB) announced an investigation into a hazmat spill resulting from breached containers aboard Dali, including some of the 56 containers that carried about 764 tons of hazardous materials: primarily corrosives, flammable substances (including lithium batteries), and Class 9 materials.\"\"\"\n",
    ",\n",
    "    \"\"\"Casualties\n",
    "\n",
    "NOAA reported a water temperature of 47 °F (8 °C) at the time of the collapse.[54] Two people were rescued from the river: one was in \"very serious\" condition and the other uninjured.[77] One of those rescued was a Mexican national.[13] Six people, all part of the maintenance crew working on the bridge, were reported missing and presumed dead following the suspension of a Coast Guard search.[1][45][78][79][80] One was identified as a Honduran national, two were from Guatemala, and the others were from El Salvador and Mexico.[13][42]\n",
    "\n",
    "Five submerged vehicles, including three passenger vehicles and a transit mixer, were detected using sonar.[81] Emergency services also used drones and infrared technology in the search.[51] The bodies of two of the maintenance crew were recovered from inside a red pickup truck: a 35-year-old Mexican national and a 26-year-old Guatemalan national.[1][82] They were found at a depth of 25 feet (7.6 m) below the mid-section of the bridge.[83] The search was suspended based on the condition of the debris and risk of further collapse.[1] On April 5, the body of a 38-year-old Honduran national was recovered from a submerged vehicle. A 35-year-old Guatemalan national, a 49-year-old Salvadoran national, and Mexican national remain among the missing.[84]\n",
    "\n",
    "Occupational Safety and Health Administration regulations require that construction companies keep skiffs available at construction sites over waterways. Coast Guard officials said they were unaware of whether the company that employed the highway workers had one available, and satellite imagery at the time of the bridge collapse does not appear to show one present at the bridge. The company declined to respond to press inquiries about whether a boat was available.[85]\n",
    "\n",
    "Dali's crew and the two pilots were accounted for and did not sustain any serious injuries.[71] One crew member was slightly injured and required some stitches.[66] Groups such as the Baltimore International Seafarers' Center made efforts to support the crew members as they remained on the boat,[86] including providing them with Wi-Fi hotspots.\"\"\",\n",
    "    \"\"\"Investigation\n",
    "External videos\n",
    "video icon Press conference with NTSB Chair Jennifer Homendy, March 26, 2024, C-SPAN\n",
    "Three people in FBI uniforms are on a boat. They are closely inspecting the mangled remains of bridge struts poking out of the water in front of them.\n",
    "An evidence response team from the FBI examines a segment of the bridge several hours after the collapse.\n",
    "Folding tables are arranged in rows and a square in a large presentation room in a police station. People in various uniforms representing many agencies are seated at the tables and focused on their laptops. The center of the room has a table piled with boxes of pizza, salads, and other provisions.\n",
    "Officials coordinating response and rescue efforts at the Maryland Transportation Authority headquarters on the day of the collapse\n",
    "\n",
    "The NTSB began an investigation and sent a team to the site.[88] The agency is expected to release a preliminary report two to four weeks after the collapse, and later issue urgent safety recommendations, while its investigation could take between 12 and 24 months.[1][89] The Federal Bureau of Investigation (FBI) was also deployed to the scene, but said that terrorism was not suspected in the incident.[90][54] On March 27, a Unified Command Joint Information Center was established to coordinate the investigation and salvage. The command includes team members from the U.S. Coast Guard, Maryland Department of the Environment, MDTA, Maryland State Police, and Synergy Marine, as the primary stakeholders.[91]\n",
    "\n",
    "As the flag state, Singapore's Transport Safety Investigation Bureau (TSIB) and the MPA sent personnel to Baltimore to help in investigations. The MPA said it offered support to the NTSB and the Office of Marine Safety.[92]\n",
    "\n",
    "NTSB personnel boarded the ship late on March 26 and obtained the voyage data recorder (VDR), which would help investigators develop a timeline of events leading up to the collision.[93][94] Several possible factors were being considered, including the possibility that contaminated fuel or an improper grade of fuel had caused the loss of the ship's power.[95][96][97] At a Senate Commerce Committee hearing on April 10, NTSB Chair Jennifer Homendy stated that the agency was gathering data about the ship's electrical system and examining its circuit breakers with the assistance of Hyundai Heavy Industries, Dali's shipbuilder.\"\"\"\n",
    "\"\"\"Aftermath\n",
    "\n",
    "The debris from the collapse has blocked maritime access to virtually the entirety of the Port of Baltimore; nearly 30 ships had signaled the port as their destination, and more than 40 were trapped.[106] Only one part of the Port of Baltimore was unaffected: the Tradepoint Atlantic marine terminal at Sparrows Point, on the seaward side of the Key Bridge.[107] Tradepoint Atlantic said on April 3 that it began preparing for an influx of redirected ships and estimated that it would unload and process 10,000 vehicles over the next 15 days.[108]\n",
    "\n",
    "Maryland governor Wes Moore declared a state of emergency shortly thereafter,[45] and Maryland Secretary of Transportation Paul Wiedefeld ordered the suspension of all shipping to and from the Port of Baltimore[109] until further notice; trucking facilities remained operational.[54] At 4:15 a.m., the Federal Aviation Administration imposed a 5-nautical-mile (5.8 mi; 9.3 km) temporary flight restriction around the incident site.[110] Maersk, which chartered the vessel,[111] saw the price of its shares decline by about 2% when trading opened at Nasdaq Copenhagen on March 26.[112]\n",
    "Salvage\n",
    "Chesapeake 1000 on-site\n",
    "\n",
    "The U.S. Army Corps of Engineers (USACE) is taking the lead in removing the fallen portions of the bridge. The U.S. Navy is planning to remove the submerged portions using barges with heavy-lift cranes, including the \"largest crane ship on the East Coast\": the Chesapeake 1000 of the Donjon Marine Co., able to lift 1,000 short tons (890 long tons; 910 t).[113][114] The designated salvor is Resolve Marine.[69] Thirty-two USACE personnel and 38 Navy contractors were deployed to the scene.[73] More than 1,100 engineering specialists were[needs update] to join them.[115] Seven floating cranes, ten tugboats, nine barges, eight salvage vessels, and five Coast Guard boats were deployed around the bridge.[116]\n",
    "\n",
    "On March 30, engineers began removing the first piece of the bridge from the river.[117][118][119] On April 1, the Coast Guard opened a temporary passage for commercial work vessels involved in recovery and clearing efforts, with a controlling depth of 11 feet (3.4 m), a horizontal clearance of 264 feet (80 m) and a vertical clearance of 96 feet (29 m),[120] and was approving ships' passage case by case.[121] The next day, the first work vessel used the alternate channel: a tugboat pushing a fuel barge to Dover Air Force Base in Delaware. A second channel was opened the next day, as work continued on a third channel.[122][123] On April 7, salvage crews started removing containers from Dali.\"\"\",\n",
    "\"\"\"Responses\n",
    "President Biden is briefed on the collapse\n",
    "External videos\n",
    "video icon Remarks by U.S. president Joe Biden on the bridge collapse, March 26, 2024, C-SPAN\n",
    "\n",
    "President Joe Biden was briefed on the disaster within hours of the collision.[54] U.S. Secretary of Transportation Pete Buttigieg contacted Maryland governor Wes Moore and Baltimore mayor Brandon Scott to offer his department's support.[161] Moore addressed the families of the victims in Spanish, saying, \"Estamos contigo, ahora y siempre [we are with you, now and always]\".[89] Maryland Center for History and Culture vice president David Belew said, \"Our harbor, port and many families are fundamentally changed\" by the disaster.[162] On March 27, Moore and Biden thanked Dali's crew for transmitting the mayday call warning of the ship's power failure and the impending collision.[163][164] On March 28, three officers of the MDTA were recognized at the opening game of the Baltimore Orioles for their role in stopping traffic before the bridge collapsed.[74]\n",
    "President Biden joins Governor Moore and local officials to speak near the bridge\n",
    "\n",
    "Biden visited the site on April 5; he surveyed the wreckage from Marine One and was later briefed by officials from the local government, the Coast Guard and USACE. He pledged the support of the federal government for a bridge replacement and the recovery effort \"every step of the way\", adding that \"the nation has your back\". He also met with families of the victims.[165][166]\n",
    "\n",
    "The Mexican embassy in the U.S. is providing consular assistance to the families, with a dedicated phone line for affected Mexican nationals.[167] Mexican president Andrés Manuel López Obrador said the disaster highlighted the contribution of migrants to the US economy and \"demonstrates that migrants go out and do risky jobs at midnight\".[168] Rafael Laveaga Rendón, head of the consular section, travelled to Baltimore to help the workers’ families.[169] It has been confirmed that one of the rescued was from Michoacán, while the two Mexican nationals who are still missing are from Michoacán and Veracruz.\"\"\"\n",
    "\"\"\"Replacement bridge\n",
    "\n",
    "In an address on March 26, Biden said that he would ask Congress to fund a replacement bridge.[170] On March 28, the federal government released an initial $60 million in emergency aid under the Emergency Relief (ER) Program of the Federal Highway Administration (FHWA) that is subsidized by the Highway Trust Fund.[74][171] Buttigieg also urged Congress to provide funding for a replacement bridge.[172] Senate Minority Leader Mitch McConnell said that it was the federal government's responsibility to absorb the costs.[173]\n",
    "\n",
    "The House Freedom Caucus issued a statement listing demands for their support of funding for a replacement bridge, including that the federal government seek maximum liability from the shipping companies upfront.[174][175] While vowing to hold those responsible for the bridge collapse accountable, Maryland Senator Ben Cardin argued against waiting for related litigation to be resolved and insurance claims to be approved, saying \"We're not going to delay opening our channel or rebuilding our bridge with the lengthy process that may take\", with which Buttigieg agreed.[166][176] On April 8, Moore stated that he would meet with members of Congress during the following week to discuss potential support for funding a replacement bridge.[177]\n",
    "\n",
    "While some engineering professors suggested that replacing the bridge could take as long as 10 years and cost at least $350 million,[70][178][179] a report issued by the Congressional Research Service (CRS) noted that replacement bridges can qualify for a Categorical Exclusion (CE) under the National Environmental Policy Act to accelerate regulatory review and project delivery and that the I-35W Saint Anthony Falls Bridge that replaced the I-35W Mississippi River bridge (which received a CE) was completed in 11 months, and repairs to the Sunshine Skyway Bridge took five years to complete.[171]\n",
    "\n",
    "The CRS report notes further that a replacement bridge could be eligible for additional funding from the FHWA ER Program that could cover 80% of the project cost since the bridge was a state highway, 90% of the project cost if the expenses cause the state government to exceed its federal-aid highway program funds for the fiscal year, or 100% of the project cost if Congress makes an exception for the project from the ER Program rules (which Congress did for the I-35W Saint Anthony Falls Bridge), while any state funds received from an approved insurance claim would offset funding awarded from the ER Program.[171] On April 9, the Maryland congressional delegation announced that they would introduce a bill to make an exception to the ER Program rules for a replacement bridge.\"\"\",\n",
    "]"
   ]
  },
  {
   "cell_type": "code",
   "execution_count": 9,
   "id": "f9582f29-335a-43f1-9bb3-d9bfb0c3543d",
   "metadata": {
    "tags": []
   },
   "outputs": [
    {
     "data": {
      "text/plain": [
       "4933"
      ]
     },
     "execution_count": 9,
     "metadata": {},
     "output_type": "execute_result"
    }
   ],
   "source": [
    "len(tokenizer(raw)['input_ids']) + sum([len(tokenizer(s)['input_ids']) for s in substrings])"
   ]
  },
  {
   "cell_type": "code",
   "execution_count": 10,
   "id": "721f563d-6745-4a72-80fd-97b684765ea5",
   "metadata": {
    "tags": []
   },
   "outputs": [],
   "source": [
    "resp = order_independent_llm.order_independent_query(\n",
    "            prefix=raw,\n",
    "            parallel_substrings=substrings,\n",
    "            suffix='\\n1 paragraph summary of the disaster, including damage, invesigation and casualty discussion.\\n',\n",
    "            model=model,\n",
    "            tokenizer=tokenizer,\n",
    "            max_new_tokens=200,\n",
    "            torch_device='cuda',\n",
    "            is_order_independent=False,\n",
    "        )"
   ]
  },
  {
   "cell_type": "code",
   "execution_count": 11,
   "id": "5f7308c4-3372-4f5f-bba1-c2d80ab66635",
   "metadata": {
    "tags": []
   },
   "outputs": [
    {
     "name": "stdout",
     "output_type": "stream",
     "text": [
      "On March 26, 2024, the Francis Scott Key Bridge in Baltimore, Maryland, collapsed after a container ship, MV Dali, struck one of its piers. The bridge, a steel arch-shaped continuous truss bridge, was damaged beyond repair, and three nearby approach spans also collapsed. The incident resulted in the deaths of six people, with two others rescued from the water. The ship, carrying 4,700 containers, including hazardous materials, was impaled by the bridge wreckage and remained watertight. The National Transportation Safety Board (NTSB) is investigating the incident, and the Federal Bureau of Investigation (FBI) is also involved. The collapse has blocked maritime access to the Port of Baltimore, and the U.S. Army Corps of Engineers and the U.S. Navy are working to remove the debris and restore the waterway. The incident has also raised concerns about the safety of the port and the potential for similar incidents in the future.\n",
      "\n",
      "References\n",
      "1. ^\n"
     ]
    }
   ],
   "source": [
    "print(resp.text_output)"
   ]
  },
  {
   "cell_type": "code",
   "execution_count": 13,
   "id": "64954d0a-7e0c-4d6c-8df5-0a9061a9f682",
   "metadata": {
    "tags": []
   },
   "outputs": [
    {
     "ename": "OutOfMemoryError",
     "evalue": "CUDA out of memory. Tried to allocate 2.93 GiB. GPU 0 has a total capacty of 79.15 GiB of which 2.05 GiB is free. Including non-PyTorch memory, this process has 77.08 GiB memory in use. Of the allocated memory 35.09 GiB is allocated by PyTorch, and 255.94 MiB is reserved by PyTorch but unallocated. If reserved but unallocated memory is large try setting max_split_size_mb to avoid fragmentation.  See documentation for Memory Management and PYTORCH_CUDA_ALLOC_CONF",
     "output_type": "error",
     "traceback": [
      "\u001b[0;31m---------------------------------------------------------------------------\u001b[0m",
      "\u001b[0;31mOutOfMemoryError\u001b[0m                          Traceback (most recent call last)",
      "Cell \u001b[0;32mIn[13], line 1\u001b[0m\n\u001b[0;32m----> 1\u001b[0m resp_oi \u001b[38;5;241m=\u001b[39m \u001b[43morder_independent_llm\u001b[49m\u001b[38;5;241;43m.\u001b[39;49m\u001b[43morder_independent_query\u001b[49m\u001b[43m(\u001b[49m\n\u001b[1;32m      2\u001b[0m \u001b[43m            \u001b[49m\u001b[43mprefix\u001b[49m\u001b[38;5;241;43m=\u001b[39;49m\u001b[43mraw\u001b[49m\u001b[43m,\u001b[49m\n\u001b[1;32m      3\u001b[0m \u001b[43m            \u001b[49m\u001b[43mparallel_substrings\u001b[49m\u001b[38;5;241;43m=\u001b[39;49m\u001b[43msubstrings\u001b[49m\u001b[43m,\u001b[49m\n\u001b[1;32m      4\u001b[0m \u001b[43m            \u001b[49m\u001b[43msuffix\u001b[49m\u001b[38;5;241;43m=\u001b[39;49m\u001b[38;5;124;43m'\u001b[39;49m\u001b[38;5;130;43;01m\\n\u001b[39;49;00m\u001b[38;5;124;43m1 paragraph summary of the disaster, including damage, invesigation and casualty discussion.\u001b[39;49m\u001b[38;5;130;43;01m\\n\u001b[39;49;00m\u001b[38;5;124;43m'\u001b[39;49m\u001b[43m,\u001b[49m\n\u001b[1;32m      5\u001b[0m \u001b[43m            \u001b[49m\u001b[43mmodel\u001b[49m\u001b[38;5;241;43m=\u001b[39;49m\u001b[43mmodel\u001b[49m\u001b[43m,\u001b[49m\n\u001b[1;32m      6\u001b[0m \u001b[43m            \u001b[49m\u001b[43mtokenizer\u001b[49m\u001b[38;5;241;43m=\u001b[39;49m\u001b[43mtokenizer\u001b[49m\u001b[43m,\u001b[49m\n\u001b[1;32m      7\u001b[0m \u001b[43m            \u001b[49m\u001b[43mmax_new_tokens\u001b[49m\u001b[38;5;241;43m=\u001b[39;49m\u001b[38;5;241;43m200\u001b[39;49m\u001b[43m,\u001b[49m\n\u001b[1;32m      8\u001b[0m \u001b[43m            \u001b[49m\u001b[43mtorch_device\u001b[49m\u001b[38;5;241;43m=\u001b[39;49m\u001b[38;5;124;43m'\u001b[39;49m\u001b[38;5;124;43mcuda\u001b[39;49m\u001b[38;5;124;43m'\u001b[39;49m\u001b[43m,\u001b[49m\n\u001b[1;32m      9\u001b[0m \u001b[43m            \u001b[49m\u001b[43mis_order_independent\u001b[49m\u001b[38;5;241;43m=\u001b[39;49m\u001b[38;5;28;43;01mTrue\u001b[39;49;00m\u001b[43m,\u001b[49m\n\u001b[1;32m     10\u001b[0m \u001b[43m        \u001b[49m\u001b[43m)\u001b[49m\n",
      "File \u001b[0;32m/n/holylabs/LABS/dwork_lab/Lab/reidmcy/projects/triple_queries_order_dependence/order_independent_llm/input_processing.py:407\u001b[0m, in \u001b[0;36morder_independent_query\u001b[0;34m(prefix, parallel_substrings, suffix, model, tokenizer, max_new_tokens, is_order_independent, torch_device, modify_model, edit_position, edit_attention, pad_attention, metadata)\u001b[0m\n\u001b[1;32m    405\u001b[0m     \u001b[38;5;28;01mif\u001b[39;00m modify_model:\n\u001b[1;32m    406\u001b[0m         model \u001b[38;5;241m=\u001b[39m get_2D_attention_accepting_model(model)\n\u001b[0;32m--> 407\u001b[0m     generated \u001b[38;5;241m=\u001b[39m \u001b[43mmodel\u001b[49m\u001b[38;5;241;43m.\u001b[39;49m\u001b[43mgenerate\u001b[49m\u001b[43m(\u001b[49m\n\u001b[1;32m    408\u001b[0m \u001b[43m        \u001b[49m\u001b[43mtokAll\u001b[49m\u001b[43m[\u001b[49m\u001b[38;5;124;43m\"\u001b[39;49m\u001b[38;5;124;43minput_ids\u001b[39;49m\u001b[38;5;124;43m\"\u001b[39;49m\u001b[43m]\u001b[49m\u001b[43m,\u001b[49m\n\u001b[1;32m    409\u001b[0m \u001b[43m        \u001b[49m\u001b[43mmax_new_tokens\u001b[49m\u001b[38;5;241;43m=\u001b[39;49m\u001b[43mmax_new_tokens\u001b[49m\u001b[43m,\u001b[49m\n\u001b[1;32m    410\u001b[0m \u001b[43m        \u001b[49m\u001b[43mattention_mask\u001b[49m\u001b[38;5;241;43m=\u001b[39;49m\u001b[43mattention_mask_2d\u001b[49m\u001b[43m,\u001b[49m\n\u001b[1;32m    411\u001b[0m \u001b[43m        \u001b[49m\u001b[43mposition_ids\u001b[49m\u001b[38;5;241;43m=\u001b[39;49m\u001b[43mposition_ids\u001b[49m\u001b[43m,\u001b[49m\n\u001b[1;32m    412\u001b[0m \u001b[43m        \u001b[49m\u001b[43mreturn_dict_in_generate\u001b[49m\u001b[38;5;241;43m=\u001b[39;49m\u001b[38;5;28;43;01mTrue\u001b[39;49;00m\u001b[43m,\u001b[49m\n\u001b[1;32m    413\u001b[0m \u001b[43m        \u001b[49m\u001b[43moutput_scores\u001b[49m\u001b[38;5;241;43m=\u001b[39;49m\u001b[38;5;28;43;01mTrue\u001b[39;49;00m\u001b[43m,\u001b[49m\n\u001b[1;32m    414\u001b[0m \u001b[43m        \u001b[49m\u001b[43mdo_sample\u001b[49m\u001b[38;5;241;43m=\u001b[39;49m\u001b[38;5;28;43;01mFalse\u001b[39;49;00m\u001b[43m,\u001b[49m\n\u001b[1;32m    415\u001b[0m \u001b[43m        \u001b[49m\u001b[43mpad_token_id\u001b[49m\u001b[38;5;241;43m=\u001b[39;49m\u001b[43mtokenizer\u001b[49m\u001b[38;5;241;43m.\u001b[39;49m\u001b[43meos_token_id\u001b[49m\u001b[43m,\u001b[49m\n\u001b[1;32m    416\u001b[0m \u001b[43m    \u001b[49m\u001b[43m)\u001b[49m\n\u001b[1;32m    417\u001b[0m text \u001b[38;5;241m=\u001b[39m tokenizer\u001b[38;5;241m.\u001b[39mdecode(generated\u001b[38;5;241m.\u001b[39msequences[\u001b[38;5;241m0\u001b[39m], skip_special_tokens\u001b[38;5;241m=\u001b[39m\u001b[38;5;28;01mTrue\u001b[39;00m)[\n\u001b[1;32m    418\u001b[0m     inputPromptLen:\n\u001b[1;32m    419\u001b[0m ]\n\u001b[1;32m    420\u001b[0m is_correct_answer,correct_answer_prob\u001b[38;5;241m=\u001b[39m\u001b[38;5;28;01mNone\u001b[39;00m,\u001b[38;5;28;01mNone\u001b[39;00m\n",
      "File \u001b[0;32m~/.conda/envs/cuda_11/lib/python3.11/site-packages/torch/utils/_contextlib.py:115\u001b[0m, in \u001b[0;36mcontext_decorator.<locals>.decorate_context\u001b[0;34m(*args, **kwargs)\u001b[0m\n\u001b[1;32m    112\u001b[0m \u001b[38;5;129m@functools\u001b[39m\u001b[38;5;241m.\u001b[39mwraps(func)\n\u001b[1;32m    113\u001b[0m \u001b[38;5;28;01mdef\u001b[39;00m \u001b[38;5;21mdecorate_context\u001b[39m(\u001b[38;5;241m*\u001b[39margs, \u001b[38;5;241m*\u001b[39m\u001b[38;5;241m*\u001b[39mkwargs):\n\u001b[1;32m    114\u001b[0m     \u001b[38;5;28;01mwith\u001b[39;00m ctx_factory():\n\u001b[0;32m--> 115\u001b[0m         \u001b[38;5;28;01mreturn\u001b[39;00m \u001b[43mfunc\u001b[49m\u001b[43m(\u001b[49m\u001b[38;5;241;43m*\u001b[39;49m\u001b[43margs\u001b[49m\u001b[43m,\u001b[49m\u001b[43m \u001b[49m\u001b[38;5;241;43m*\u001b[39;49m\u001b[38;5;241;43m*\u001b[39;49m\u001b[43mkwargs\u001b[49m\u001b[43m)\u001b[49m\n",
      "File \u001b[0;32m~/.conda/envs/cuda_11/lib/python3.11/site-packages/transformers/generation/utils.py:1479\u001b[0m, in \u001b[0;36mGenerationMixin.generate\u001b[0;34m(self, inputs, generation_config, logits_processor, stopping_criteria, prefix_allowed_tokens_fn, synced_gpus, assistant_model, streamer, negative_prompt_ids, negative_prompt_attention_mask, **kwargs)\u001b[0m\n\u001b[1;32m   1462\u001b[0m     \u001b[38;5;28;01mreturn\u001b[39;00m \u001b[38;5;28mself\u001b[39m\u001b[38;5;241m.\u001b[39massisted_decoding(\n\u001b[1;32m   1463\u001b[0m         input_ids,\n\u001b[1;32m   1464\u001b[0m         candidate_generator\u001b[38;5;241m=\u001b[39mcandidate_generator,\n\u001b[0;32m   (...)\u001b[0m\n\u001b[1;32m   1475\u001b[0m         \u001b[38;5;241m*\u001b[39m\u001b[38;5;241m*\u001b[39mmodel_kwargs,\n\u001b[1;32m   1476\u001b[0m     )\n\u001b[1;32m   1477\u001b[0m \u001b[38;5;28;01mif\u001b[39;00m generation_mode \u001b[38;5;241m==\u001b[39m GenerationMode\u001b[38;5;241m.\u001b[39mGREEDY_SEARCH:\n\u001b[1;32m   1478\u001b[0m     \u001b[38;5;66;03m# 11. run greedy search\u001b[39;00m\n\u001b[0;32m-> 1479\u001b[0m     \u001b[38;5;28;01mreturn\u001b[39;00m \u001b[38;5;28;43mself\u001b[39;49m\u001b[38;5;241;43m.\u001b[39;49m\u001b[43mgreedy_search\u001b[49m\u001b[43m(\u001b[49m\n\u001b[1;32m   1480\u001b[0m \u001b[43m        \u001b[49m\u001b[43minput_ids\u001b[49m\u001b[43m,\u001b[49m\n\u001b[1;32m   1481\u001b[0m \u001b[43m        \u001b[49m\u001b[43mlogits_processor\u001b[49m\u001b[38;5;241;43m=\u001b[39;49m\u001b[43mprepared_logits_processor\u001b[49m\u001b[43m,\u001b[49m\n\u001b[1;32m   1482\u001b[0m \u001b[43m        \u001b[49m\u001b[43mstopping_criteria\u001b[49m\u001b[38;5;241;43m=\u001b[39;49m\u001b[43mprepared_stopping_criteria\u001b[49m\u001b[43m,\u001b[49m\n\u001b[1;32m   1483\u001b[0m \u001b[43m        \u001b[49m\u001b[43mpad_token_id\u001b[49m\u001b[38;5;241;43m=\u001b[39;49m\u001b[43mgeneration_config\u001b[49m\u001b[38;5;241;43m.\u001b[39;49m\u001b[43mpad_token_id\u001b[49m\u001b[43m,\u001b[49m\n\u001b[1;32m   1484\u001b[0m \u001b[43m        \u001b[49m\u001b[43meos_token_id\u001b[49m\u001b[38;5;241;43m=\u001b[39;49m\u001b[43mgeneration_config\u001b[49m\u001b[38;5;241;43m.\u001b[39;49m\u001b[43meos_token_id\u001b[49m\u001b[43m,\u001b[49m\n\u001b[1;32m   1485\u001b[0m \u001b[43m        \u001b[49m\u001b[43moutput_scores\u001b[49m\u001b[38;5;241;43m=\u001b[39;49m\u001b[43mgeneration_config\u001b[49m\u001b[38;5;241;43m.\u001b[39;49m\u001b[43moutput_scores\u001b[49m\u001b[43m,\u001b[49m\n\u001b[1;32m   1486\u001b[0m \u001b[43m        \u001b[49m\u001b[43mreturn_dict_in_generate\u001b[49m\u001b[38;5;241;43m=\u001b[39;49m\u001b[43mgeneration_config\u001b[49m\u001b[38;5;241;43m.\u001b[39;49m\u001b[43mreturn_dict_in_generate\u001b[49m\u001b[43m,\u001b[49m\n\u001b[1;32m   1487\u001b[0m \u001b[43m        \u001b[49m\u001b[43msynced_gpus\u001b[49m\u001b[38;5;241;43m=\u001b[39;49m\u001b[43msynced_gpus\u001b[49m\u001b[43m,\u001b[49m\n\u001b[1;32m   1488\u001b[0m \u001b[43m        \u001b[49m\u001b[43mstreamer\u001b[49m\u001b[38;5;241;43m=\u001b[39;49m\u001b[43mstreamer\u001b[49m\u001b[43m,\u001b[49m\n\u001b[1;32m   1489\u001b[0m \u001b[43m        \u001b[49m\u001b[38;5;241;43m*\u001b[39;49m\u001b[38;5;241;43m*\u001b[39;49m\u001b[43mmodel_kwargs\u001b[49m\u001b[43m,\u001b[49m\n\u001b[1;32m   1490\u001b[0m \u001b[43m    \u001b[49m\u001b[43m)\u001b[49m\n\u001b[1;32m   1492\u001b[0m \u001b[38;5;28;01melif\u001b[39;00m generation_mode \u001b[38;5;241m==\u001b[39m GenerationMode\u001b[38;5;241m.\u001b[39mCONTRASTIVE_SEARCH:\n\u001b[1;32m   1493\u001b[0m     \u001b[38;5;28;01mif\u001b[39;00m \u001b[38;5;129;01mnot\u001b[39;00m model_kwargs[\u001b[38;5;124m\"\u001b[39m\u001b[38;5;124muse_cache\u001b[39m\u001b[38;5;124m\"\u001b[39m]:\n",
      "File \u001b[0;32m~/.conda/envs/cuda_11/lib/python3.11/site-packages/transformers/generation/utils.py:2316\u001b[0m, in \u001b[0;36mGenerationMixin.greedy_search\u001b[0;34m(self, input_ids, logits_processor, stopping_criteria, max_length, pad_token_id, eos_token_id, output_attentions, output_hidden_states, output_scores, return_dict_in_generate, synced_gpus, streamer, **model_kwargs)\u001b[0m\n\u001b[1;32m   2313\u001b[0m model_inputs \u001b[38;5;241m=\u001b[39m \u001b[38;5;28mself\u001b[39m\u001b[38;5;241m.\u001b[39mprepare_inputs_for_generation(input_ids, \u001b[38;5;241m*\u001b[39m\u001b[38;5;241m*\u001b[39mmodel_kwargs)\n\u001b[1;32m   2315\u001b[0m \u001b[38;5;66;03m# forward pass to get next token\u001b[39;00m\n\u001b[0;32m-> 2316\u001b[0m outputs \u001b[38;5;241m=\u001b[39m \u001b[38;5;28;43mself\u001b[39;49m\u001b[43m(\u001b[49m\n\u001b[1;32m   2317\u001b[0m \u001b[43m    \u001b[49m\u001b[38;5;241;43m*\u001b[39;49m\u001b[38;5;241;43m*\u001b[39;49m\u001b[43mmodel_inputs\u001b[49m\u001b[43m,\u001b[49m\n\u001b[1;32m   2318\u001b[0m \u001b[43m    \u001b[49m\u001b[43mreturn_dict\u001b[49m\u001b[38;5;241;43m=\u001b[39;49m\u001b[38;5;28;43;01mTrue\u001b[39;49;00m\u001b[43m,\u001b[49m\n\u001b[1;32m   2319\u001b[0m \u001b[43m    \u001b[49m\u001b[43moutput_attentions\u001b[49m\u001b[38;5;241;43m=\u001b[39;49m\u001b[43moutput_attentions\u001b[49m\u001b[43m,\u001b[49m\n\u001b[1;32m   2320\u001b[0m \u001b[43m    \u001b[49m\u001b[43moutput_hidden_states\u001b[49m\u001b[38;5;241;43m=\u001b[39;49m\u001b[43moutput_hidden_states\u001b[49m\u001b[43m,\u001b[49m\n\u001b[1;32m   2321\u001b[0m \u001b[43m\u001b[49m\u001b[43m)\u001b[49m\n\u001b[1;32m   2323\u001b[0m \u001b[38;5;28;01mif\u001b[39;00m synced_gpus \u001b[38;5;129;01mand\u001b[39;00m this_peer_finished:\n\u001b[1;32m   2324\u001b[0m     \u001b[38;5;28;01mcontinue\u001b[39;00m  \u001b[38;5;66;03m# don't waste resources running the code we don't need\u001b[39;00m\n",
      "File \u001b[0;32m~/.conda/envs/cuda_11/lib/python3.11/site-packages/torch/nn/modules/module.py:1518\u001b[0m, in \u001b[0;36mModule._wrapped_call_impl\u001b[0;34m(self, *args, **kwargs)\u001b[0m\n\u001b[1;32m   1516\u001b[0m     \u001b[38;5;28;01mreturn\u001b[39;00m \u001b[38;5;28mself\u001b[39m\u001b[38;5;241m.\u001b[39m_compiled_call_impl(\u001b[38;5;241m*\u001b[39margs, \u001b[38;5;241m*\u001b[39m\u001b[38;5;241m*\u001b[39mkwargs)  \u001b[38;5;66;03m# type: ignore[misc]\u001b[39;00m\n\u001b[1;32m   1517\u001b[0m \u001b[38;5;28;01melse\u001b[39;00m:\n\u001b[0;32m-> 1518\u001b[0m     \u001b[38;5;28;01mreturn\u001b[39;00m \u001b[38;5;28;43mself\u001b[39;49m\u001b[38;5;241;43m.\u001b[39;49m\u001b[43m_call_impl\u001b[49m\u001b[43m(\u001b[49m\u001b[38;5;241;43m*\u001b[39;49m\u001b[43margs\u001b[49m\u001b[43m,\u001b[49m\u001b[43m \u001b[49m\u001b[38;5;241;43m*\u001b[39;49m\u001b[38;5;241;43m*\u001b[39;49m\u001b[43mkwargs\u001b[49m\u001b[43m)\u001b[49m\n",
      "File \u001b[0;32m~/.conda/envs/cuda_11/lib/python3.11/site-packages/torch/nn/modules/module.py:1527\u001b[0m, in \u001b[0;36mModule._call_impl\u001b[0;34m(self, *args, **kwargs)\u001b[0m\n\u001b[1;32m   1522\u001b[0m \u001b[38;5;66;03m# If we don't have any hooks, we want to skip the rest of the logic in\u001b[39;00m\n\u001b[1;32m   1523\u001b[0m \u001b[38;5;66;03m# this function, and just call forward.\u001b[39;00m\n\u001b[1;32m   1524\u001b[0m \u001b[38;5;28;01mif\u001b[39;00m \u001b[38;5;129;01mnot\u001b[39;00m (\u001b[38;5;28mself\u001b[39m\u001b[38;5;241m.\u001b[39m_backward_hooks \u001b[38;5;129;01mor\u001b[39;00m \u001b[38;5;28mself\u001b[39m\u001b[38;5;241m.\u001b[39m_backward_pre_hooks \u001b[38;5;129;01mor\u001b[39;00m \u001b[38;5;28mself\u001b[39m\u001b[38;5;241m.\u001b[39m_forward_hooks \u001b[38;5;129;01mor\u001b[39;00m \u001b[38;5;28mself\u001b[39m\u001b[38;5;241m.\u001b[39m_forward_pre_hooks\n\u001b[1;32m   1525\u001b[0m         \u001b[38;5;129;01mor\u001b[39;00m _global_backward_pre_hooks \u001b[38;5;129;01mor\u001b[39;00m _global_backward_hooks\n\u001b[1;32m   1526\u001b[0m         \u001b[38;5;129;01mor\u001b[39;00m _global_forward_hooks \u001b[38;5;129;01mor\u001b[39;00m _global_forward_pre_hooks):\n\u001b[0;32m-> 1527\u001b[0m     \u001b[38;5;28;01mreturn\u001b[39;00m \u001b[43mforward_call\u001b[49m\u001b[43m(\u001b[49m\u001b[38;5;241;43m*\u001b[39;49m\u001b[43margs\u001b[49m\u001b[43m,\u001b[49m\u001b[43m \u001b[49m\u001b[38;5;241;43m*\u001b[39;49m\u001b[38;5;241;43m*\u001b[39;49m\u001b[43mkwargs\u001b[49m\u001b[43m)\u001b[49m\n\u001b[1;32m   1529\u001b[0m \u001b[38;5;28;01mtry\u001b[39;00m:\n\u001b[1;32m   1530\u001b[0m     result \u001b[38;5;241m=\u001b[39m \u001b[38;5;28;01mNone\u001b[39;00m\n",
      "File \u001b[0;32m~/.conda/envs/cuda_11/lib/python3.11/site-packages/transformers/models/llama/modeling_llama.py:1188\u001b[0m, in \u001b[0;36mLlamaForCausalLM.forward\u001b[0;34m(self, input_ids, attention_mask, position_ids, past_key_values, inputs_embeds, labels, use_cache, output_attentions, output_hidden_states, return_dict)\u001b[0m\n\u001b[1;32m   1185\u001b[0m return_dict \u001b[38;5;241m=\u001b[39m return_dict \u001b[38;5;28;01mif\u001b[39;00m return_dict \u001b[38;5;129;01mis\u001b[39;00m \u001b[38;5;129;01mnot\u001b[39;00m \u001b[38;5;28;01mNone\u001b[39;00m \u001b[38;5;28;01melse\u001b[39;00m \u001b[38;5;28mself\u001b[39m\u001b[38;5;241m.\u001b[39mconfig\u001b[38;5;241m.\u001b[39muse_return_dict\n\u001b[1;32m   1187\u001b[0m \u001b[38;5;66;03m# decoder outputs consists of (dec_features, layer_state, dec_hidden, dec_attn)\u001b[39;00m\n\u001b[0;32m-> 1188\u001b[0m outputs \u001b[38;5;241m=\u001b[39m \u001b[38;5;28;43mself\u001b[39;49m\u001b[38;5;241;43m.\u001b[39;49m\u001b[43mmodel\u001b[49m\u001b[43m(\u001b[49m\n\u001b[1;32m   1189\u001b[0m \u001b[43m    \u001b[49m\u001b[43minput_ids\u001b[49m\u001b[38;5;241;43m=\u001b[39;49m\u001b[43minput_ids\u001b[49m\u001b[43m,\u001b[49m\n\u001b[1;32m   1190\u001b[0m \u001b[43m    \u001b[49m\u001b[43mattention_mask\u001b[49m\u001b[38;5;241;43m=\u001b[39;49m\u001b[43mattention_mask\u001b[49m\u001b[43m,\u001b[49m\n\u001b[1;32m   1191\u001b[0m \u001b[43m    \u001b[49m\u001b[43mposition_ids\u001b[49m\u001b[38;5;241;43m=\u001b[39;49m\u001b[43mposition_ids\u001b[49m\u001b[43m,\u001b[49m\n\u001b[1;32m   1192\u001b[0m \u001b[43m    \u001b[49m\u001b[43mpast_key_values\u001b[49m\u001b[38;5;241;43m=\u001b[39;49m\u001b[43mpast_key_values\u001b[49m\u001b[43m,\u001b[49m\n\u001b[1;32m   1193\u001b[0m \u001b[43m    \u001b[49m\u001b[43minputs_embeds\u001b[49m\u001b[38;5;241;43m=\u001b[39;49m\u001b[43minputs_embeds\u001b[49m\u001b[43m,\u001b[49m\n\u001b[1;32m   1194\u001b[0m \u001b[43m    \u001b[49m\u001b[43muse_cache\u001b[49m\u001b[38;5;241;43m=\u001b[39;49m\u001b[43muse_cache\u001b[49m\u001b[43m,\u001b[49m\n\u001b[1;32m   1195\u001b[0m \u001b[43m    \u001b[49m\u001b[43moutput_attentions\u001b[49m\u001b[38;5;241;43m=\u001b[39;49m\u001b[43moutput_attentions\u001b[49m\u001b[43m,\u001b[49m\n\u001b[1;32m   1196\u001b[0m \u001b[43m    \u001b[49m\u001b[43moutput_hidden_states\u001b[49m\u001b[38;5;241;43m=\u001b[39;49m\u001b[43moutput_hidden_states\u001b[49m\u001b[43m,\u001b[49m\n\u001b[1;32m   1197\u001b[0m \u001b[43m    \u001b[49m\u001b[43mreturn_dict\u001b[49m\u001b[38;5;241;43m=\u001b[39;49m\u001b[43mreturn_dict\u001b[49m\u001b[43m,\u001b[49m\n\u001b[1;32m   1198\u001b[0m \u001b[43m\u001b[49m\u001b[43m)\u001b[49m\n\u001b[1;32m   1200\u001b[0m hidden_states \u001b[38;5;241m=\u001b[39m outputs[\u001b[38;5;241m0\u001b[39m]\n\u001b[1;32m   1201\u001b[0m \u001b[38;5;28;01mif\u001b[39;00m \u001b[38;5;28mself\u001b[39m\u001b[38;5;241m.\u001b[39mconfig\u001b[38;5;241m.\u001b[39mpretraining_tp \u001b[38;5;241m>\u001b[39m \u001b[38;5;241m1\u001b[39m:\n",
      "File \u001b[0;32m~/.conda/envs/cuda_11/lib/python3.11/site-packages/torch/nn/modules/module.py:1518\u001b[0m, in \u001b[0;36mModule._wrapped_call_impl\u001b[0;34m(self, *args, **kwargs)\u001b[0m\n\u001b[1;32m   1516\u001b[0m     \u001b[38;5;28;01mreturn\u001b[39;00m \u001b[38;5;28mself\u001b[39m\u001b[38;5;241m.\u001b[39m_compiled_call_impl(\u001b[38;5;241m*\u001b[39margs, \u001b[38;5;241m*\u001b[39m\u001b[38;5;241m*\u001b[39mkwargs)  \u001b[38;5;66;03m# type: ignore[misc]\u001b[39;00m\n\u001b[1;32m   1517\u001b[0m \u001b[38;5;28;01melse\u001b[39;00m:\n\u001b[0;32m-> 1518\u001b[0m     \u001b[38;5;28;01mreturn\u001b[39;00m \u001b[38;5;28;43mself\u001b[39;49m\u001b[38;5;241;43m.\u001b[39;49m\u001b[43m_call_impl\u001b[49m\u001b[43m(\u001b[49m\u001b[38;5;241;43m*\u001b[39;49m\u001b[43margs\u001b[49m\u001b[43m,\u001b[49m\u001b[43m \u001b[49m\u001b[38;5;241;43m*\u001b[39;49m\u001b[38;5;241;43m*\u001b[39;49m\u001b[43mkwargs\u001b[49m\u001b[43m)\u001b[49m\n",
      "File \u001b[0;32m~/.conda/envs/cuda_11/lib/python3.11/site-packages/torch/nn/modules/module.py:1527\u001b[0m, in \u001b[0;36mModule._call_impl\u001b[0;34m(self, *args, **kwargs)\u001b[0m\n\u001b[1;32m   1522\u001b[0m \u001b[38;5;66;03m# If we don't have any hooks, we want to skip the rest of the logic in\u001b[39;00m\n\u001b[1;32m   1523\u001b[0m \u001b[38;5;66;03m# this function, and just call forward.\u001b[39;00m\n\u001b[1;32m   1524\u001b[0m \u001b[38;5;28;01mif\u001b[39;00m \u001b[38;5;129;01mnot\u001b[39;00m (\u001b[38;5;28mself\u001b[39m\u001b[38;5;241m.\u001b[39m_backward_hooks \u001b[38;5;129;01mor\u001b[39;00m \u001b[38;5;28mself\u001b[39m\u001b[38;5;241m.\u001b[39m_backward_pre_hooks \u001b[38;5;129;01mor\u001b[39;00m \u001b[38;5;28mself\u001b[39m\u001b[38;5;241m.\u001b[39m_forward_hooks \u001b[38;5;129;01mor\u001b[39;00m \u001b[38;5;28mself\u001b[39m\u001b[38;5;241m.\u001b[39m_forward_pre_hooks\n\u001b[1;32m   1525\u001b[0m         \u001b[38;5;129;01mor\u001b[39;00m _global_backward_pre_hooks \u001b[38;5;129;01mor\u001b[39;00m _global_backward_hooks\n\u001b[1;32m   1526\u001b[0m         \u001b[38;5;129;01mor\u001b[39;00m _global_forward_hooks \u001b[38;5;129;01mor\u001b[39;00m _global_forward_pre_hooks):\n\u001b[0;32m-> 1527\u001b[0m     \u001b[38;5;28;01mreturn\u001b[39;00m \u001b[43mforward_call\u001b[49m\u001b[43m(\u001b[49m\u001b[38;5;241;43m*\u001b[39;49m\u001b[43margs\u001b[49m\u001b[43m,\u001b[49m\u001b[43m \u001b[49m\u001b[38;5;241;43m*\u001b[39;49m\u001b[38;5;241;43m*\u001b[39;49m\u001b[43mkwargs\u001b[49m\u001b[43m)\u001b[49m\n\u001b[1;32m   1529\u001b[0m \u001b[38;5;28;01mtry\u001b[39;00m:\n\u001b[1;32m   1530\u001b[0m     result \u001b[38;5;241m=\u001b[39m \u001b[38;5;28;01mNone\u001b[39;00m\n",
      "File \u001b[0;32m~/.conda/envs/cuda_11/lib/python3.11/site-packages/transformers/models/llama/modeling_llama.py:1075\u001b[0m, in \u001b[0;36mLlamaModel.forward\u001b[0;34m(self, input_ids, attention_mask, position_ids, past_key_values, inputs_embeds, use_cache, output_attentions, output_hidden_states, return_dict)\u001b[0m\n\u001b[1;32m   1065\u001b[0m     layer_outputs \u001b[38;5;241m=\u001b[39m \u001b[38;5;28mself\u001b[39m\u001b[38;5;241m.\u001b[39m_gradient_checkpointing_func(\n\u001b[1;32m   1066\u001b[0m         decoder_layer\u001b[38;5;241m.\u001b[39m\u001b[38;5;21m__call__\u001b[39m,\n\u001b[1;32m   1067\u001b[0m         hidden_states,\n\u001b[0;32m   (...)\u001b[0m\n\u001b[1;32m   1072\u001b[0m         use_cache,\n\u001b[1;32m   1073\u001b[0m     )\n\u001b[1;32m   1074\u001b[0m \u001b[38;5;28;01melse\u001b[39;00m:\n\u001b[0;32m-> 1075\u001b[0m     layer_outputs \u001b[38;5;241m=\u001b[39m \u001b[43mdecoder_layer\u001b[49m\u001b[43m(\u001b[49m\n\u001b[1;32m   1076\u001b[0m \u001b[43m        \u001b[49m\u001b[43mhidden_states\u001b[49m\u001b[43m,\u001b[49m\n\u001b[1;32m   1077\u001b[0m \u001b[43m        \u001b[49m\u001b[43mattention_mask\u001b[49m\u001b[38;5;241;43m=\u001b[39;49m\u001b[43mattention_mask\u001b[49m\u001b[43m,\u001b[49m\n\u001b[1;32m   1078\u001b[0m \u001b[43m        \u001b[49m\u001b[43mposition_ids\u001b[49m\u001b[38;5;241;43m=\u001b[39;49m\u001b[43mposition_ids\u001b[49m\u001b[43m,\u001b[49m\n\u001b[1;32m   1079\u001b[0m \u001b[43m        \u001b[49m\u001b[43mpast_key_value\u001b[49m\u001b[38;5;241;43m=\u001b[39;49m\u001b[43mpast_key_values\u001b[49m\u001b[43m,\u001b[49m\n\u001b[1;32m   1080\u001b[0m \u001b[43m        \u001b[49m\u001b[43moutput_attentions\u001b[49m\u001b[38;5;241;43m=\u001b[39;49m\u001b[43moutput_attentions\u001b[49m\u001b[43m,\u001b[49m\n\u001b[1;32m   1081\u001b[0m \u001b[43m        \u001b[49m\u001b[43muse_cache\u001b[49m\u001b[38;5;241;43m=\u001b[39;49m\u001b[43muse_cache\u001b[49m\u001b[43m,\u001b[49m\n\u001b[1;32m   1082\u001b[0m \u001b[43m    \u001b[49m\u001b[43m)\u001b[49m\n\u001b[1;32m   1084\u001b[0m hidden_states \u001b[38;5;241m=\u001b[39m layer_outputs[\u001b[38;5;241m0\u001b[39m]\n\u001b[1;32m   1086\u001b[0m \u001b[38;5;28;01mif\u001b[39;00m use_cache:\n",
      "File \u001b[0;32m~/.conda/envs/cuda_11/lib/python3.11/site-packages/torch/nn/modules/module.py:1518\u001b[0m, in \u001b[0;36mModule._wrapped_call_impl\u001b[0;34m(self, *args, **kwargs)\u001b[0m\n\u001b[1;32m   1516\u001b[0m     \u001b[38;5;28;01mreturn\u001b[39;00m \u001b[38;5;28mself\u001b[39m\u001b[38;5;241m.\u001b[39m_compiled_call_impl(\u001b[38;5;241m*\u001b[39margs, \u001b[38;5;241m*\u001b[39m\u001b[38;5;241m*\u001b[39mkwargs)  \u001b[38;5;66;03m# type: ignore[misc]\u001b[39;00m\n\u001b[1;32m   1517\u001b[0m \u001b[38;5;28;01melse\u001b[39;00m:\n\u001b[0;32m-> 1518\u001b[0m     \u001b[38;5;28;01mreturn\u001b[39;00m \u001b[38;5;28;43mself\u001b[39;49m\u001b[38;5;241;43m.\u001b[39;49m\u001b[43m_call_impl\u001b[49m\u001b[43m(\u001b[49m\u001b[38;5;241;43m*\u001b[39;49m\u001b[43margs\u001b[49m\u001b[43m,\u001b[49m\u001b[43m \u001b[49m\u001b[38;5;241;43m*\u001b[39;49m\u001b[38;5;241;43m*\u001b[39;49m\u001b[43mkwargs\u001b[49m\u001b[43m)\u001b[49m\n",
      "File \u001b[0;32m~/.conda/envs/cuda_11/lib/python3.11/site-packages/torch/nn/modules/module.py:1527\u001b[0m, in \u001b[0;36mModule._call_impl\u001b[0;34m(self, *args, **kwargs)\u001b[0m\n\u001b[1;32m   1522\u001b[0m \u001b[38;5;66;03m# If we don't have any hooks, we want to skip the rest of the logic in\u001b[39;00m\n\u001b[1;32m   1523\u001b[0m \u001b[38;5;66;03m# this function, and just call forward.\u001b[39;00m\n\u001b[1;32m   1524\u001b[0m \u001b[38;5;28;01mif\u001b[39;00m \u001b[38;5;129;01mnot\u001b[39;00m (\u001b[38;5;28mself\u001b[39m\u001b[38;5;241m.\u001b[39m_backward_hooks \u001b[38;5;129;01mor\u001b[39;00m \u001b[38;5;28mself\u001b[39m\u001b[38;5;241m.\u001b[39m_backward_pre_hooks \u001b[38;5;129;01mor\u001b[39;00m \u001b[38;5;28mself\u001b[39m\u001b[38;5;241m.\u001b[39m_forward_hooks \u001b[38;5;129;01mor\u001b[39;00m \u001b[38;5;28mself\u001b[39m\u001b[38;5;241m.\u001b[39m_forward_pre_hooks\n\u001b[1;32m   1525\u001b[0m         \u001b[38;5;129;01mor\u001b[39;00m _global_backward_pre_hooks \u001b[38;5;129;01mor\u001b[39;00m _global_backward_hooks\n\u001b[1;32m   1526\u001b[0m         \u001b[38;5;129;01mor\u001b[39;00m _global_forward_hooks \u001b[38;5;129;01mor\u001b[39;00m _global_forward_pre_hooks):\n\u001b[0;32m-> 1527\u001b[0m     \u001b[38;5;28;01mreturn\u001b[39;00m \u001b[43mforward_call\u001b[49m\u001b[43m(\u001b[49m\u001b[38;5;241;43m*\u001b[39;49m\u001b[43margs\u001b[49m\u001b[43m,\u001b[49m\u001b[43m \u001b[49m\u001b[38;5;241;43m*\u001b[39;49m\u001b[38;5;241;43m*\u001b[39;49m\u001b[43mkwargs\u001b[49m\u001b[43m)\u001b[49m\n\u001b[1;32m   1529\u001b[0m \u001b[38;5;28;01mtry\u001b[39;00m:\n\u001b[1;32m   1530\u001b[0m     result \u001b[38;5;241m=\u001b[39m \u001b[38;5;28;01mNone\u001b[39;00m\n",
      "File \u001b[0;32m~/.conda/envs/cuda_11/lib/python3.11/site-packages/transformers/models/llama/modeling_llama.py:803\u001b[0m, in \u001b[0;36mLlamaDecoderLayer.forward\u001b[0;34m(self, hidden_states, attention_mask, position_ids, past_key_value, output_attentions, use_cache, **kwargs)\u001b[0m\n\u001b[1;32m    800\u001b[0m hidden_states \u001b[38;5;241m=\u001b[39m \u001b[38;5;28mself\u001b[39m\u001b[38;5;241m.\u001b[39minput_layernorm(hidden_states)\n\u001b[1;32m    802\u001b[0m \u001b[38;5;66;03m# Self Attention\u001b[39;00m\n\u001b[0;32m--> 803\u001b[0m hidden_states, self_attn_weights, present_key_value \u001b[38;5;241m=\u001b[39m \u001b[38;5;28;43mself\u001b[39;49m\u001b[38;5;241;43m.\u001b[39;49m\u001b[43mself_attn\u001b[49m\u001b[43m(\u001b[49m\n\u001b[1;32m    804\u001b[0m \u001b[43m    \u001b[49m\u001b[43mhidden_states\u001b[49m\u001b[38;5;241;43m=\u001b[39;49m\u001b[43mhidden_states\u001b[49m\u001b[43m,\u001b[49m\n\u001b[1;32m    805\u001b[0m \u001b[43m    \u001b[49m\u001b[43mattention_mask\u001b[49m\u001b[38;5;241;43m=\u001b[39;49m\u001b[43mattention_mask\u001b[49m\u001b[43m,\u001b[49m\n\u001b[1;32m    806\u001b[0m \u001b[43m    \u001b[49m\u001b[43mposition_ids\u001b[49m\u001b[38;5;241;43m=\u001b[39;49m\u001b[43mposition_ids\u001b[49m\u001b[43m,\u001b[49m\n\u001b[1;32m    807\u001b[0m \u001b[43m    \u001b[49m\u001b[43mpast_key_value\u001b[49m\u001b[38;5;241;43m=\u001b[39;49m\u001b[43mpast_key_value\u001b[49m\u001b[43m,\u001b[49m\n\u001b[1;32m    808\u001b[0m \u001b[43m    \u001b[49m\u001b[43moutput_attentions\u001b[49m\u001b[38;5;241;43m=\u001b[39;49m\u001b[43moutput_attentions\u001b[49m\u001b[43m,\u001b[49m\n\u001b[1;32m    809\u001b[0m \u001b[43m    \u001b[49m\u001b[43muse_cache\u001b[49m\u001b[38;5;241;43m=\u001b[39;49m\u001b[43muse_cache\u001b[49m\u001b[43m,\u001b[49m\n\u001b[1;32m    810\u001b[0m \u001b[43m    \u001b[49m\u001b[38;5;241;43m*\u001b[39;49m\u001b[38;5;241;43m*\u001b[39;49m\u001b[43mkwargs\u001b[49m\u001b[43m,\u001b[49m\n\u001b[1;32m    811\u001b[0m \u001b[43m\u001b[49m\u001b[43m)\u001b[49m\n\u001b[1;32m    812\u001b[0m hidden_states \u001b[38;5;241m=\u001b[39m residual \u001b[38;5;241m+\u001b[39m hidden_states\n\u001b[1;32m    814\u001b[0m \u001b[38;5;66;03m# Fully Connected\u001b[39;00m\n",
      "File \u001b[0;32m~/.conda/envs/cuda_11/lib/python3.11/site-packages/torch/nn/modules/module.py:1518\u001b[0m, in \u001b[0;36mModule._wrapped_call_impl\u001b[0;34m(self, *args, **kwargs)\u001b[0m\n\u001b[1;32m   1516\u001b[0m     \u001b[38;5;28;01mreturn\u001b[39;00m \u001b[38;5;28mself\u001b[39m\u001b[38;5;241m.\u001b[39m_compiled_call_impl(\u001b[38;5;241m*\u001b[39margs, \u001b[38;5;241m*\u001b[39m\u001b[38;5;241m*\u001b[39mkwargs)  \u001b[38;5;66;03m# type: ignore[misc]\u001b[39;00m\n\u001b[1;32m   1517\u001b[0m \u001b[38;5;28;01melse\u001b[39;00m:\n\u001b[0;32m-> 1518\u001b[0m     \u001b[38;5;28;01mreturn\u001b[39;00m \u001b[38;5;28;43mself\u001b[39;49m\u001b[38;5;241;43m.\u001b[39;49m\u001b[43m_call_impl\u001b[49m\u001b[43m(\u001b[49m\u001b[38;5;241;43m*\u001b[39;49m\u001b[43margs\u001b[49m\u001b[43m,\u001b[49m\u001b[43m \u001b[49m\u001b[38;5;241;43m*\u001b[39;49m\u001b[38;5;241;43m*\u001b[39;49m\u001b[43mkwargs\u001b[49m\u001b[43m)\u001b[49m\n",
      "File \u001b[0;32m~/.conda/envs/cuda_11/lib/python3.11/site-packages/torch/nn/modules/module.py:1527\u001b[0m, in \u001b[0;36mModule._call_impl\u001b[0;34m(self, *args, **kwargs)\u001b[0m\n\u001b[1;32m   1522\u001b[0m \u001b[38;5;66;03m# If we don't have any hooks, we want to skip the rest of the logic in\u001b[39;00m\n\u001b[1;32m   1523\u001b[0m \u001b[38;5;66;03m# this function, and just call forward.\u001b[39;00m\n\u001b[1;32m   1524\u001b[0m \u001b[38;5;28;01mif\u001b[39;00m \u001b[38;5;129;01mnot\u001b[39;00m (\u001b[38;5;28mself\u001b[39m\u001b[38;5;241m.\u001b[39m_backward_hooks \u001b[38;5;129;01mor\u001b[39;00m \u001b[38;5;28mself\u001b[39m\u001b[38;5;241m.\u001b[39m_backward_pre_hooks \u001b[38;5;129;01mor\u001b[39;00m \u001b[38;5;28mself\u001b[39m\u001b[38;5;241m.\u001b[39m_forward_hooks \u001b[38;5;129;01mor\u001b[39;00m \u001b[38;5;28mself\u001b[39m\u001b[38;5;241m.\u001b[39m_forward_pre_hooks\n\u001b[1;32m   1525\u001b[0m         \u001b[38;5;129;01mor\u001b[39;00m _global_backward_pre_hooks \u001b[38;5;129;01mor\u001b[39;00m _global_backward_hooks\n\u001b[1;32m   1526\u001b[0m         \u001b[38;5;129;01mor\u001b[39;00m _global_forward_hooks \u001b[38;5;129;01mor\u001b[39;00m _global_forward_pre_hooks):\n\u001b[0;32m-> 1527\u001b[0m     \u001b[38;5;28;01mreturn\u001b[39;00m \u001b[43mforward_call\u001b[49m\u001b[43m(\u001b[49m\u001b[38;5;241;43m*\u001b[39;49m\u001b[43margs\u001b[49m\u001b[43m,\u001b[49m\u001b[43m \u001b[49m\u001b[38;5;241;43m*\u001b[39;49m\u001b[38;5;241;43m*\u001b[39;49m\u001b[43mkwargs\u001b[49m\u001b[43m)\u001b[49m\n\u001b[1;32m   1529\u001b[0m \u001b[38;5;28;01mtry\u001b[39;00m:\n\u001b[1;32m   1530\u001b[0m     result \u001b[38;5;241m=\u001b[39m \u001b[38;5;28;01mNone\u001b[39;00m\n",
      "File \u001b[0;32m~/.conda/envs/cuda_11/lib/python3.11/site-packages/transformers/models/llama/modeling_llama.py:733\u001b[0m, in \u001b[0;36mLlamaSdpaAttention.forward\u001b[0;34m(self, hidden_states, attention_mask, position_ids, past_key_value, output_attentions, use_cache)\u001b[0m\n\u001b[1;32m    730\u001b[0m     key_states \u001b[38;5;241m=\u001b[39m key_states\u001b[38;5;241m.\u001b[39mcontiguous()\n\u001b[1;32m    731\u001b[0m     value_states \u001b[38;5;241m=\u001b[39m value_states\u001b[38;5;241m.\u001b[39mcontiguous()\n\u001b[0;32m--> 733\u001b[0m attn_output \u001b[38;5;241m=\u001b[39m \u001b[43mtorch\u001b[49m\u001b[38;5;241;43m.\u001b[39;49m\u001b[43mnn\u001b[49m\u001b[38;5;241;43m.\u001b[39;49m\u001b[43mfunctional\u001b[49m\u001b[38;5;241;43m.\u001b[39;49m\u001b[43mscaled_dot_product_attention\u001b[49m\u001b[43m(\u001b[49m\n\u001b[1;32m    734\u001b[0m \u001b[43m    \u001b[49m\u001b[43mquery_states\u001b[49m\u001b[43m,\u001b[49m\n\u001b[1;32m    735\u001b[0m \u001b[43m    \u001b[49m\u001b[43mkey_states\u001b[49m\u001b[43m,\u001b[49m\n\u001b[1;32m    736\u001b[0m \u001b[43m    \u001b[49m\u001b[43mvalue_states\u001b[49m\u001b[43m,\u001b[49m\n\u001b[1;32m    737\u001b[0m \u001b[43m    \u001b[49m\u001b[43mattn_mask\u001b[49m\u001b[38;5;241;43m=\u001b[39;49m\u001b[43mattention_mask\u001b[49m\u001b[43m,\u001b[49m\n\u001b[1;32m    738\u001b[0m \u001b[43m    \u001b[49m\u001b[43mdropout_p\u001b[49m\u001b[38;5;241;43m=\u001b[39;49m\u001b[38;5;28;43mself\u001b[39;49m\u001b[38;5;241;43m.\u001b[39;49m\u001b[43mattention_dropout\u001b[49m\u001b[43m \u001b[49m\u001b[38;5;28;43;01mif\u001b[39;49;00m\u001b[43m \u001b[49m\u001b[38;5;28;43mself\u001b[39;49m\u001b[38;5;241;43m.\u001b[39;49m\u001b[43mtraining\u001b[49m\u001b[43m \u001b[49m\u001b[38;5;28;43;01melse\u001b[39;49;00m\u001b[43m \u001b[49m\u001b[38;5;241;43m0.0\u001b[39;49m\u001b[43m,\u001b[49m\n\u001b[1;32m    739\u001b[0m \u001b[43m    \u001b[49m\u001b[38;5;66;43;03m# The q_len > 1 is necessary to match with AttentionMaskConverter.to_causal_4d that does not create a causal mask in case q_len == 1.\u001b[39;49;00m\n\u001b[1;32m    740\u001b[0m \u001b[43m    \u001b[49m\u001b[43mis_causal\u001b[49m\u001b[38;5;241;43m=\u001b[39;49m\u001b[38;5;28;43mself\u001b[39;49m\u001b[38;5;241;43m.\u001b[39;49m\u001b[43mis_causal\u001b[49m\u001b[43m \u001b[49m\u001b[38;5;129;43;01mand\u001b[39;49;00m\u001b[43m \u001b[49m\u001b[43mattention_mask\u001b[49m\u001b[43m \u001b[49m\u001b[38;5;129;43;01mis\u001b[39;49;00m\u001b[43m \u001b[49m\u001b[38;5;28;43;01mNone\u001b[39;49;00m\u001b[43m \u001b[49m\u001b[38;5;129;43;01mand\u001b[39;49;00m\u001b[43m \u001b[49m\u001b[43mq_len\u001b[49m\u001b[43m \u001b[49m\u001b[38;5;241;43m>\u001b[39;49m\u001b[43m \u001b[49m\u001b[38;5;241;43m1\u001b[39;49m\u001b[43m,\u001b[49m\n\u001b[1;32m    741\u001b[0m \u001b[43m\u001b[49m\u001b[43m)\u001b[49m\n\u001b[1;32m    743\u001b[0m attn_output \u001b[38;5;241m=\u001b[39m attn_output\u001b[38;5;241m.\u001b[39mtranspose(\u001b[38;5;241m1\u001b[39m, \u001b[38;5;241m2\u001b[39m)\u001b[38;5;241m.\u001b[39mcontiguous()\n\u001b[1;32m    744\u001b[0m attn_output \u001b[38;5;241m=\u001b[39m attn_output\u001b[38;5;241m.\u001b[39mreshape(bsz, q_len, \u001b[38;5;28mself\u001b[39m\u001b[38;5;241m.\u001b[39mhidden_size)\n",
      "\u001b[0;31mOutOfMemoryError\u001b[0m: CUDA out of memory. Tried to allocate 2.93 GiB. GPU 0 has a total capacty of 79.15 GiB of which 2.05 GiB is free. Including non-PyTorch memory, this process has 77.08 GiB memory in use. Of the allocated memory 35.09 GiB is allocated by PyTorch, and 255.94 MiB is reserved by PyTorch but unallocated. If reserved but unallocated memory is large try setting max_split_size_mb to avoid fragmentation.  See documentation for Memory Management and PYTORCH_CUDA_ALLOC_CONF"
     ]
    }
   ],
   "source": [
    "resp_oi = order_independent_llm.order_independent_query(\n",
    "            prefix=raw,\n",
    "            parallel_substrings=substrings,\n",
    "            suffix='\\n1 paragraph summary of the disaster, including damage, invesigation and casualty discussion.\\n',\n",
    "            model=model,\n",
    "            tokenizer=tokenizer,\n",
    "            max_new_tokens=200,\n",
    "            torch_device='cuda',\n",
    "            is_order_independent=True,\n",
    "        )"
   ]
  },
  {
   "cell_type": "code",
   "execution_count": null,
   "id": "76c13660-4a5e-4a86-8a19-d25ebf541275",
   "metadata": {
    "tags": []
   },
   "outputs": [],
   "source": [
    "print(resp_oi.text_output)"
   ]
  },
  {
   "cell_type": "code",
   "execution_count": 41,
   "id": "622906be-4d9b-44f5-9518-3f85c212120f",
   "metadata": {
    "tags": []
   },
   "outputs": [],
   "source": [
    "raw =\"\"\"Starter Villain is a science fiction novel written by American author John Scalzi. It was first published in hardcover and ebook by Tor Books, and audiobook by Audible Studios, on September 19, 2023; British hardcover and ebook editions were released by Tor UK on September 21, 2023.[1] A large print hardcover edition was issued by Thorndike Press on November 28, 2023,[1] and a trade paperback edition is due to be issued by Tor Books on October 1, 2024.[2] The novel was nominated for the 2024 Hugo Award for Best Novel.harlie Fitzer, ex-business reporter, spouse, and caregiver to his now-deceased father, is in reduced circumstances. Now living with his cats Hera and Persephone in the old family home co-owned with his half-siblings who are keen to sell it, he barely makes a living as a substitute teacher. He aspires to acquire a revered local tavern whose owner is retiring but is denied a bank loan.\n",
    "\n",
    "When his long-estranged uncle Jake Baldwin, billionaire owner of a parking lot empire, dies, Jake's assistant Mathilda Morrison approaches Charlie with a proposition: represent Jake at the memorial service, and he will receive enough money from the estate to buy out his siblings, get his loan, and realize his dream.\n",
    "\n",
    "The funeral is attended by various dubious individuals who have a bizarre obsession with confirming Jake's death; one attendee, Tobias, even attempts to stab the corpse. Afterwards, Charlie's house is destroyed by a bomb. An intruder, later found to be a government agent, is blown up with it, and Charlie is framed for the deed. Mathilda and Charlie's cats reveal that Jake's parking lot holdings were a front for his real career as a supervillain. Mathilda was his chief assistant, and cats Hera and Persephone are genetically modified super-intelligent spy cats, who had long kept watch on Charlie for Jake. Moreover, Jake had enemies, who are now Charlie's enemies: the Lombardy Convocation, an organization of rival villains with whom he has long fought a private war.\n",
    "\n",
    "Charlie, Mathilda and the cats take refuge on Saint Genevieve, Jake's Caribbean island hideout in Grenada, powered by geothermal energy from an active volcano and guarded by intelligent dolphins. Charlie's companions brief him in preparation for an unavoidable meeting with the Lombardy Convocation at the Grand Bellagio Hotel on Lake Como, Italy. There he is pressured to join and pay a substantial membership fee or face severe consequences. However, a private meeting with Anton Dobrev, head of the Convocation, ends up with the latter apparently dead, the hotel burned, and Charlie once again being framed.\n",
    "\n",
    "Back at St. Genevieve, Charlie and his allies prepare for the inevitable showdown. He retaliates for an attack on the island by Roberto Gratas, the new head of the Convocation, by destroying his enemies' spy satellite with a space laser, severing their communications with a pod of genetically enhanced whales used to attack the island. An apparent accommodation is reached: Charlie agrees to hand over Nazi war plunder stored by Jake in exchange for peace. The plan takes a turn during the meeting to access the treasure when Gratas betrays his associates and kills them. However, the cache is discovered to be empty, and Gratas's retaliatory efforts against Charlie's staff are foiled. Charlie's dolphins, having pledged allegiance to him after settling a strike on terms favorable to them, suborn the enemy whales. Gratas attempts to eliminate Charlie but is stopped and taken out by the dolphins.\n",
    "\n",
    "Concluding that he is unsuited for a life of villainy, Charlie learns he was a stalking horse in a plot by Jake, his allegedly deceased ally Anton Dobrev, and Mathilda to dismantle the Convocation. As part of his exit, Charlie is exonerated, awarded a safe house for his cats, gains ownership of the tavern, and is eventually reunited with his cats, who also retire from the supervillain business. \n",
    "\n",
    "Notes\n",
    "\n",
    "Starter Villain title listing at the Internet Speculative Fiction Database\n",
    "Amazon.com entry for trade paperback edition\n",
    "Miltner, Terrence. Review in Booklist, v. 119 iss. 19/20, June 1/15, 2023, p. 50.\n",
    "Review in Publishers Weekly, v. 270 iss. 25, June 19, 2023, p. 172.\n",
    "Harris, Marlene. Review in Library Journal v. 148 iss. 7, July 2023, p. 56.\n",
    "Review in Kirkus Reviews, v. 91 iss. 13, July 1, 2023 (posted online June 8, 2023).\"\"\""
   ]
  },
  {
   "cell_type": "code",
   "execution_count": 42,
   "id": "b7bc6c66-02b8-48fc-bd3b-d690c7de734f",
   "metadata": {
    "tags": []
   },
   "outputs": [],
   "source": [
    "substrings = [\n",
    "\"\"\"Terrence Miltner in Booklist notes that the author \"again\" (as in The Kaiju Preservation Society) \"examines tropes in a tale of an ordinary individual being cast into an extraordinary situation with his trademark quick pacing, clever banter, and ability to find humor in desperate situations.\" He concludes that \"[w]ith a ... clever premise, Scalzi's latest will appeal to his legion of fans and draw in new ones.\"\"\",\n",
    "\"\"\"Publishers Weekly calls the book a \" clever, fast-paced thriller\" that subverts classic supervillain tropes with equal measures of tongue-in-cheek humor and common sense. ... Scalzi balances all the doublecrosses and assassination attempts with ethical quandaries, explorations of economic inequality, and humor ... The result is a breezy and highly entertaining genre send-up.\\\"\"\"\",\n",
    "\"\"\"Marlene Harris, in a double-starred \"Pick of the Month\" review in Library Journal, calls the novel a \"story of snark with a heart [that] reminds readers that the logical conclusion of 'dogs have owners, cats have staff' is that cats are management and never let anyone forget it.\" She characterizes the book as \"[c]ombining the sarcastic humor of Scalzi's Redshirts with an origin story for James Bond–like supervillains operating with the competence-porn-level efficiency and work ethic of Hench by Natalie Zina Walschots.\" She concludes that \"[r]eaders of humorous fantasy are sure to love Scalzi’s latest (after The Kaiju Preservation Society) as much as those cats; it’s also for those who enjoy seeing superhero stories folded, twisted, and mutilated and anyone wishing for a righteous villain lair surrounded by intelligent sharks [sic: dolphins]. Highly recommended.\\\"\"\"\",\n",
    "\"\"\"Kirkus Reviews calls the book \"one of many available stories about a good-hearted Everyman thrust into fantastical circumstances, struggling to survive as a fish out of water, and, while well executed for its type, the plot doesn't go anywhere that will surprise you.\" It \"serves as a follow-up of sorts to Scalzi's The Kaiju Preservation Society (2022) in that both are riffs on genre film tropes. The current work is fluffier and sillier than the previous novel and, indeed, many of Scalzi's other books, although there is the occasional jab about governments being in bed with unscrupulous corporate enterprises or the ways in which people can profit from human suffering.\" The reviewer concludes the novel is \"[f]un while it lasts but not one of Scalzi's stronger books.\\\"\"\"\",\n",
    "]\n"
   ]
  },
  {
   "cell_type": "code",
   "execution_count": 60,
   "id": "c171ea4d-93e5-4b35-8092-aec079010a2c",
   "metadata": {
    "tags": []
   },
   "outputs": [
    {
     "data": {
      "text/plain": [
       "4101"
      ]
     },
     "execution_count": 60,
     "metadata": {},
     "output_type": "execute_result"
    }
   ],
   "source": [
    "len(tokenizer(raw)['input_ids']) + sum([len(tokenizer(s)['input_ids']) for s in substrings])"
   ]
  },
  {
   "cell_type": "code",
   "execution_count": 54,
   "id": "17a7c2eb-a11e-492f-a25f-b7ea581c7a8e",
   "metadata": {
    "tags": []
   },
   "outputs": [
    {
     "name": "stderr",
     "output_type": "stream",
     "text": [
      "This is a friendly reminder - the current text generation call will exceed the model's predefined maximum length (4096). Depending on the model, you may observe exceptions, performance degradation, or nothing at all.\n"
     ]
    }
   ],
   "source": [
    "resp = order_independent_llm.order_independent_query(\n",
    "            prefix=raw,\n",
    "            parallel_substrings=substrings,\n",
    "            suffix='\\n1 page summary of the sequal to Start Villian\\n',\n",
    "            model=model,\n",
    "            tokenizer=tokenizer,\n",
    "            max_new_tokens=200,\n",
    "            torch_device='cuda',\n",
    "            is_order_independent=False,\n",
    "        )"
   ]
  },
  {
   "cell_type": "code",
   "execution_count": 55,
   "id": "2348994c-8e1f-4da0-addf-f0fd75f209d6",
   "metadata": {
    "tags": []
   },
   "outputs": [
    {
     "name": "stdout",
     "output_type": "stream",
     "text": [
      "s.s.\n",
      "s.\n",
      "lav, Maryland, the United, the United, the United, the United, the United, Љ,time.s, theworth, theworth, theworth,spide,spidecapworthcapworthcapworthcap, ands. On the Maryland, and Maryland, and Maryland, andsv, andlip, andlip, anduit, andunk, andunk, andunk, and theunk, andlav, andlav ship, andland-tow, and thell, and the Maryland, and Maryland, Maryland, Maryland, and \"... \"imp, and the \"un, Maryland, and the, Maryland, Maryland, Maryland, Maryland, Maryland, Maryland, Maryland,\n",
      ",\n",
      ",p,\n",
      ",\n",
      ",\n",
      ",\n",
      ",\n",
      ",sp,sp,sp,sp,sp-site,\n",
      ",-\n",
      ",-\n",
      ",oll,-\n",
      ",ll,ll,ll,sv\n"
     ]
    }
   ],
   "source": [
    "print(resp.text_output)"
   ]
  },
  {
   "cell_type": "code",
   "execution_count": 31,
   "id": "60932490-0a7b-46b7-b773-19c50489b5ed",
   "metadata": {
    "tags": []
   },
   "outputs": [
    {
     "data": {
      "text/plain": [
       "SplitPrompt(text='Charlie Fitzer, ex-business reporter, spouse, and caregiver to his now-deceased father, is in reduced circumstances. Now living with his cats Hera and Persephone in the old family home co-owned with his half-siblings who are keen to sell it, he barely makes a living as a substitute teacher. He aspires to acquire a revered local tavern whose owner is retiring but is denied a bank loan.\\n\\nWhen his long-estranged uncle Jake Baldwin, billionaire owner of a parking lot empire, dies, Jake\\'s assistant Mathilda Morrison approaches Charlie with a proposition: represent Jake at the memorial service, and he will receive enough money from the estate to buy out his siblings, get his loan, and realize his dream.\\n\\nThe funeral is attended by various dubious individuals who have a bizarre obsession with confirming Jake\\'s death; one attendee, Tobias, even attempts to stab the corpse. Afterwards, Charlie\\'s house is destroyed by a bomb. An intruder, later found to be a government agent, is blown up with it, and Charlie is framed for the deed. Mathilda and Charlie\\'s cats reveal that Jake\\'s parking lot holdings were a front for his real career as a supervillain. Mathilda was his chief assistant, and cats Hera and Persephone are genetically modified super-intelligent spy cats, who had long kept watch on Charlie for Jake. Moreover, Jake had enemies, who are now Charlie\\'s enemies: the Lombardy Convocation, an organization of rival villains with whom he has long fought a private war.\\n\\nCharlie, Mathilda and the cats take refuge on Saint Genevieve, Jake\\'s Caribbean island hideout in Grenada, powered by geothermal energy from an active volcano and guarded by intelligent dolphins. Charlie\\'s companions brief him in preparation for an unavoidable meeting with the Lombardy Convocation at the Grand Bellagio Hotel on Lake Como, Italy. There he is pressured to join and pay a substantial membership fee or face severe consequences. However, a private meeting with Anton Dobrev, head of the Convocation, ends up with the latter apparently dead, the hotel burned, and Charlie once again being framed.\\n\\nBack at St. Genevieve, Charlie and his allies prepare for the inevitable showdown. He retaliates for an attack on the island by Roberto Gratas, the new head of the Convocation, by destroying his enemies\\' spy satellite with a space laser, severing their communications with a pod of genetically enhanced whales used to attack the island. An apparent accommodation is reached: Charlie agrees to hand over Nazi war plunder stored by Jake in exchange for peace. The plan takes a turn during the meeting to access the treasure when Gratas betrays his associates and kills them. However, the cache is discovered to be empty, and Gratas\\'s retaliatory efforts against Charlie\\'s staff are foiled. Charlie\\'s dolphins, having pledged allegiance to him after settling a strike on terms favorable to them, suborn the enemy whales. Gratas attempts to eliminate Charlie but is stopped and taken out by the dolphins.\\n\\nConcluding that he is unsuited for a life of villainy, Charlie learns he was a stalking horse in a plot by Jake, his allegedly deceased ally Anton Dobrev, and Mathilda to dismantle the Convocation. As part of his exit, Charlie is exonerated, awarded a safe house for his cats, gains ownership of the tavern, and is eventually reunited with his cats, who also retire from the supervillain business. <|start_2d|>Terrence Miltner in Booklist notes that the author \"again\" (as in The Kaiju Preservation Society) \"examines tropes in a tale of an ordinary individual being cast into an extraordinary situation with his trademark quick pacing, clever banter, and ability to find humor in desperate situations.\" He concludes that \"[w]ith a ... clever premise, Scalzi\\'s latest will appeal to his legion of fans and draw in new ones.<|split_2d|>Publishers Weekly calls the book a \" clever, fast-paced thriller\" that subverts classic supervillain tropes with equal measures of tongue-in-cheek humor and common sense. ... Scalzi balances all the doublecrosses and assassination attempts with ethical quandaries, explorations of economic inequality, and humor ... The result is a breezy and highly entertaining genre send-up.\"<|split_2d|>Marlene Harris, in a double-starred \"Pick of the Month\" review in Library Journal, calls the novel a \"story of snark with a heart [that] reminds readers that the logical conclusion of \\'dogs have owners, cats have staff\\' is that cats are management and never let anyone forget it.\" She characterizes the book as \"[c]ombining the sarcastic humor of Scalzi\\'s Redshirts with an origin story for James Bond–like supervillains operating with the competence-porn-level efficiency and work ethic of Hench by Natalie Zina Walschots.\" She concludes that \"[r]eaders of humorous fantasy are sure to love Scalzi’s latest (after The Kaiju Preservation Society) as much as those cats; it’s also for those who enjoy seeing superhero stories folded, twisted, and mutilated and anyone wishing for a righteous villain lair surrounded by intelligent sharks [sic: dolphins]. Highly recommended.\"<|split_2d|>Kirkus Reviews calls the book \"one of many available stories about a good-hearted Everyman thrust into fantastical circumstances, struggling to survive as a fish out of water, and, while well executed for its type, the plot doesn\\'t go anywhere that will surprise you.\" It \"serves as a follow-up of sorts to Scalzi\\'s The Kaiju Preservation Society (2022) in that both are riffs on genre film tropes. The current work is fluffier and sillier than the previous novel and, indeed, many of Scalzi\\'s other books, although there is the occasional jab about governments being in bed with unscrupulous corporate enterprises or the ways in which people can profit from human suffering.\" The reviewer concludes the novel is \"[f]un while it lasts but not one of Scalzi\\'s stronger books.\"<|end_2d|>The Story continues in ', metadata=None)"
      ]
     },
     "execution_count": 31,
     "metadata": {},
     "output_type": "execute_result"
    }
   ],
   "source": [
    "resp.prompt"
   ]
  },
  {
   "cell_type": "code",
   "execution_count": null,
   "id": "461e9dd0-c5cf-43e2-979b-4dd354ac33c2",
   "metadata": {},
   "outputs": [],
   "source": []
  }
 ],
 "metadata": {
  "kernelspec": {
   "display_name": "Python 3 (ipykernel)",
   "language": "python",
   "name": "python3"
  },
  "language_info": {
   "codemirror_mode": {
    "name": "ipython",
    "version": 3
   },
   "file_extension": ".py",
   "mimetype": "text/x-python",
   "name": "python",
   "nbconvert_exporter": "python",
   "pygments_lexer": "ipython3",
   "version": "3.11.4"
  }
 },
 "nbformat": 4,
 "nbformat_minor": 5
}
