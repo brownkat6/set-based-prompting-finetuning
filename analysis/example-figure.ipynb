{
 "cells": [
  {
   "cell_type": "code",
   "execution_count": 1,
   "id": "49d24932-bfb4-45ff-8690-bd4606e9c368",
   "metadata": {
    "tags": []
   },
   "outputs": [],
   "source": [
    "import json\n",
    "import pandas\n",
    "import order_independent_llm\n",
    "import glob\n",
    "import seaborn\n",
    "import tqdm.auto as tqdm\n",
    "import matplotlib.pyplot as plt\n",
    "\n",
    "import order_independent_llm.plot_helpers\n",
    "\n",
    "params=order_independent_llm.plot_helpers.nice_defaults()"
   ]
  },
  {
   "cell_type": "code",
   "execution_count": 2,
   "id": "bcb1dab4-ca4f-4cd2-9f28-f6cb82c78db4",
   "metadata": {
    "tags": []
   },
   "outputs": [],
   "source": [
    "targets = glob.glob(\"../results/mmlu_quoted/*/*.jsonl\")"
   ]
  },
  {
   "cell_type": "code",
   "execution_count": 3,
   "id": "cf1afec9-9e81-4460-80b1-774695052793",
   "metadata": {
    "tags": []
   },
   "outputs": [
    {
     "data": {
      "application/vnd.jupyter.widget-view+json": {
       "model_id": "438ac5fbb38a4eadb7533c85a1493b58",
       "version_major": 2,
       "version_minor": 0
      },
      "text/plain": [
       "  0%|          | 0/130 [00:00<?, ?it/s]"
      ]
     },
     "metadata": {},
     "output_type": "display_data"
    }
   ],
   "source": [
    "df = pandas.concat([order_independent_llm.load_to_dataframe(t,fail_on_empty=True) for t in tqdm.tqdm(targets)])"
   ]
  },
  {
   "cell_type": "code",
   "execution_count": 4,
   "id": "c6174d49-f95c-4ed7-bb82-6052bcb34f1e",
   "metadata": {
    "tags": []
   },
   "outputs": [
    {
     "ename": "AttributeError",
     "evalue": "'list' object has no attribute 'keys'",
     "output_type": "error",
     "traceback": [
      "\u001b[0;31m---------------------------------------------------------------------------\u001b[0m",
      "\u001b[0;31mAttributeError\u001b[0m                            Traceback (most recent call last)",
      "Cell \u001b[0;32mIn[4], line 1\u001b[0m\n\u001b[0;32m----> 1\u001b[0m \u001b[43mdf\u001b[49m\u001b[38;5;241;43m.\u001b[39;49m\u001b[43miloc\u001b[49m\u001b[43m[\u001b[49m\u001b[38;5;241;43m0\u001b[39;49m\u001b[43m]\u001b[49m\u001b[43m[\u001b[49m\u001b[38;5;124;43m'\u001b[39;49m\u001b[38;5;124;43mprobs\u001b[39;49m\u001b[38;5;124;43m'\u001b[39;49m\u001b[43m]\u001b[49m\u001b[38;5;241;43m.\u001b[39;49m\u001b[43mkeys\u001b[49m()\n",
      "\u001b[0;31mAttributeError\u001b[0m: 'list' object has no attribute 'keys'"
     ]
    }
   ],
   "source": [
    "df.iloc[0]['probs'].keys()"
   ]
  },
  {
   "cell_type": "code",
   "execution_count": 5,
   "id": "e32fa410-59d9-4eba-a265-0718f1e4688f",
   "metadata": {
    "tags": []
   },
   "outputs": [
    {
     "data": {
      "text/html": [
       "<div>\n",
       "<style scoped>\n",
       "    .dataframe tbody tr th:only-of-type {\n",
       "        vertical-align: middle;\n",
       "    }\n",
       "\n",
       "    .dataframe tbody tr th {\n",
       "        vertical-align: top;\n",
       "    }\n",
       "\n",
       "    .dataframe thead th {\n",
       "        text-align: right;\n",
       "    }\n",
       "</style>\n",
       "<table border=\"1\" class=\"dataframe\">\n",
       "  <thead>\n",
       "    <tr style=\"text-align: right;\">\n",
       "      <th>response_type</th>\n",
       "      <th>normal</th>\n",
       "      <th>order_independent</th>\n",
       "      <th>normal_reversed</th>\n",
       "    </tr>\n",
       "    <tr>\n",
       "      <th>model</th>\n",
       "      <th></th>\n",
       "      <th></th>\n",
       "      <th></th>\n",
       "    </tr>\n",
       "  </thead>\n",
       "  <tbody>\n",
       "    <tr>\n",
       "      <th>gpt2</th>\n",
       "      <td>0.255946</td>\n",
       "      <td>0.254014</td>\n",
       "      <td>0.255704</td>\n",
       "    </tr>\n",
       "    <tr>\n",
       "      <th>meta-llama/Llama-2-13b-chat-hf</th>\n",
       "      <td>0.300427</td>\n",
       "      <td>0.275347</td>\n",
       "      <td>0.309498</td>\n",
       "    </tr>\n",
       "    <tr>\n",
       "      <th>meta-llama/Llama-2-13b-hf</th>\n",
       "      <td>0.292781</td>\n",
       "      <td>0.284759</td>\n",
       "      <td>0.309492</td>\n",
       "    </tr>\n",
       "    <tr>\n",
       "      <th>meta-llama/Llama-2-7b-chat-hf</th>\n",
       "      <td>0.307302</td>\n",
       "      <td>0.272481</td>\n",
       "      <td>0.293780</td>\n",
       "    </tr>\n",
       "    <tr>\n",
       "      <th>meta-llama/Llama-2-7b-hf</th>\n",
       "      <td>0.272586</td>\n",
       "      <td>0.260514</td>\n",
       "      <td>0.270639</td>\n",
       "    </tr>\n",
       "    <tr>\n",
       "      <th>meta-llama/Meta-Llama-3-8B</th>\n",
       "      <td>0.332652</td>\n",
       "      <td>0.288049</td>\n",
       "      <td>0.320054</td>\n",
       "    </tr>\n",
       "    <tr>\n",
       "      <th>mistralai/Mistral-7B-Instruct-v0.2</th>\n",
       "      <td>0.307409</td>\n",
       "      <td>0.270918</td>\n",
       "      <td>0.319572</td>\n",
       "    </tr>\n",
       "  </tbody>\n",
       "</table>\n",
       "</div>"
      ],
      "text/plain": [
       "response_type                         normal  order_independent  \\\n",
       "model                                                             \n",
       "gpt2                                0.255946           0.254014   \n",
       "meta-llama/Llama-2-13b-chat-hf      0.300427           0.275347   \n",
       "meta-llama/Llama-2-13b-hf           0.292781           0.284759   \n",
       "meta-llama/Llama-2-7b-chat-hf       0.307302           0.272481   \n",
       "meta-llama/Llama-2-7b-hf            0.272586           0.260514   \n",
       "meta-llama/Meta-Llama-3-8B          0.332652           0.288049   \n",
       "mistralai/Mistral-7B-Instruct-v0.2  0.307409           0.270918   \n",
       "\n",
       "response_type                       normal_reversed  \n",
       "model                                                \n",
       "gpt2                                       0.255704  \n",
       "meta-llama/Llama-2-13b-chat-hf             0.309498  \n",
       "meta-llama/Llama-2-13b-hf                  0.309492  \n",
       "meta-llama/Llama-2-7b-chat-hf              0.293780  \n",
       "meta-llama/Llama-2-7b-hf                   0.270639  \n",
       "meta-llama/Meta-Llama-3-8B                 0.320054  \n",
       "mistralai/Mistral-7B-Instruct-v0.2         0.319572  "
      ]
     },
     "execution_count": 5,
     "metadata": {},
     "output_type": "execute_result"
    }
   ],
   "source": [
    "df_acc = df[['model','is_correct_answer','response_type']].groupby(['model','response_type']).mean().reset_index().pivot(\n",
    "    index = 'model',\n",
    "    columns='response_type',\n",
    "    values='is_correct_answer'\n",
    ")[['normal', 'order_independent', 'normal_reversed',]]\n",
    "df_acc"
   ]
  },
  {
   "cell_type": "code",
   "execution_count": 8,
   "id": "a6829596-2bac-4624-9f79-193f43f8975f",
   "metadata": {
    "tags": []
   },
   "outputs": [],
   "source": [
    "#df = df[df['model'] =='meta-llama/Llama-2-7b-hf'].copy()"
   ]
  },
  {
   "cell_type": "code",
   "execution_count": 9,
   "id": "f811de99-740e-4df2-b18d-bd318f3482e0",
   "metadata": {
    "tags": []
   },
   "outputs": [
    {
     "ename": "NameError",
     "evalue": "name 'df_conf' is not defined",
     "output_type": "error",
     "traceback": [
      "\u001b[0;31m---------------------------------------------------------------------------\u001b[0m",
      "\u001b[0;31mNameError\u001b[0m                                 Traceback (most recent call last)",
      "Cell \u001b[0;32mIn[9], line 1\u001b[0m\n\u001b[0;32m----> 1\u001b[0m \u001b[43mdf_conf\u001b[49m\u001b[38;5;241m.\u001b[39mcolumns\n",
      "\u001b[0;31mNameError\u001b[0m: name 'df_conf' is not defined"
     ]
    }
   ],
   "source": [
    "df_conf.columns"
   ]
  },
  {
   "cell_type": "code",
   "execution_count": 7,
   "id": "0ae3d9e3-5f3d-449d-8bd3-0184c54a33fd",
   "metadata": {
    "scrolled": true,
    "tags": []
   },
   "outputs": [
    {
     "data": {
      "text/plain": [
       "['Which number is a multiple of 7?<|start_2d|>\"27\" <|split_2d|>\"48\" <|split_2d|>\"56\" <|split_2d|>\"74\" <|end_2d|>Answer: ',\n",
       " 'Sound travels in<|start_2d|>\"solids\" <|split_2d|>\"liquids\" <|split_2d|>\"gases\" <|split_2d|>\"All of these\" <|end_2d|>Answer: ',\n",
       " 'Which statement is false?<|start_2d|>\"3 < 5\" <|split_2d|>\"5 > 3\" <|split_2d|>\"−5 > −3\" <|split_2d|>\"−3 > −5\" <|end_2d|>Answer: ',\n",
       " 'What is 836 rounded to the nearest 10?<|start_2d|>\"800\" <|split_2d|>\"830\" <|split_2d|>\"840\" <|split_2d|>\"870\" <|end_2d|>Answer: ',\n",
       " 'What is the greatest common factor of 36 and 90?<|start_2d|>\"6\" <|split_2d|>\"18\" <|split_2d|>\"36\" <|split_2d|>\"180\" <|end_2d|>Answer: ',\n",
       " 'When was the telescope invented by Galileo?<|start_2d|>\"1409\" <|split_2d|>\"1509\" <|split_2d|>\"1609\" <|split_2d|>\"1709\" <|end_2d|>Answer: ',\n",
       " 'What is the quotient for the expression 2,314 / 4?<|start_2d|>\"508\" <|split_2d|>\"508 r2\" <|split_2d|>\"578\" <|split_2d|>\"578 r2\" <|end_2d|>Answer: ',\n",
       " 'As of 2017, what percentage of Indians live in urban areas?<|start_2d|>\"19%\" <|split_2d|>\"34%\" <|split_2d|>\"49%\" <|split_2d|>\"64%\" <|end_2d|>Answer: ',\n",
       " 'The normal voltage used in directional heating is<|start_2d|>\"1.5 KV.\" <|split_2d|>\"15 KV.\" <|split_2d|>\"33 KV.\" <|split_2d|>\"66 KV.\" <|end_2d|>Answer: ',\n",
       " 'Which of the jovian planets have rings?<|start_2d|>\"Neptune\" <|split_2d|>\"Uranus\" <|split_2d|>\"Saturn\" <|split_2d|>\"all of the above\" <|end_2d|>Answer: ',\n",
       " 'The pitch of a sound is mostly related to its<|start_2d|>\"intensity\" <|split_2d|>\"frequency\" <|split_2d|>\"amplitude\" <|split_2d|>\"speed\" <|end_2d|>Answer: ',\n",
       " 'The eigenvalues of a Hermitian operator are always<|start_2d|>\"real\" <|split_2d|>\"imaginary\" <|split_2d|>\"degenerate\" <|split_2d|>\"linear\" <|end_2d|>Answer: ',\n",
       " 'The most massive subatomic particle is the<|start_2d|>\"proton\" <|split_2d|>\"neutron\" <|split_2d|>\"alpha particle\" <|split_2d|>\"beta particle\" <|end_2d|>Answer: ',\n",
       " 'Which of the following religions developed first?<|start_2d|>\"Buddhism\" <|split_2d|>\"Christianity\" <|split_2d|>\"Islam\" <|split_2d|>\"Hinduism\" <|end_2d|>Answer: ',\n",
       " 'Having a forward-thrusting lower face is called<|start_2d|>\"arboreal.\" <|split_2d|>\"prognathous.\" <|split_2d|>\"diastema.\" <|split_2d|>\"mandible.\" <|end_2d|>Answer: ',\n",
       " 'The amount of heat transferred to a system can be measured in<|start_2d|>\"calories\" <|split_2d|>\"joules\" <|split_2d|>\"Either\" <|split_2d|>\"Neither\" <|end_2d|>Answer: ',\n",
       " 'What is the inverse of $f(x)=4-5x$?<|start_2d|>\"\\\\frac{5}{x-4}\" <|split_2d|>\"\\\\frac{x-4}{5}\" <|split_2d|>\"\\\\frac{x+4}{5}\" <|split_2d|>\"-\\\\frac{x-4}{5}\" <|end_2d|>Answer: ',\n",
       " 'Which ratio can form a proportion with 3 over 8?<|start_2d|>\"18 over 40\" <|split_2d|>\"18 over 56\" <|split_2d|>\"24 over 64\" <|split_2d|>\"15 over 48\" <|end_2d|>Answer: ',\n",
       " 'If $a=7$ and $b=13$, what is the number of even positive integers less than $ab$?<|start_2d|>\"45\" <|split_2d|>\"46\" <|split_2d|>\"90\" <|split_2d|>\"180\" <|end_2d|>Answer: ',\n",
       " 'Which of the following teenagers have the highest pregnancy rates?<|start_2d|>\"U.S.\" <|split_2d|>\"Canadian\" <|split_2d|>\"Swedish\" <|split_2d|>\"French\" <|end_2d|>Answer: ',\n",
       " 'The most rapidly urbanizing area of the world is:<|start_2d|>\"Europe\" <|split_2d|>\"East Asia\" <|split_2d|>\"Sub-Saharan Africa\" <|split_2d|>\"South Asia\" <|end_2d|>Answer: ',\n",
       " ' Kant refers to the special worth or value of persons as<|start_2d|>\"virtue.\" <|split_2d|>\"beauty.\" <|split_2d|>\"praiseworthiness.\" <|split_2d|>\"dignity.\" <|end_2d|>Answer: ',\n",
       " 'As of 2016, about what percentage of adults aged 18 years or older were overweight?<|start_2d|>\"10%\" <|split_2d|>\"20%\" <|split_2d|>\"40%\" <|split_2d|>\"80%\" <|end_2d|>Answer: ',\n",
       " 'Estimate 153 + 44. The sum is between which numbers?<|start_2d|>\"100 and 299\" <|split_2d|>\"300 and 499\" <|split_2d|>\"500 and 699\" <|split_2d|>\"700 and 899\" <|end_2d|>Answer: ',\n",
       " 'Which of the following molecules does not form part of DNA?<|start_2d|>\"Purine\" <|split_2d|>\"Pyrimidine\" <|split_2d|>\"Deoxyribose\" <|split_2d|>\"Amino acid\" <|end_2d|>Answer: ',\n",
       " '\" _Ad antiquitatem_ \" is a specific kind of<|start_2d|>\"False cause\" <|split_2d|>\"False sign\" <|split_2d|>\"False analogy\" <|split_2d|>\"Hasty Generalization\" <|end_2d|>Answer: ',\n",
       " 'About how many people are infected by HIV/AIDS as of 2020?<|start_2d|>\"3 million\" <|split_2d|>\"14 million\" <|split_2d|>\"42 million\" <|split_2d|>\"124 million\" <|end_2d|>Answer: ',\n",
       " 'The Doppler effect occurs when a source of sound moves<|start_2d|>\"toward you\" <|split_2d|>\"away from you\" <|split_2d|>\"Both of these\" <|split_2d|>\"None of these\" <|end_2d|>Answer: ',\n",
       " 'The common mutation in α-thalassaemia consists of:<|start_2d|>\"a deletion.\" <|split_2d|>\"a duplication.\" <|split_2d|>\"an insertion.\" <|split_2d|>\"a point mutation.\" <|end_2d|>Answer: ',\n",
       " 'Which of the following promotes glucose and amino acid uptake by muscle?<|start_2d|>\"Adrenaline\" <|split_2d|>\"Insulin\" <|split_2d|>\"Glycogen\" <|split_2d|>\"Cortisol\" <|end_2d|>Answer: ',\n",
       " 'The most common cystic fibrosis mutation consists of:<|start_2d|>\"a deletion.\" <|split_2d|>\"a duplication.\" <|split_2d|>\"a substitution.\" <|split_2d|>\"an insertion.\" <|end_2d|>Answer: ',\n",
       " 'A shortage of these two vitamins can produce symptoms that mimic dementia:<|start_2d|>\"A and C\" <|split_2d|>\"B6 and B12\" <|split_2d|>\"B6 and D\" <|split_2d|>\"B12 and E\" <|end_2d|>Answer: ',\n",
       " 'In which set do all of the values make the inequality 2x — 1 < 10 true?<|start_2d|>\"{10, 15, 20}\" <|split_2d|>\"{5, 7, 9}\" <|split_2d|>\"{4, 6, 8}\" <|split_2d|>\"{2, 3, 4}\" <|end_2d|>Answer: ',\n",
       " 'The mutational mechanism in δβ-thalassaemia consists of:<|start_2d|>\"a deletion.\" <|split_2d|>\"a duplication.\" <|split_2d|>\"an insertion.\" <|split_2d|>\"a point mutation.\" <|end_2d|>Answer: ',\n",
       " 'Which of the following have menstrual cycles?<|start_2d|>\"some monkey species\" <|split_2d|>\"some ape species\" <|split_2d|>\"some breeds of dogs\" <|split_2d|>\"a and b only\" <|end_2d|>Answer: ',\n",
       " 'A liquid element that is a dark-colored, nonconducting substance at room temperature is<|start_2d|>\"mercury\" <|split_2d|>\"bromine\" <|split_2d|>\"iodine\" <|split_2d|>\"bismuth\" <|end_2d|>Answer: ',\n",
       " 'Find the sum of the primes between 100 and 200, inclusive, that are 1 or 2 more than a perfect square.<|start_2d|>\"102\" <|split_2d|>\"298\" <|split_2d|>\"256\" <|split_2d|>\"300\" <|end_2d|>Answer: ',\n",
       " 'As of 2019, about what percentage of Germans say the relationship between the U.S. and Germany is good?<|start_2d|>\"34%\" <|split_2d|>\"49%\" <|split_2d|>\"64%\" <|split_2d|>\"79%\" <|end_2d|>Answer: ',\n",
       " 'Which of the following memories uses one transistor and one capacitor as basic memory unit<|start_2d|>\"SRAM\" <|split_2d|>\"DRAM\" <|split_2d|>\"Both SRAM and DRAM\" <|split_2d|>\"None\" <|end_2d|>Answer: ',\n",
       " 'The component of velocity that can remain constant for a tossed baseball is<|start_2d|>\"horizontal\" <|split_2d|>\"vertical\" <|split_2d|>\"Either of these\" <|split_2d|>\"None of these\" <|end_2d|>Answer: ',\n",
       " 'Which of the following was responsible for the most death in the 20th century?<|start_2d|>\"Earthquakes\" <|split_2d|>\"Volcanic activity\" <|split_2d|>\"Wildfires\" <|split_2d|>\"Floods\" <|end_2d|>Answer: ',\n",
       " 'One of the most common reasons for stoma formation is:<|start_2d|>\"irritable bowel syndrome.\" <|split_2d|>\"haemorrhoids.\" <|split_2d|>\"carcinoma.\" <|split_2d|>\"bladder instability.\" <|end_2d|>Answer: ',\n",
       " 'Which of the following terms describes the motion of bending the forearm toward the body?<|start_2d|>\"Abduction\" <|split_2d|>\"Eversion\" <|split_2d|>\"Flexion\" <|split_2d|>\"Pronation\" <|end_2d|>Answer: ',\n",
       " 'Free radicals are produced by<|start_2d|>\"Normal metabolism\" <|split_2d|>\"Excess consumption of Vitamins A and C\" <|split_2d|>\"Lack of sunlight\" <|split_2d|>\"A weakened immune system\" <|end_2d|>Answer: ',\n",
       " 'Which of the following is true of hypothyroidism?<|start_2d|>\"Weight loss\" <|split_2d|>\"Pre-tibial myxoedema\" <|split_2d|>\"A raised TSH level\" <|split_2d|>\"An aversion to warm places\" <|end_2d|>Answer: ',\n",
       " 'The longest side of a triangle is 10. Which of the following could NOT be the lengths of the other two sides?<|start_2d|>\"4, 7\" <|split_2d|>\"5, 5\" <|split_2d|>\"3, 9\" <|split_2d|>\"9, 8\" <|end_2d|>Answer: ',\n",
       " ' Select the best translation into predicate logic: All robots are artifacts.<|start_2d|>\"(∀x)(Ax ∨ Rx)\" <|split_2d|>\"(∀x)(Ax • Rx)\" <|split_2d|>\"(∀x)(Rx ⊃ Ax)\" <|split_2d|>\"(∀x)(Rx • Ax)\" <|end_2d|>Answer: ',\n",
       " 'A high blood ammonia level occurs in:<|start_2d|>\"galactosaemia.\" <|split_2d|>\"Hurler\\'s syndrome.\" <|split_2d|>\"ornithine transcarbamylase (OTC) deficiency.\" <|split_2d|>\"phenylketonuria.\" <|end_2d|>Answer: ',\n",
       " 'As of 2019, about what percentage of people from Turkey agree that the state is run for the benefit of all the people?<|start_2d|>\"36%\" <|split_2d|>\"51%\" <|split_2d|>\"66%\" <|split_2d|>\"81%\" <|end_2d|>Answer: ',\n",
       " 'A person weighs 62 kg. Their drug dose is 15 mg/kg. How many grams is their dose? Choose one answer from the following:<|start_2d|>\"930\" <|split_2d|>\"93\" <|split_2d|>\"9.3\" <|split_2d|>\"0.93\" <|end_2d|>Answer: ',\n",
       " 'Which of the following is/are likely to cause coital pain for BOTH men and women?<|start_2d|>\"infections\" <|split_2d|>\"foreskin too tight\" <|split_2d|>\"vaginismus\" <|split_2d|>\"both A and C\" <|end_2d|>Answer: ',\n",
       " 'Which of the following is/are the disadvantages of an open loop control system?<|start_2d|>\"Inaccurate.\" <|split_2d|>\"Unreliable.\" <|split_2d|>\"both A and B.\" <|split_2d|>\"none of the above.\" <|end_2d|>Answer: ',\n",
       " 'Withdrawal symptoms are most directly caused by which of the following processes?<|start_2d|>\"tolerance\" <|split_2d|>\"dissociation\" <|split_2d|>\"activation-synthesis\" <|split_2d|>\"role theory\" <|end_2d|>Answer: ',\n",
       " 'A DNA strand with the sequence 5′ CGA TTG 3′ would be complementary to the sequence<|start_2d|>\"5′ GCU AAC 3′\" <|split_2d|>\"5′ GCT AAC 3′\" <|split_2d|>\"5′ GTT AGC 3′\" <|split_2d|>\"5′ CAA TCG 3′\" <|end_2d|>Answer: ',\n",
       " 'If you travel at high speed, then compared with your friends who “stay at home,” you are<|start_2d|>\"older.\" <|split_2d|>\"younger.\" <|split_2d|>\"neither younger nor older.\" <|split_2d|>\"longer.\" <|end_2d|>Answer: ',\n",
       " 'As a blinking light source approaching you gains speed, you see the frequency of flashes<|start_2d|>\"increase.\" <|split_2d|>\"decrease.\" <|split_2d|>\"remain unchanged.\" <|split_2d|>\"None of these.\" <|end_2d|>Answer: ',\n",
       " 'Households demand more money as an asset when<|start_2d|>\"nominal GDP falls.\" <|split_2d|>\"the nominal interest rate falls.\" <|split_2d|>\"bond prices fall.\" <|split_2d|>\"the supply of money falls.\" <|end_2d|>Answer: ',\n",
       " 'Mark has a stamp collection. He has 22 stamps from Japan, 34 from Canada, and 17 from Mexico. How many stamps does he have in all?<|start_2d|>\"53\" <|split_2d|>\"63\" <|split_2d|>\"73\" <|split_2d|>\"83\" <|end_2d|>Answer: ',\n",
       " 'Which of the following activities are NOT secondary economic activities?<|start_2d|>\"Assembling automotive parts\" <|split_2d|>\"Sewing shirts\" <|split_2d|>\"Mining copper\" <|split_2d|>\"Binding books\" <|end_2d|>Answer: ',\n",
       " 'Poles and zeros are arranged alternatively on negative real axis, then type of network is/are<|start_2d|>\"LC network.\" <|split_2d|>\"RC network.\" <|split_2d|>\"RL network.\" <|split_2d|>\"Both 2 and 3.\" <|end_2d|>Answer: ',\n",
       " 'The percentage of children in India (age 8) who reported physical punishment by teachers in the past week in 2009 was about what?<|start_2d|>\"38%\" <|split_2d|>\"58%\" <|split_2d|>\"78%\" <|split_2d|>\"98%\" <|end_2d|>Answer: ',\n",
       " 'Over the last decade or two, which of the following causes of death has shown a huge increase?<|start_2d|>\"Alzheimer\\'s\" <|split_2d|>\"Cancer\" <|split_2d|>\"Cardiovascular diseases\" <|split_2d|>\"Homicide\" <|end_2d|>Answer: ',\n",
       " 'The graph of the equation $x + 2y + 3 = 0$ is perpendicular to the graph of the equation $ax + 2y + 3 = 0$. What is the value of $a$?<|start_2d|>\"-4\" <|split_2d|>\"-13\" <|split_2d|>\"-9\" <|split_2d|>\"-15\" <|end_2d|>Answer: ',\n",
       " 'What will be the number of lamps, each having 300 lumens, required to obtain an average illuminance of 50 lux on a 4m * 3m rectangular room?<|start_2d|>\"2\" <|split_2d|>\"4\" <|split_2d|>\"5\" <|split_2d|>\"6\" <|end_2d|>Answer: ',\n",
       " 'Parasympathetic preganglionic axons leave the CNS with the<|start_2d|>\"cervical spinal nerves.\" <|split_2d|>\"thoracic spinal nerves.\" <|split_2d|>\"lumbar spinal nerves.\" <|split_2d|>\"sacral spinal nerves.\" <|end_2d|>Answer: ',\n",
       " ' Select the best translation into predicate logic: No senior graduates without a major.<|start_2d|>\"(∀x)(Sx ⊃ ~Gx)\" <|split_2d|>\"~(∀x)(Sx ⊃ Gx)\" <|split_2d|>\"(∀x)( ~Sx ⊃ ~Gx)\" <|split_2d|>\"(∀x) ~(Sx ⊃ ~Gx)\" <|end_2d|>Answer: ',\n",
       " 'A string is plucked producing four loops (antinodes). The length of the string is 12.00 m. The wavelength of the wave must be<|start_2d|>\"48.0 m\" <|split_2d|>\"24.0 m\" <|split_2d|>\"6.00 m\" <|split_2d|>\"3.00 m\" <|end_2d|>Answer: ',\n",
       " 'According to Sartre, if God does not exist, _____.<|start_2d|>\"anything is permissible\" <|split_2d|>\"moral values must come from nature\" <|split_2d|>\"moral values still exist\" <|split_2d|>\"man does not exist\" <|end_2d|>Answer: ',\n",
       " 'Which of the following industries does NOT need to be close to its markets?<|start_2d|>\"Dairy foods\" <|split_2d|>\"Bulk-gaining products\" <|split_2d|>\"Single-market products\" <|split_2d|>\"Bulk-reducing products\" <|end_2d|>Answer: ',\n",
       " 'Which of the following karyotypes is diagnostic of Down syndrome<|start_2d|>\"46,XX,der(14;21)(q10;q10)pat+21\" <|split_2d|>\"47,XY,+13\" <|split_2d|>\"45,XX,rob,(14;21)(q10;q10)\" <|split_2d|>\"46,XY,t(2;3)(q21;q12)\" <|end_2d|>Answer: ',\n",
       " 'According to Epicurus, the wise man:<|start_2d|>\"yearns for the end of life.\" <|split_2d|>\"fears the cessation of life.\" <|split_2d|>\"is unconcerned with death.\" <|split_2d|>\"realizes that death is an illusion.\" <|end_2d|>Answer: ',\n",
       " 'The equation ΔH = ΔU + PΔV is applicable<|start_2d|>\"always\" <|split_2d|>\"only for constant pressure processes\" <|split_2d|>\"only for constant temperature processes\" <|split_2d|>\"only for constant volume processes\" <|end_2d|>Answer: ',\n",
       " 'The theory that whoever controlled the landmass of Europe would rule the world is called the<|start_2d|>\"devolution theory.\" <|split_2d|>\"domino theory.\" <|split_2d|>\"heartland theory.\" <|split_2d|>\"rimland theory.\" <|end_2d|>Answer: ',\n",
       " ' According to Velleman, who, if anyone, should decide whether a patient receives euthanasia?<|start_2d|>\"the patient\" <|split_2d|>\"the patient\\'s family\" <|split_2d|>\"the patient\\'s caregiver\" <|split_2d|>\"legislators\" <|end_2d|>Answer: ',\n",
       " 'Augustine claims that Academic skepticism:<|start_2d|>\"is true, and can be proven.\" <|split_2d|>\"is true, but cannot be proven\" <|split_2d|>\"is false but cannot be refuted.\" <|split_2d|>\"is false and can be refuted.\" <|end_2d|>Answer: ',\n",
       " 'When a 17-year-old student is failing at school, which society would most likely hold the parents accountable?<|start_2d|>\"United States of America\" <|split_2d|>\"Canadian\" <|split_2d|>\"Japanese\" <|split_2d|>\"English\" <|end_2d|>Answer: ',\n",
       " ' These goods are low-priced products that are bought frequently, are used just once, and incur low levels of purchase risk:<|start_2d|>\"Non-durable.\" <|split_2d|>\"Durable.\" <|split_2d|>\"Generic.\" <|split_2d|>\"Luxury.\" <|end_2d|>Answer: ',\n",
       " 'All of the following are constitutionally mandated presidential powers EXCEPT the power to<|start_2d|>\"negotiate treaties\" <|split_2d|>\"veto legislation\" <|split_2d|>\"grant reprieves and pardons\" <|split_2d|>\"declare war\" <|end_2d|>Answer: ',\n",
       " 'What is the principal tool used in all forms of psychotherapy?<|start_2d|>\"talking to a patient\" <|split_2d|>\"cognitive/behavioral interventions\" <|split_2d|>\"biomedical/cognitive treatments\" <|split_2d|>\"somatic therapies\" <|end_2d|>Answer: ',\n",
       " 'National income measures<|start_2d|>\"household income in the nation.\" <|split_2d|>\"income earned by the factors of production.\" <|split_2d|>\"GDP minus depreciation and indirect business taxes.\" <|split_2d|>\"(B) (C) and (D).\" <|end_2d|>Answer: ',\n",
       " 'If I wanted to ship a small piece of very valuable jewelry to my aunt who lives in Poughkeepsie, which mode of transportation makes the most sense?<|start_2d|>\"Truck\" <|split_2d|>\"Air\" <|split_2d|>\"Ship\" <|split_2d|>\"Railroad\" <|end_2d|>Answer: ',\n",
       " 'The star Betelgeuse is one of the brightest stars in the night sky with remarkable red color. In which constellation is Betelgeuse located?<|start_2d|>\"Cassiopeia\" <|split_2d|>\"Cygnus\" <|split_2d|>\"Ursa Major\" <|split_2d|>\"Orion\" <|end_2d|>Answer: ',\n",
       " 'Which of the following is not a characteristic of a kinked demand curve?<|start_2d|>\"A range of marginal costs over which MR = MC.\" <|split_2d|>\"P < MC.\" <|split_2d|>\"Interdependence of rivals.\" <|split_2d|>\"Pricing at the kink.\" <|end_2d|>Answer: ',\n",
       " 'The rate law may be written using stoichiometric coefficients for which of the following?<|start_2d|>\"Precipitation reactions\" <|split_2d|>\"Acid-base reactions\" <|split_2d|>\"Elementary processes\" <|split_2d|>\"Solubility reactions\" <|end_2d|>Answer: ',\n",
       " 'Baier claims that ethical skepticism is often due to:<|start_2d|>\"confused metaphysical theories.\" <|split_2d|>\"confused epistemological theories.\" <|split_2d|>\"confused religious views.\" <|split_2d|>\"confused scientific theories.\" <|end_2d|>Answer: ',\n",
       " 'Which of the following conditions is characterized by the presence of kidney stones (renal calculi)?<|start_2d|>\"Glomerulonephritis\" <|split_2d|>\"Interstitial nephritis\" <|split_2d|>\"Nephrolithiasis\" <|split_2d|>\"Polycystic kidney\" <|end_2d|>Answer: ',\n",
       " 'A particle decays in 2.0 ms in its rest frame. If the same particle moves at v=0.60c in the lab frame, how far will it travel in the lab before decaying?<|start_2d|>\"150 m\" <|split_2d|>\"288 m\" <|split_2d|>\"360 m\" <|split_2d|>\"450 m\" <|end_2d|>Answer: ',\n",
       " 'Real GDP<|start_2d|>\"is actual GDP as opposed to the estimate made by the BEA.\" <|split_2d|>\"is also called current-dollar GDP.\" <|split_2d|>\"is GDP adjusted for price changes.\" <|split_2d|>\"is not calculated for the United States.\" <|end_2d|>Answer: ',\n",
       " 'What is the pH of a solution made by dissolving 0.0300 mol of sodium ethanoate in enough water to make 50 mL of solution (Ka for ethanoic acid is 1.8 × 10^-5)?<|start_2d|>\"7\" <|split_2d|>\"9.26\" <|split_2d|>\"4.74\" <|split_2d|>\"11.02\" <|end_2d|>Answer: ',\n",
       " 'Given that a rectangle with length $3x$ inches and width $x + 5$ inches has the property that its area and perimeter have equal values, what is $x$?<|start_2d|>\"1\" <|split_2d|>\"5\" <|split_2d|>\"\\\\frac{10}{3}\" <|split_2d|>\"\\\\frac{3}{10}\" <|end_2d|>Answer: ',\n",
       " 'If interest rates rise relatively more in country A than in country B then the value of country A\\'s currency will<|start_2d|>\"appreciate.\" <|split_2d|>\"depreciate.\" <|split_2d|>\"remain unchanged.\" <|split_2d|>\"change indeterminately.\" <|end_2d|>Answer: ',\n",
       " 'Which of the following is a fundamental economic question?<|start_2d|>\"Who will get how much of each good and service?\" <|split_2d|>\"Who should pay taxes?\" <|split_2d|>\"Who will work?\" <|split_2d|>\"Who will make the economic decisions?\" <|end_2d|>Answer: ',\n",
       " 'Familial hypercholesterolaemia is caused by mutations in the gene which encodes what?<|start_2d|>\"High density lipoprotein\" <|split_2d|>\"HMG-CoA reductase\" <|split_2d|>\"Low density lipoprotein\" <|split_2d|>\"Low density lipoprotein receptor\" <|end_2d|>Answer: ',\n",
       " 'Tara can develop 2 rolls of film in about 18 minutes. At this rate, how long will it take her to develop 8 rolls of film?<|start_2d|>\"42 minutes\" <|split_2d|>\"1 hour 12 minutes\" <|split_2d|>\"1 hour 20 minutes\" <|split_2d|>\"1 hour 44 minutes\" <|end_2d|>Answer: ',\n",
       " 'The CPI is calculated for each by<|start_2d|>\"week; The Bureau of Economic Analysis\" <|split_2d|>\"month; The Bureau of Economic Analysis\" <|split_2d|>\"month; The Bureau of Labor Statistics\" <|split_2d|>\"quarter; The Bureau of Economic Analysis\" <|end_2d|>Answer: ',\n",
       " 'In what situation are closed pouches applied?<|start_2d|>\"The patient has a semi-formed or liquid output.\" <|split_2d|>\"The patient has a colostomy.\" <|split_2d|>\"In the immediate post-operative period.\" <|split_2d|>\"The patient has a urostomy.\" <|end_2d|>Answer: ',\n",
       " 'Which of the following is NOT a characteristic of perfectly competitive industry?<|start_2d|>\"Free entry into the industry.\" <|split_2d|>\"Product differentiation.\" <|split_2d|>\"Perfectly elastic demand curve.\" <|split_2d|>\"Homogeneous products.\" <|end_2d|>Answer: ',\n",
       " 'The amplitude of a free induction decay drops to 25% of its initial intensity after 1.0 s. Assuming exponential relaxation and Ω = 0, determine the value of T2.<|start_2d|>\"0.721 s\" <|split_2d|>\"0.750 s\" <|split_2d|>\"1.386 s\" <|split_2d|>\"1.661 s\" <|end_2d|>Answer: ',\n",
       " 'What is the work involved if a gas in a 2.0-liter container at 2.4 atmospheres pressure is allowed to expand against a pressure of 0.80 atmosphere?<|start_2d|>\"-3.2 L atm\" <|split_2d|>\"-9.62 L atm\" <|split_2d|>\"-4.8 L atm\" <|split_2d|>\"+14.4 L atm\" <|end_2d|>Answer: ',\n",
       " 'Feinberg claims that most arguments for psychological egoism:<|start_2d|>\"make reference to neuroscience.\" <|split_2d|>\"are based on controlled studies.\" <|split_2d|>\"are based on interviews and surveys.\" <|split_2d|>\"are nonempirical in character.\" <|end_2d|>Answer: ',\n",
       " 'Unlike Mesopotamian writings, the records left by the Maya are principally concerned with:<|start_2d|>\"political and military history.\" <|split_2d|>\"philosophy and religion.\" <|split_2d|>\"trade and economics.\" <|split_2d|>\"astronomy and mathematics.\" <|end_2d|>Answer: ',\n",
       " ' The decision to remove Terri Schiavo\\'s feeding tube, thus allowing her to die of dehydration, is a case of:<|start_2d|>\"voluntary euthanasia.\" <|split_2d|>\"physician-assisted suicide.\" <|split_2d|>\"passive euthanasia.\" <|split_2d|>\"active euthanasia.\" <|end_2d|>Answer: ',\n",
       " 'According to Alfred Weber\\'s least-cost theory, which one of the following costs of production is the most important factor in locating an industry?<|start_2d|>\"Labor\" <|split_2d|>\"Transport\" <|split_2d|>\"Raw materials\" <|split_2d|>\"Agglomeration costs\" <|end_2d|>Answer: ',\n",
       " 'High intake of which of these dietary components predisposes to accelerated cognitive decline\\n<|start_2d|>\"High glycaemic index carbohydrates\" <|split_2d|>\"A high n-6:n-3 fat ratio\" <|split_2d|>\"Long chain saturated fats\" <|split_2d|>\"All of the above\" <|end_2d|>Answer: ',\n",
       " 'Which of the following is a characteristic of monopolistic competition in the long run?<|start_2d|>\"Strong barriers to entry.\" <|split_2d|>\"Homogeneous products.\" <|split_2d|>\"Zero economic profits.\" <|split_2d|>\"Minimum average total cost equals price.\" <|end_2d|>Answer: ',\n",
       " 'What is the name of the lithic technology seen in the Arctic and consisting of wedge-shaped cores, micro-blades, bifacial knives, and burins?<|start_2d|>\"Clovis Complex\" <|split_2d|>\"Denali Complex\" <|split_2d|>\"Folsom Complex\" <|split_2d|>\"Nenana Complex\" <|end_2d|>Answer: ',\n",
       " 'Removal of adhesive strips:<|start_2d|>\"can be carried out by the patient.\" <|split_2d|>\"should be undertaken under aseptic conditions.\" <|split_2d|>\"is a specialist skill.\" <|split_2d|>\"should not be undertaken until at least seven days after application.\" <|end_2d|>Answer: ',\n",
       " ' All cases of euthanasia in which the patient has consented to the active bringing of his or her death are cases of<|start_2d|>\"voluntary euthanasia.\" <|split_2d|>\"involuntary euthanasia.\" <|split_2d|>\"nonvoluntary euthanasia.\" <|split_2d|>\"passive euthanasia.\" <|end_2d|>Answer: ',\n",
       " ' ________________ occur(s) where there is no prior history of exchange and no future exchanges are expected between a buyer and seller.<|start_2d|>\"Relationship marketing.\" <|split_2d|>\"Service mix.\" <|split_2d|>\"Market exchanges.\" <|split_2d|>\"Service failure.\" <|end_2d|>Answer: ',\n",
       " 'The majority of Supreme Court justices<|start_2d|>\"are appointed by presidents of the same political party\" <|split_2d|>\"have no prior judicial experience\" <|split_2d|>\"switch party affiliation during their term\" <|split_2d|>\"stay on the court for only a decade\" <|end_2d|>Answer: ',\n",
       " 'The most common form of Down syndrome results during sex cell formation and fertilization from<|start_2d|>\"three copies of chromosome 19\" <|split_2d|>\"three copies of chromosome 21\" <|split_2d|>\"loss of a chromosome\" <|split_2d|>\"failure of the separation of XX\" <|end_2d|>Answer: ',\n",
       " 'Arguing that someone should do something because other people are doing it is a description of which of the following fallacies?<|start_2d|>\"appeal to common practice\" <|split_2d|>\"snob appeal\" <|split_2d|>\"argument by consensus\" <|split_2d|>\"appeal to tradition\" <|end_2d|>Answer: ',\n",
       " 'Which of the following is not correct for the perfectly competitive firm, in the long run?<|start_2d|>\"price = minimum average cost.\" <|split_2d|>\"price = marginal revenue.\" <|split_2d|>\"price = minimum average variable cost.\" <|split_2d|>\"price = marginal cost.\" <|end_2d|>Answer: ',\n",
       " 'Early settlements and high population density along coastlines and rivers are best attributed to which of the following?<|start_2d|>\"Mediterranean climate\" <|split_2d|>\"Limited forest cover\" <|split_2d|>\"Growth of manufacturing\" <|split_2d|>\"Access to trade routes\" <|end_2d|>Answer: ',\n",
       " 'If a series, y, follows a random walk with drift b, what is the optimal one-step ahead forecast of the change in y?<|start_2d|>\"The current value of y\" <|split_2d|>\"Zero\" <|split_2d|>\"One\" <|split_2d|>\"The average value of the change in y over the in-sample period\" <|end_2d|>Answer: ',\n",
       " 'The ability for firms to enter and exit a market over time means that<|start_2d|>\"the marginal cost is zero\" <|split_2d|>\"the marginal revenue is zero\" <|split_2d|>\"the long run supply curve is more elastic\" <|split_2d|>\"the long run supply curve is more inelastic\" <|end_2d|>Answer: ',\n",
       " 'What does PEST stand for?<|start_2d|>\"Political, environmental, strategic, testing\" <|split_2d|>\"Political, environmental, strategic, technological\" <|split_2d|>\"Political, economic, strategic, technological\" <|split_2d|>\"Political, economic, social, technological\" <|end_2d|>Answer: ',\n",
       " 'Which of the following statements is not true?\\n<|start_2d|>\"Vegan diets are likely to be deficient in protein\" <|split_2d|>\"Cereals are deficient in lysine\" <|split_2d|>\"Legumes are deficient in methionine\" <|split_2d|>\"Dairy products are rich source of tryptophan\" <|end_2d|>Answer: ',\n",
       " 'If Owen has blue jeans with a 32-inch waist, what will be the new jean waist size Owen has to wear (to the nearest whole inch) if his waist circumference increases by 15%?<|start_2d|>\"35 inches\" <|split_2d|>\"36 inches\" <|split_2d|>\"37 inches\" <|split_2d|>\"38 inches\" <|end_2d|>Answer: ',\n",
       " 'Under the null hypothesis of a Bera-Jarque test, the distribution has<|start_2d|>\"Zero skewness and zero kurtosis\" <|split_2d|>\"Zero skewness and a kurtosis of three\" <|split_2d|>\"Skewness of one and zero kurtosis\" <|split_2d|>\"Skewness of one and kurtosis of three.\" <|end_2d|>Answer: ',\n",
       " 'The reaction time difference between younger and older adults is reduced when older adults<|start_2d|>\"Practice regular aerobic exercise\" <|split_2d|>\"Lift weights on a regular schedule\" <|split_2d|>\"Consume large quantities of vitamins\" <|split_2d|>\"Practice Tai chi\" <|end_2d|>Answer: ',\n",
       " 'What nutritional strategies will not improve performance during prolonged endurance type exercise?\\n<|start_2d|>\"Carbohydrate loading\" <|split_2d|>\"Tapering\" <|split_2d|>\"The classic glycogen loading regime\" <|split_2d|>\"Exogenous carbohydrate ingestion during exercise\" <|end_2d|>Answer: ',\n",
       " 'Let $f(x)=\\\\frac{(x-2)^2-9}{3}$. The equation $y=f(x)$ is graphed, and the $x$- and $y$-intercepts of the graph are connected to form a polygon. What is the area of that polygon?<|start_2d|>\"5\" <|split_2d|>\"\\\\frac{25}{6}\" <|split_2d|>\"\\\\frac{\\\\sqrt{2465}{9}\" <|split_2d|>\"2\" <|end_2d|>Answer: ',\n",
       " 'DNA damage/repair theory claims that senescence is due to cells getting incorrect instructions from DNA damaged by sources such as<|start_2d|>\"Radiation from anti-oxidants\" <|split_2d|>\"Metabolic processes\" <|split_2d|>\"Free radicals and sunlight\" <|split_2d|>\"Telomerase\" <|end_2d|>Answer: ',\n",
       " 'For an SCR gate cathode characteristic is a straight line of 130. For triggered source volume of 15 V and allowable gate power dissipation of 0.5 W compute the gate source resistance?<|start_2d|>\"111.9 ohm\" <|split_2d|>\"11.19 ohm\" <|split_2d|>\"108 ohm\" <|split_2d|>\"115 ohm\" <|end_2d|>Answer: ',\n",
       " 'At a college, approximately 2 out of 5 seniors go on to attend graduate school. If there are 750 seniors at the college, how many would be expected to attend graduate school?<|start_2d|>\"75 seniors\" <|split_2d|>\"107 seniors\" <|split_2d|>\"300 seniors\" <|split_2d|>\"400 seniors\" <|end_2d|>Answer: ',\n",
       " 'Brandt claims that whether a moral code is ideal depends in part on:<|start_2d|>\"the complexity of the rules.\" <|split_2d|>\"how many people would likely violate it.\" <|split_2d|>\"the costs of its restrictions, in terms of the guilt it induces.\" <|split_2d|>\"all of the above.\" <|end_2d|>Answer: ',\n",
       " 'Consumer surplus is<|start_2d|>\"the price of a good divided by its marginal utility.\" <|split_2d|>\"the marginal utility of the good divided by its price.\" <|split_2d|>\"the total utility of the good.\" <|split_2d|>\"the difference between the consumer\\'s value and the market price.\" <|end_2d|>Answer: ',\n",
       " 'Which of the following U.S. main immigration flow associations is NOT correct?<|start_2d|>\"Pioneer settlement to 1870—Germans, British, Scotch-Irish, Africans\" <|split_2d|>\"1870–1914—Asians\" <|split_2d|>\"1870–1914—Eastern and southern Europeans\" <|split_2d|>\"1965–present—Hispanics\" <|end_2d|>Answer: ',\n",
       " 'Which of the following will be increased in vitamin K deficiency\\n<|start_2d|>\"The plasma concentration of calcitonin\" <|split_2d|>\"The plasma concentration of prothrombin\" <|split_2d|>\"The time for blood to clot\" <|split_2d|>\"Haemolysis due to oxidative damage to red cell membranes\" <|end_2d|>Answer: ',\n",
       " 'All of the following are consequences of low voter turnout in the United States EXCEPT<|start_2d|>\"a perception of the government as illegitimate\" <|split_2d|>\"a lack of true democracy\" <|split_2d|>\"a lack of minority representation\" <|split_2d|>\"an imposition of a fine on non-voters\" <|end_2d|>Answer: ',\n",
       " ' According to the British Government, which of the following is not a marketing function?<|start_2d|>\"Promote marketing intelligence.\" <|split_2d|>\"Develop sales tactics.\" <|split_2d|>\"Develop the customer proposition.\" <|split_2d|>\"Work with other business functions and third parties.\" <|end_2d|>Answer: ',\n",
       " 'Let V be the real vector space of all real 2 x 3 matrices, and let W be the real vector space of all real 4 x 1 column vectors. If T is a linear transformation from V onto W, what is the dimension of the subspace kernel of T?<|start_2d|>\"2\" <|split_2d|>\"3\" <|split_2d|>\"4\" <|split_2d|>\"5\" <|end_2d|>Answer: ',\n",
       " 'Of the classes of dietary fatty acids which have the most beneficial effect on plasma LDL cholesterol levels?\\n<|start_2d|>\"n-3 and n-6 polyunsaturated fatty acids\" <|split_2d|>\"Saturated and trans unsaturated fatty acids\" <|split_2d|>\"Monounsaturated fatty acids\" <|split_2d|>\"Both a and c\" <|end_2d|>Answer: ',\n",
       " 'Mary lives in a neighborhood with stores, offices, and restaurants so close that she does not need to own a car; however, she feels she has very little privacy. This is an example of a(n)<|start_2d|>\"win-win.\" <|split_2d|>\"trade-off.\" <|split_2d|>\"infill.\" <|split_2d|>\"leapfrog development.\" <|end_2d|>Answer: ',\n",
       " 'Under conditions of metabolic or other stress, which of the following amino acids generally regarded as being dispensable may be required in greater amount than can readily be synthesised in the body?\\n<|start_2d|>\"Glutamate\" <|split_2d|>\"Alanine\" <|split_2d|>\"Aspartate\" <|split_2d|>\"Glycine\" <|end_2d|>Answer: ',\n",
       " 'Which of the following is true of Paget\\'s Disease?<|start_2d|>\"Bowing of a long bone is a characteristic feature\" <|split_2d|>\"Spinal cord compression is a common complication\" <|split_2d|>\"Heart failure is not a recognized complication\" <|split_2d|>\"Pathological fractures are not a feature\" <|end_2d|>Answer: ',\n",
       " 'In adolescence:\\n<|start_2d|>\"Brain growth is faster than at any other stage in life\" <|split_2d|>\"Peak bone mass occurs before the growth spurt ends\" <|split_2d|>\"Girls physiologically increase their percentage body fat\" <|split_2d|>\"Type 2 obesity related diabetes remains a very rare problem\" <|end_2d|>Answer: ',\n",
       " 'In what order do managers typically perform the managerial functions?<|start_2d|>\"organising, planning, controlling, leading\" <|split_2d|>\"organising, leading, planning, controlling\" <|split_2d|>\"planning, organising, leading, controlling\" <|split_2d|>\"planning, organising, controlling, leading\" <|end_2d|>Answer: ',\n",
       " 'Mary Ainsworth placed babies into a strange situation and observed the babies\\' reactions when the parents left and then returned. What developmental concept was Ainsworth studying?<|start_2d|>\"parenting style\" <|split_2d|>\"motor development\" <|split_2d|>\"infant reflexes\" <|split_2d|>\"attachment\" <|end_2d|>Answer: ',\n",
       " 'When using visual methods in a research project what should you take into consideration alongside the legal guidelines?<|start_2d|>\"What constitutes a public space\" <|split_2d|>\"Protecting individuals from potential harm\" <|split_2d|>\"Any risk of invasion of privacy\" <|split_2d|>\"All of the above.\" <|end_2d|>Answer: ',\n",
       " ' This approach has been used to convey particular information and help educate large target audiences through television and radio programmes. This approach is referred to as:<|start_2d|>\"Opinion followers.\" <|split_2d|>\"Opinion formers.\" <|split_2d|>\"Public relations.\" <|split_2d|>\"Opinion leaders.\" <|end_2d|>Answer: ',\n",
       " 'If we take sin x and change it to 3 sin 2x, what will happen to the domain and range of the function?<|start_2d|>\"Domain and range remain the same\" <|split_2d|>\"Domain is double; range remains the same\" <|split_2d|>\"Domain is tripled; range is doubled\" <|split_2d|>\"Domain is the same; range is tripled\" <|end_2d|>Answer: ',\n",
       " 'Hobbes claims that all of the laws of nature can be summarized in the precept:<|start_2d|>\"maximize happiness.\" <|split_2d|>\"never treat another person as a means to your ends.\" <|split_2d|>\"do not do to another what you would not have done to yourself.\" <|split_2d|>\"practice virtue in all that you do.\" <|end_2d|>Answer: ',\n",
       " 'These are stores designed to kill off the competition and are characterized by narrow but very deep product assortment, low prices, and few to moderate customer services:<|start_2d|>\"Speciality stores.\" <|split_2d|>\"Limited line retailers.\" <|split_2d|>\"Category-killer stores.\" <|split_2d|>\"Superstores.\" <|end_2d|>Answer: ',\n",
       " 'With a managed float<|start_2d|>\"countries occasionally intervene in foreign exchange markets.\" <|split_2d|>\"countries never have to intervene in foreign exchange markets.\" <|split_2d|>\"countries must constantly intervene to maintain the value of their currencies.\" <|split_2d|>\"exchange rates are fixed.\" <|end_2d|>Answer: ',\n",
       " 'In a long period of economic expansion the tax revenue collected ____ and the amount spent on welfare programs ____ creating a budget ____ .<|start_2d|>\"increases decreases surplus\" <|split_2d|>\"increases decreases deficit\" <|split_2d|>\"decreases decreases surplus\" <|split_2d|>\"decreases increases deficit\" <|end_2d|>Answer: ',\n",
       " 'In the author\\'s two-hour movie representing the history of the universe, when do the earliest members of the human family appear?<|start_2d|>\"at the beginning of the film\" <|split_2d|>\"about half way through the film\" <|split_2d|>\"90 minutes into the film\" <|split_2d|>\"during the final 3 seconds of the film\" <|end_2d|>Answer: ',\n",
       " ' Select the best translation into predicate logic. Some CEO is wealthier than everyone. (Cx: x is a CEO; Px: x is a person; Wxy: x is wealthier than y)<|start_2d|>\"(∃x)[Cx • (∀y)(Py • Wxy)]\" <|split_2d|>\"(∃x)[Cx ⊃ (∀y)(Py ⊃ Wxy)]\" <|split_2d|>\"(∃x)[Cx • (∀y)(Py ⊃ Wxy)]\" <|split_2d|>\"(∀x)[Px ⊃ (∃y)(Cy ⊃ Wxy)]\" <|end_2d|>Answer: ',\n",
       " ' Nagel thinks that the core of the absolutist position is that<|start_2d|>\"human persons have a right to life.\" <|split_2d|>\"it is permissible to harm as a foreseen but unintended consequence of action.\" <|split_2d|>\"the ends justify the means.\" <|split_2d|>\"the hostility should be directed at its true object.\" <|end_2d|>Answer: ',\n",
       " 'Charles Lyell argued that the Earth must be extremely old based on the fact that:<|start_2d|>\"many processes that can be observed act extremely slowly.\" <|split_2d|>\"uniformitarianism can account for significant geological features.\" <|split_2d|>\"erosion works incredibly slowly.\" <|split_2d|>\"All of the above.\" <|end_2d|>Answer: ',\n",
       " 'Statement 1 | If a group has an element of order 10, then it has elements of orders 1, 2, and 5. Statement 2 | If a group has an element of order 2 and an element of order 3, then it has an element of order 6.<|start_2d|>\"True, True\" <|split_2d|>\"False, False\" <|split_2d|>\"True, False\" <|split_2d|>\"False, True\" <|end_2d|>Answer: ',\n",
       " 'Which of the following is NOT a characteristic of a city in the developing world?<|start_2d|>\"Contains modern centers of commerce\" <|split_2d|>\"Has a well-developed infrastructure\" <|split_2d|>\"Experiences large in-migrations of rural people into the city\" <|split_2d|>\"Produces a large share of its country\\'s GDI\" <|end_2d|>Answer: ',\n",
       " 'Quantitative analyses of TV shows have shown that<|start_2d|>\"Older adults are almost always portrayed in a negative way\" <|split_2d|>\"The more positive portrayals occur during commercials\" <|split_2d|>\"The proportion of older men is particularly low\" <|split_2d|>\"The proportion of older women is particularly low\" <|end_2d|>Answer: ',\n",
       " 'Arabidopsis is advantageous for plant genetic research because:<|start_2d|>\"it is commercially important as a food crop\" <|split_2d|>\"it is an endangered species\" <|split_2d|>\"it is the closest to humans of any existing plant\" <|split_2d|>\"it is a small plant with a small genome size which can be raised inexpensively\" <|end_2d|>Answer: ',\n",
       " 'Given the following major premise, which of the following minor premises could lead to a valid conclusion?\\n\\n\"Either I\\'m going to do well on this test or I\\'m going to be mad.\"<|start_2d|>\"\\'I won\\'t do well on the test\\'\" <|split_2d|>\"\\'I won\\'t take the test\\'\" <|split_2d|>\"\\'My birthday is today\\'\" <|split_2d|>\"both A and B\" <|end_2d|>Answer: ',\n",
       " 'Which of the following is NOT a property of bitmap graphics?<|start_2d|>\"Fast hardware exists to move blocks of pixels efficiently.\" <|split_2d|>\"Realistic lighting and shading can be done.\" <|split_2d|>\"All line segments can be displayed as straight.\" <|split_2d|>\"Polygons can be filled with solid colors and textures.\" <|end_2d|>Answer: ',\n",
       " 'In his special theory of relativity, Einstein stated that the laws of physics are<|start_2d|>\"different in different situations.\" <|split_2d|>\"common sense applied to microscopic and macroscopic things.\" <|split_2d|>\"the same in all frames of reference.\" <|split_2d|>\"the same in all uniformly moving frames of reference.\" <|end_2d|>Answer: ',\n",
       " 'Johnny and Susie are moving to Scotland to renovate and live in the family castle. What makes their move a migration?<|start_2d|>\"They are crossing another country\\'s borders.\" <|split_2d|>\"They are not taking anything with them.\" <|split_2d|>\"They are moving permanently.\" <|split_2d|>\"They will be gone more than one year.\" <|end_2d|>Answer: ',\n",
       " ' According to Shapiro, the standard view has to explain the preeminence of controlled use by arguing that<|start_2d|>\"controlled use is preeminent.\" <|split_2d|>\"drug laws have no effect on access to illegal drugs.\" <|split_2d|>\"drug laws reduce access to illegal drugs.\" <|split_2d|>\"drug laws increase access to illegal drugs.\" <|end_2d|>Answer: ',\n",
       " 'Of the following, which is characteristic of formal operational thinking?<|start_2d|>\"simple motor responses to sensory stimuli\" <|split_2d|>\"failure to understand reversibility\" <|split_2d|>\"capacity to deal well with concrete objects, but not with hypothetical situations\" <|split_2d|>\"logical reasoning and systematic planning\" <|end_2d|>Answer: ',\n",
       " 'Which of the following is an example of a transfer earning?<|start_2d|>\"A superstar basketball player\\'s $40 million earnings.\" <|split_2d|>\"A social security retirement income.\" <|split_2d|>\"A welfare payment from social services.\" <|split_2d|>\"A cashier at a restaurant receiving the same $8 an hour that other cashiers receive.\" <|end_2d|>Answer: ',\n",
       " ' According to Confucian the model of persons,<|start_2d|>\"we learn to be persons through familial relations and by learning from other\\'s example.\" <|split_2d|>\"we are persons because we have immortal, individual souls.\" <|split_2d|>\"we learn to be persons by slowing developing rational capacities.\" <|split_2d|>\"all of the above.\" <|end_2d|>Answer: ',\n",
       " 'An ideal solution is a<|start_2d|>\"mixture where two solvents can be dissolved in all ratios\" <|split_2d|>\"mixture that has the same physical properties as the individual solvents\" <|split_2d|>\"mixture where the potential energy of the mixture is the same as that of the individual solvents\" <|split_2d|>\"mixture that is colorless\" <|end_2d|>Answer: ',\n",
       " 'A dependent variable whose values are not observable outside a certain range but where the corresponding values of the independent variables are still available would be most accurately described as what kind of variable?<|start_2d|>\"Censored\" <|split_2d|>\"Truncated\" <|split_2d|>\"Multinomial variable\" <|split_2d|>\"Discrete choice\" <|end_2d|>Answer: ',\n",
       " 'The long-run average cost curve<|start_2d|>\"is always below the short-run average cost curve\" <|split_2d|>\"is always above the short-run average cost curve\" <|split_2d|>\"always intersects the short-run average cost curve at the minimum of short-run average cost\" <|split_2d|>\"is below the short-run average cost except at one point\" <|end_2d|>Answer: ',\n",
       " 'It is correct to state about the epidemiology of Anorexia Nervosa that:\\n<|start_2d|>\"Females are three times more affected than males\" <|split_2d|>\"It never happens in children or post menopausal women\" <|split_2d|>\"Males from any socioeconomic background can be affected\" <|split_2d|>\"Prevalence rates are 2% for female adolescents\" <|end_2d|>Answer: ',\n",
       " 'Labor productivity and economic growth increase if<|start_2d|>\"a nation subsidizes education for all citizens.\" <|split_2d|>\"a nation imposes tariffs and quotas on imported goods.\" <|split_2d|>\"a nation removes penalties for firms that pollute natural resources.\" <|split_2d|>\"a nation ignores societal barriers like discrimination.\" <|end_2d|>Answer: ',\n",
       " 'Which of the following indicates a primary context?<|start_2d|>\"a landfill where refuse from an entire community has accumulated\" <|split_2d|>\"artifacts, ecofacts, and bone exposed on the ground surface by erosion\" <|split_2d|>\"the existence of a cache or collection of artifacts found where they were left\" <|split_2d|>\"all of the above\" <|end_2d|>Answer: ',\n",
       " '____________ refers to a strategic process involving stakeholder assessment to create long-term relationships with customers, while maintaining, supporting, and enhancing the natural environment.<|start_2d|>\"Eco-strategy\" <|split_2d|>\"Green Marketing\" <|split_2d|>\"Superfund reauthorization\" <|split_2d|>\"Recycle and reprocess management\" <|end_2d|>Answer: ',\n",
       " ' Four competing philosophies strongly influence the role of marketing and marketing activities within an organization. Which if the following is not a component of market orientation?<|start_2d|>\"Customer orientation.\" <|split_2d|>\"Profitability orientation.\" <|split_2d|>\"Interfunctional coordination.\" <|split_2d|>\"Competitor orientation.\" <|end_2d|>Answer: ',\n",
       " 'In the equation of exchange if V and Q are constant then<|start_2d|>\"changes in the price level must be proportional to changes in the money supply.\" <|split_2d|>\"changes in the money supply have no effect on the price level.\" <|split_2d|>\"changes in the price level have no effect on the money supply.\" <|split_2d|>\"the equation is invalid.\" <|end_2d|>Answer: ',\n",
       " 'If the demand for our exports rises while our tastes for foreign goods falls off then<|start_2d|>\"the value of the dollar will tend to appreciate.\" <|split_2d|>\"the value of the dollar will tend to depreciate.\" <|split_2d|>\"exchange rates will be affected but not the value of the dollar.\" <|split_2d|>\"the exchange rate will not be affected.\" <|end_2d|>Answer: ',\n",
       " 'A valid disjunctive syllogism has which of the following characteristics?<|start_2d|>\"The minor premise must either affirm the antecedent or deny the consequent\" <|split_2d|>\"The minor premise must either accept an alternative or reject an alternative\" <|split_2d|>\"One of the premises is missing\" <|split_2d|>\"It reaches a truthful conclusion\" <|end_2d|>Answer: ',\n",
       " 'Appropriate fiscal and monetary polices during the contractionary phase of the business cycle include<|start_2d|>\"budget surpluses and higher discount rates.\" <|split_2d|>\"tax reductions and open market purchases.\" <|split_2d|>\"budget surpluses and lower discount rates.\" <|split_2d|>\"increases in government spending and higher discount rates.\" <|end_2d|>Answer: ',\n",
       " 'Equilibrium real GDP is far below full employment and the government lowers household taxes. Which is the likely result?<|start_2d|>\"Unemployment falls with little inflation.\" <|split_2d|>\"Unemployment rises with little inflation.\" <|split_2d|>\"Unemployment falls with rampant inflation.\" <|split_2d|>\"Unemployment rises with rampant inflation.\" <|end_2d|>Answer: ',\n",
       " 'Why does communitarianism resemble Aristotle\\'s philosophy more than Kant\\'s?<|start_2d|>\"Because Aristotle justified slavery.\" <|split_2d|>\"Because Kant failed to distinguish individual from social morality?\" <|split_2d|>\"Because Aristotle believed that man is a \\'social animal\\'\" <|split_2d|>\"Because Kant regarded the individual as unimportant.\" <|end_2d|>Answer: ',\n",
       " 'Jack picks 60 apples from an apple tree. He uses 12 of them to make applesauce. He places the remaining apples equally into 6 gift baskets. Which equation can be used to determine the numberof apples, a, that Jack places into each gift basket?<|start_2d|>\"(60/6)—12=a\" <|split_2d|>\"(60—12)/6=a\" <|split_2d|>\"(60-6)-12=a\" <|split_2d|>\"(60+12)/6=a\" <|end_2d|>Answer: ',\n",
       " 'This form of marketing communications tool is referred to as \\'a paid, mediated form of communication from an identifiable source, designed to persuade the receiver to take some action, now or in the future\\'. This is referred to as:<|start_2d|>\"Advertising.\" <|split_2d|>\"Personal selling.\" <|split_2d|>\"Public relations.\" <|split_2d|>\"Publicity.\" <|end_2d|>Answer: ',\n",
       " 'Early evidence of complexity in Mayan societies is suggested by the appearance, around 2650 B.P., of:<|start_2d|>\"finely carved obsidian statuary.\" <|split_2d|>\"decorated stepped platforms.\" <|split_2d|>\"the introduction of chocolate into the Mesoamerican economy.\" <|split_2d|>\"a ritual ball game in which the losers were sacrificed to the gods.\" <|end_2d|>Answer: ',\n",
       " 'One of the less obvious reasons for the Inca to fight so many wars may have been:<|start_2d|>\"to develop a story line for powerful epic poetry.\" <|split_2d|>\"to identify and cultivate talented leaders.\" <|split_2d|>\"to kill off a certain percentage of the young male population, thus preventing revolution.\" <|split_2d|>\"to appease the gods of war.\" <|end_2d|>Answer: ',\n",
       " ' Primary data are:<|start_2d|>\"Data collected for the first time specifically for a marketing research study.\" <|split_2d|>\"Less time-consuming to acquire and less costly than secondary data.\" <|split_2d|>\"Newly-published results of government investigations.\" <|split_2d|>\"Part of a strategic planning activity to ensure proper resource allocation.\" <|end_2d|>Answer: ',\n",
       " ' In Singer\\'s understanding, the principle of the equality of human beings is<|start_2d|>\"a description of an alleged actual equality among humans.\" <|split_2d|>\"a description of an alleged actual inequality among humans.\" <|split_2d|>\"a prescription of how we should treat nonhuman animals.\" <|split_2d|>\"a prescription of how we should treat humans.\" <|end_2d|>Answer: ',\n",
       " 'About what percentage of survey respondents from Mexico report having paid a bribe in the last year to access public services (such as education; judiciary; medical and health; police; registry and permit services; utilities; tax revenue and customs; and land service) as of 2017?<|start_2d|>\"31%\" <|split_2d|>\"51%\" <|split_2d|>\"71%\" <|split_2d|>\"91%\" <|end_2d|>Answer: ',\n",
       " 'A patient cuts a peripheral motor nerve in their wrist when they fall through a plate glass window. If the nerve does not regenerate, after about 6 months the muscles it normally innervates will show signs of which of the four options below?<|start_2d|>\"spastic paralysis\" <|split_2d|>\"flaccid paralysis\" <|split_2d|>\"atrophy\" <|split_2d|>\"contracture\" <|end_2d|>Answer: ',\n",
       " 'Which of the following is true about the assessment of arm reflexes?<|start_2d|>\"The root value of the biceps reflex is C5, C6\" <|split_2d|>\"If no reflex is elicited when you tap a tendon it is documented as absent\" <|split_2d|>\"The triceps tendon is struck in the antecubital fossa\" <|split_2d|>\"Brisk finger jerks confirm a lower motor neurone lesion\" <|end_2d|>Answer: ',\n",
       " 'Bob writes down a number between 1 and 1,000. Mary must identify that number by asking \"yes/no\" questions of Bob. Mary knows that Bob always tells the truth. If Mary uses an optimal strategy, then she will determine the answer at the end of exactly how many questions in the worst case?<|start_2d|>\"1,000\" <|split_2d|>\"999\" <|split_2d|>\"500\" <|split_2d|>\"10\" <|end_2d|>Answer: ',\n",
       " 'Transcriptional activator proteins<|start_2d|>\"bind regions near a eukaryotic gene and allow an RNA polymerase to transcribe a gene\" <|split_2d|>\"bind to ribosomes to activate the production of specific proteins\" <|split_2d|>\"are produced during an infection of bacteria by a phage\" <|split_2d|>\"are essential to function of transfer RNAs during translation\" <|end_2d|>Answer: ',\n",
       " 'Which of the following best describes Dworkin\\'s distinction between principles and policies?<|start_2d|>\"Principles are legislative, policies are precedents.\" <|split_2d|>\"Principles describe rights, policies describe duties.\" <|split_2d|>\"Principles are democratic, policies are autocratic.\" <|split_2d|>\"Principles describe rights, policies describe goals.\" <|end_2d|>Answer: ',\n",
       " ' Baxter argues that we should view our treatment of the environment as a matter of various trade-offs whose aim is<|start_2d|>\"to minimize damage incurred by all individual living beings.\" <|split_2d|>\"to minimize the suffering of all sentient creatures.\" <|split_2d|>\"to promote the functional integrity of ecosystems.\" <|split_2d|>\"to promote human welfare.\" <|end_2d|>Answer: ',\n",
       " 'In a number of experiments, Elizabeth Loftus has shown that the wording of a question can affect participants\\' recall of an incident. These studies best illustrate<|start_2d|>\"the reconstructive nature of memory.\" <|split_2d|>\"the serial position effect.\" <|split_2d|>\"the rate at which people forget information.\" <|split_2d|>\"the role of the cerebellum in memory.\" <|end_2d|>Answer: ',\n",
       " 'Why do we look for water-ice in craters at Mercury\\'s pole?<|start_2d|>\"Actually water-ice is all over Mercury and not just at the poles.\" <|split_2d|>\"The pole is the only place fortunate enough to have had comet impacts\" <|split_2d|>\"Radar from the earth can only see Mercury\\'s poles.\" <|split_2d|>\"These craters contain the only permanently shadowed regions on Mercury\" <|end_2d|>Answer: ',\n",
       " 'Federal judges are subject to which of the following disciplinary actions?<|start_2d|>\"Impeachment, conviction, and removal from office by Congress\" <|split_2d|>\"Removal from office by the appointing president\" <|split_2d|>\"Removal from office by the president-elect\" <|split_2d|>\"Recall elections by citizens residing in the district over which the judge has jurisdiction\" <|end_2d|>Answer: ',\n",
       " ' According to Sandel, eugenics and genetic enhancement can be seen to be wrong from a religious perspective because<|start_2d|>\"their use would lead to atheism or agnosticism.\" <|split_2d|>\"in using them, we would confuse our role in creation with God\\'s role.\" <|split_2d|>\"the Bible explicitly opposes all forms of technological enhancement.\" <|split_2d|>\"all of the above\" <|end_2d|>Answer: ',\n",
       " 'How do astronomers think Jupiter generates its internal heat?<|start_2d|>\"through exothermic chemical reactions converting chemical potential energy into thermal energy\" <|split_2d|>\"nuclear fusion\" <|split_2d|>\"by contracting changing gravitational potential energy into thermal energy\" <|split_2d|>\"internal friction due to its rapid rotation rate and differential rotation\" <|end_2d|>Answer: ',\n",
       " 'The Right to _______ has been a long-standing ethical concern for employees which today are addressed in most developed countries through a dense network of occupational health, safety and environmental regulations companies must abide by.<|start_2d|>\"Work-life balance\" <|split_2d|>\"Healthy and safe working conditions\" <|split_2d|>\"Employee privacy\" <|split_2d|>\"Free Speech\" <|end_2d|>Answer: ',\n",
       " 'When both short-run aggregate supply and aggregate demand increase which of the following can be said for certain?<|start_2d|>\"The price level rises but real GDP falls.\" <|split_2d|>\"Both the price level and real GDP rise.\" <|split_2d|>\"The price level rises but the change in real GDP is uncertain.\" <|split_2d|>\"Real GDP rises but the change in the price level is uncertain.\" <|end_2d|>Answer: ',\n",
       " 'Which of the following is an implicit cost for the owner of a small store in your hometown?<|start_2d|>\"The wage that is paid to the assistant manager\" <|split_2d|>\"The cost of purchasing canned goods from a wholesale food distributor\" <|split_2d|>\"The value placed on the owner\\'s skills in an alternative career\" <|split_2d|>\"The cost of cooling the refrigerated meat display\" <|end_2d|>Answer: ',\n",
       " 'The process of invasion and succession is a process involving migration and is best described as when<|start_2d|>\"new residents tear down and rebuild housing units.\" <|split_2d|>\"new residents live peacefully with old residents.\" <|split_2d|>\"new residents assimilate with old residents completely.\" <|split_2d|>\"new residents move into areas occupied by older resident groups.\" <|end_2d|>Answer: ',\n",
       " ' Van den Haag responds to the \"miscarriages of justice\" objection by claiming that<|start_2d|>\"miscarriages of justice are offset by the moral benefits and usefulness of doing justice.\" <|split_2d|>\"there have been no miscarriages of justice, in the sense used in the objection.\" <|split_2d|>\"miscarriages of justice are inevitable and so irrelevant.\" <|split_2d|>\"none of the above\" <|end_2d|>Answer: ',\n",
       " 'The Supreme Court case Regents of University of California v. Bakke concerned which of the following issues?<|start_2d|>\"The rights of students to protest on a publicly funded campus\" <|split_2d|>\"In-class prayer at a publicly funded school\" <|split_2d|>\"The rights of students to carry concealed weapons on campus\" <|split_2d|>\"The use of racial quotas in public university admissions\" <|end_2d|>Answer: ',\n",
       " 'Suppose A and B are n x n invertible matrices, where n > 1, and I is the n x n identity matrix. If A and B are similar matrices, which of the following statements must be true?\\tI. A - 2I and B - 2I are similar matrices. II. A and B have the same trace.\\t III. A^-1 and B^-1 are similar matrices.<|start_2d|>\"I only\" <|split_2d|>\"II only\" <|split_2d|>\"III only\" <|split_2d|>\"I, II, and III\" <|end_2d|>Answer: ',\n",
       " ' The best explanation for drug addiction, according to Shapiro, appeals to<|start_2d|>\"one\\'s individual mindset and social setting.\" <|split_2d|>\"the pharmacological effects of drug use (e.g., withdrawal).\" <|split_2d|>\"one\\'s genetic profile, which explains why some people have \\'addictive personalities.\\'\" <|split_2d|>\"specific psychological disorders such as obsessive-compulsive disorder.\" <|end_2d|>Answer: ',\n",
       " 'Which of the following most accurately describes a retrotransposon?<|start_2d|>\"A DNA sequence that can move from one site in the genome to another without replicating\" <|split_2d|>\"A DNA sequence that can be deleted from the genome without consequence\" <|split_2d|>\"A DNA sequence that replicates via an RNA intermediate\" <|split_2d|>\"A DNA sequence that replicates via a protein intermediate\" <|end_2d|>Answer: ',\n",
       " '\" _Ad novitatem_ \" is<|start_2d|>\"arguing that what is true of a few members of a class is true of all members of the class\" <|split_2d|>\"drawing a conclusion by applying irrelevant criteria to a subject\" <|split_2d|>\"substituting individual stories for a larger sample as support for a claim\" <|split_2d|>\"arguing that something must be good because it is new, or must be bad because it is old\" <|end_2d|>Answer: ',\n",
       " 'While ratifying the Constitution, the primary point of disagreement between Federalists and Anti-Federalists was over<|start_2d|>\"whether representation in Congress should be equal among states or proportional to population\" <|split_2d|>\"the strength of the federal government relative to the states\" <|split_2d|>\"the future of the slave trade\" <|split_2d|>\"whether people had inalienable rights\" <|end_2d|>Answer: ',\n",
       " 'The nebular theory of the formation of the solar system successfully predicts all but one of the following. Which one does the theory not predict?<|start_2d|>\"Planets orbit around the Sun in nearly circular orbits in a flattened disk.\" <|split_2d|>\"the equal number of terrestrial and jovian planets\" <|split_2d|>\"the craters on the Moon\" <|split_2d|>\"asteroids Kuiper-belt comets and the Oort cloud\" <|end_2d|>Answer: ',\n",
       " 'Which of the following statements is most consistent with a capitalist market economy?<|start_2d|>\"Economic resources are allocated according to the decisions of the central bank.\" <|split_2d|>\"Private property is fundamental to innovation, growth, and trade.\" <|split_2d|>\"A central government plans the production and distribution of goods.\" <|split_2d|>\"Most wages and prices are legally controlled.\" <|end_2d|>Answer: ',\n",
       " 'Which of the following may file an amicus curiae brief?<|start_2d|>\"A defendant who wants to know what witnesses the plaintiff plans to call.\" <|split_2d|>\"Former presidents who wish to send instructions to the justices who they appointed.\" <|split_2d|>\"A senator who wants to impeach a Supreme Court justice.\" <|split_2d|>\"Companies that are not involved in a court case but wish to affect the outcome.\" <|end_2d|>Answer: ',\n",
       " 'Since the end of the Pleistocene, humans have increasingly been responsible for the extinction of animal species. If allowed to continue, what are the likely consequences of these extinctions?<|start_2d|>\"It will have negative impacts on agriculture.\" <|split_2d|>\"It will have negative impacts on water quality.\" <|split_2d|>\"It will have negative impacts on human health.\" <|split_2d|>\"All of the above.\" <|end_2d|>Answer: ',\n",
       " 'Which of the statements below is correct about the following argument?\\n\\n\"If the sky is blue there won\\'t be rain. The sky is blue today. Therefore, there won\\'t be rain.\"<|start_2d|>\"It is a formally valid categorical syllogism\" <|split_2d|>\"It is a formally invalid disjunctive syllogism\" <|split_2d|>\"It is a formally valid conditional syllogism\" <|split_2d|>\"It is a formally invalid conditional syllogism\" <|end_2d|>Answer: ',\n",
       " 'Odette is nearing her 70th birthday. Over the last year, she has suffered a loss of appetite and began to experience difficulty sleeping. She has lost interest in her favorite pastimes, gardening and bridge. Odette is most likely to be diagnosed as having<|start_2d|>\"Alzheimer\\'s disease.\" <|split_2d|>\"seasonal affective disorder.\" <|split_2d|>\"insomnia and bulimia.\" <|split_2d|>\"major depressive disorder.\" <|end_2d|>Answer: ',\n",
       " 'Which of the following has the Supreme Court held about the death penalty?<|start_2d|>\"The death penalty may only be imposed upon citizens.\" <|split_2d|>\"Under some circumstances, the death penalty may not violate the Eighth Amendment.\" <|split_2d|>\"Under some circumstances, the death penalty may violate the Third Amendment.\" <|split_2d|>\"States may execute any adult regardless of intellectual disability.\" <|end_2d|>Answer: ',\n",
       " 'If firms that make a particular product expect its price will be lower in the future<|start_2d|>\"this will cause the supply of the product to increase right now.\" <|split_2d|>\"this will cause the supply of the product to decrease right now.\" <|split_2d|>\"this will have no effect on the amount of the product supplied right now.\" <|split_2d|>\"this will have no effect on the supply of the product now or later.\" <|end_2d|>Answer: ',\n",
       " 'For which of these two scenarios does the main character (who uses I/me/my) do something clearly morally wrong, according to ordinary moral standards in the US as of 2020? Scenario 1 | I put sugar in my husband\\'s coffee. Scenario 2 | As my parents laid in bed, I lifted their wedding rings.<|start_2d|>\"Wrong, Wrong\" <|split_2d|>\"Wrong, Not wrong\" <|split_2d|>\"Not wrong, Wrong\" <|split_2d|>\"Not wrong, Not wrong\" <|end_2d|>Answer: ',\n",
       " 'Catharine MacKinnon argues that since men dominate women, the question is ultimately one of power. Which proposition below is the most inconsistent with this argument?<|start_2d|>\"Women can achieve equality through political pressure.\" <|split_2d|>\"Equality is impossible because men define women as different.\" <|split_2d|>\"The idea of \\'woman\\' needs to be redefined.\" <|split_2d|>\"The world is phallocentric and oppressive.\" <|end_2d|>Answer: ',\n",
       " 'If we found that adult age was significantly and positively correlated with consumption of herbal teas, we could conclude that<|start_2d|>\"Drinking herbal teas makes one grow older more slowly\" <|split_2d|>\"Becoming older causes one to begin or increase consumption of herbal teas\" <|split_2d|>\"Older adults drink less herbal tea than do younger adults\" <|split_2d|>\"Older adults drink more herbal tea than do younger adults\" <|end_2d|>Answer: ',\n",
       " 'Which of the following is (are) characteristic of mass spectrometry?\\nI. Analyte molecules are converted to gaseous ions.\\nII. The ions are separated according to their mass-to-charge ratio.\\nIII. In addition to compound identification, mass spectra can be utilized to determine precise isotopic masses and isotopic ratios.<|start_2d|>\"II only\" <|split_2d|>\"I and II only\" <|split_2d|>\"I and III only\" <|split_2d|>\"I, II, and III\" <|end_2d|>Answer: ',\n",
       " 'Which of the following is often true of memory recall?<|start_2d|>\"People are more likely to recall information that is congruent with their prior schemas.\" <|split_2d|>\"People will not recall information unless it is stored in working memory.\" <|split_2d|>\"People have no ability to recall information that has been extinguished.\" <|split_2d|>\"People will recall nonsense syllables more rapidly than they will sets of numbers.\" <|end_2d|>Answer: ',\n",
       " 'Which single statement below, about the stomach, is actually correct?\\n<|start_2d|>\"Acid secretion occurs in response to secretion of the hormone, carbonic anhydrase\" <|split_2d|>\"Glands called Peyer\\'s patches are responsible for acid secretion\" <|split_2d|>\"The vagus nerve inhibits acid secretion after a meal has been consumed\" <|split_2d|>\"Pepsinogen and gastric lipase are two enzymes secreted into the lumen of the stomach\" <|end_2d|>Answer: ',\n",
       " 'If Nation A can produce a good at lower opportunity cost than Nation B can produce the same good it is said that<|start_2d|>\"Nation A has comparative advantage in the production of that good.\" <|split_2d|>\"Nation B has comparative advantage in the production of that good.\" <|split_2d|>\"Nation A has absolute advantage in the production of that good.\" <|split_2d|>\"Nation B has absolute advantage in the production of that good.\" <|end_2d|>Answer: ',\n",
       " 'In a patient with a normal healthy mouth, you would expect the mucosa covering the alveolar process supporting the mandibular teeth to be<|start_2d|>\"light pink in colour on both sides of the mucogingigival junction.\" <|split_2d|>\"light pink below the mucogingival junction and red above it.\" <|split_2d|>\"red below the mucogingival junction and light pink above it.\" <|split_2d|>\"red on both sides of the mucogingival junction.\" <|end_2d|>Answer: ',\n",
       " 'Contractionary monetary policy implies which of the following about the discount rate the nominal interest rate and aggregate demand? Discount rate \\xa0\\xa0\\xa0\\xa0 Nominal interest rate \\xa0\\xa0\\xa0\\xa0 Aggregate demand<|start_2d|>\"Decreases \\xa0\\xa0\\xa0\\xa0  \\xa0\\xa0\\xa0\\xa0 Increases \\xa0\\xa0\\xa0\\xa0 Decreases\" <|split_2d|>\"Increases \\xa0\\xa0\\xa0\\xa0  \\xa0\\xa0\\xa0\\xa0 Increases \\xa0\\xa0\\xa0\\xa0 Decreases\" <|split_2d|>\"Decreases \\xa0\\xa0\\xa0\\xa0  \\xa0\\xa0\\xa0\\xa0 Decreases \\xa0\\xa0\\xa0\\xa0 Decreases\" <|split_2d|>\"Increases \\xa0\\xa0\\xa0\\xa0  \\xa0\\xa0\\xa0\\xa0 Increases \\xa0\\xa0\\xa0\\xa0 Increases\" <|end_2d|>Answer: ',\n",
       " 'Why do jovian planets bulge around the equator that is have a \"squashed\" appearance?<|start_2d|>\"Their large systems of moons and rings gravitationally attract the mass around the equator more.\" <|split_2d|>\"They are much more massive than the terrestrial planets.\" <|split_2d|>\"Their rapid rotation flings the mass near the equator outward.\" <|split_2d|>\"Their internal heat sources exert a pressure against the sides of the planets.\" <|end_2d|>Answer: ',\n",
       " 'The precedent established in Larry P. v. Riles resulted in<|start_2d|>\"the provision of a free, appropriate public education for students with disabilities\" <|split_2d|>\"the provision of bilingual education for English-language learners\" <|split_2d|>\"schools being held responsible for providing tests that do not discriminate on the basis of race\" <|split_2d|>\"the assignment of similar funding to athletic activities for boys and girls\" <|end_2d|>Answer: ',\n",
       " 'Which one of the following is not one of Drucker\\'s five guiding principles of management?<|start_2d|>\"Making people\\'s strengths effective and their weaknesses irrelevant.\" <|split_2d|>\"Enhancing the ability of people to contribute.\" <|split_2d|>\"To operate the organisation\\'s status system.\" <|split_2d|>\"Integrating people in a common venture by thinking through, setting and exemplifying the organisational objectives, values and goals.\" <|end_2d|>Answer: ',\n",
       " 'Fruit and vegetable consumption\\n<|start_2d|>\"Has been associated with greater bone mineral loss in observational studies\" <|split_2d|>\"Has an uncertain relationship with skeletal health because research studies are confounded by associated lifestyle factors such as smoking, exercise and alcohol consumption\" <|split_2d|>\"Has consistently resulted in less bone loss in supplementation studies\" <|split_2d|>\"Has large effects on bone mineral loss\" <|end_2d|>Answer: ',\n",
       " 'Regarding exons, which, if any, of the following statements is correct?<|start_2d|>\"Some exons in protein-coding genes consist of noncoding DNA.\" <|split_2d|>\"The first exon of a protein-coding gene always contains the translational start site.\" <|split_2d|>\"The last exon of a protein-coding gene always contains the normal termination codon.\" <|split_2d|>\"A coding exon is always translated in just one of the three possible forward reading frames.\" <|end_2d|>Answer: ',\n",
       " 'For EDTA titrations, the analyte solution and the titrant solution are both buffered at the same pH for which of the following reasons?\\nI. The conditional formation constant is affected by pH.\\nII. The fraction of EDTA in the fully deprotonated Y4− form varies with pH.\\nIII. When EDTA reacts to form a metal complex, H+ is a product in most cases.<|start_2d|>\"I only\" <|split_2d|>\"I and II only\" <|split_2d|>\"I and III only\" <|split_2d|>\"I, II, and III\" <|end_2d|>Answer: ',\n",
       " 'Which of the following best summarizes Carl Rogers\\' view of personality?<|start_2d|>\"Personality traits such as inhibition, extroversion, and conscientiousness are constant over time.\" <|split_2d|>\"People\\'s personality traits are overwhelmingly positive and goal-directed.\" <|split_2d|>\"Personality is mainly formed by behavioral expectations.\" <|split_2d|>\"Individual personalities vary based on differences in traits, emotions, and thought processes.\" <|end_2d|>Answer: ',\n",
       " 'Which of the following facts was established prior to 1859, the year in which Charles Darwin published On the Origin of Species?<|start_2d|>\"DNA provides the macromolecular basis of heredity.\" <|split_2d|>\"Mendelian principles explain why some traits are dominant and others are recessive.\" <|split_2d|>\"Prokaryotes include two major domains, the Bacteria and the Archaea.\" <|split_2d|>\"There exist fossilized remains of species that have become extinct.\" <|end_2d|>Answer: ',\n",
       " '________, where for example one party possess more resources, unfair distribution of ________, where one party gains more from the relationship, and CSOs being ________, are all limitations and risks of business-CSO collaborations.<|start_2d|>\"Power imbalance, Benefits, Hoodwinked\" <|split_2d|>\"Power imbalance, Resources, Co-opted\" <|split_2d|>\"Informational asymmetries, Benefits, Hoodwinked\" <|split_2d|>\"Informational asymmetries, Resources, Co-opted\" <|end_2d|>Answer: ',\n",
       " 'For which of these two scenarios does the main character (who uses I/me/my) do something clearly morally wrong, according to ordinary moral standards in the US as of 2020? Scenario 1 | I decided to serve an omelet made of scrambled eggs and bacon. Scenario 2 | I followed my wife into the fitting room to watch her try on a new dress.<|start_2d|>\"Wrong, Wrong\" <|split_2d|>\"Wrong, Not wrong\" <|split_2d|>\"Not wrong, Wrong\" <|split_2d|>\"Not wrong, Not wrong\" <|end_2d|>Answer: ',\n",
       " 'Which statement below is the least consistent with the argument that judges in an unjust legal system ought to resign?<|start_2d|>\"Judges are under a duty to act justly.\" <|split_2d|>\"Since they also prop up the unjust system, lawyers should also resign.\" <|split_2d|>\"If a moral judge resigns, he or she may be replaced by a less moral judge.\" <|split_2d|>\"Judges do not make the law, hence they cannot be held responsible for applying unjust legislation.\" <|end_2d|>Answer: ',\n",
       " 'For which of these two scenarios does the main character (who uses I/me/my) do something clearly morally wrong, according to ordinary moral standards in the US as of 2020? Scenario 1 | I don\\'t need to study for the test anymore because the answers are in my head where I can retrieve them. Scenario 2 | I asked my brother if I could drive<|start_2d|>\"Wrong, Wrong\" <|split_2d|>\"Wrong, Not wrong\" <|split_2d|>\"Not wrong, Wrong\" <|split_2d|>\"Not wrong, Not wrong\" <|end_2d|>Answer: ',\n",
       " 'Based on archaeological evidence, which of the following is accurate regarding civilization in general?<|start_2d|>\"The occurrence of warfare decreases as people increasingly invest time in the production of art.\" <|split_2d|>\"The occurrence of warfare is uncommon and occurs only with the concentration of wealth.\" <|split_2d|>\"The concentration of wealth is a common feature.\" <|split_2d|>\"The concentration of wealth is uncommon and occurs only occasionally.\" <|end_2d|>Answer: ',\n",
       " 'For which of these two scenarios does the main character (who uses I/me/my) do something clearly morally wrong, according to ordinary moral standards in the US as of 2020? Scenario 1 | The surgeon general says smoking causes cancer, so I buy my husband cigarettes. Scenario 2 | I added peanuts to his meal even though he\\'s allergic to them.<|start_2d|>\"Wrong, Wrong\" <|split_2d|>\"Wrong, Not wrong\" <|split_2d|>\"Not wrong, Wrong\" <|split_2d|>\"Not wrong, Not wrong\" <|end_2d|>Answer: ',\n",
       " 'For which of these two scenarios does the main character (who uses I/me/my) do something clearly morally wrong, according to ordinary moral standards in the US as of 2020? Scenario 1 | I put five dollars in the collection tray as it was passed to me. Scenario 2 | I saw that the dog needed to use the bathroom so I put it in my brothers room.<|start_2d|>\"Wrong, Wrong\" <|split_2d|>\"Wrong, Not wrong\" <|split_2d|>\"Not wrong, Wrong\" <|split_2d|>\"Not wrong, Not wrong\" <|end_2d|>Answer: ',\n",
       " 'Let X be a topological space, and let A, B, and C be nonempty subsets of X such that A c B c C; that is, A is a proper subset of B, and B is a proper subset of C. Which of the following statements is (are) true?\\nI. If A and C are connected, then B is connected.\\nII. If A and C are compact, then B is compact.\\nIII. If A and C are Hausdorff, then B is Hausdorff.<|start_2d|>\"I and II only\" <|split_2d|>\"III only\" <|split_2d|>\"I and III only\" <|split_2d|>\"I, II, and III\" <|end_2d|>Answer: ',\n",
       " 'Certain cross-cultural studies have suggested that six facial expressions are recognized by people of virtually every culture. Which of the following correctly lists these expressions?<|start_2d|>\"Happiness, sadness, anger, loathing, lust, and surprise\" <|split_2d|>\"Happiness, sadness, indifference, fright, surprise, and dislike\" <|split_2d|>\"Happiness, sadness, desire, repulsion, fear, and surprise\" <|split_2d|>\"Happiness, sadness, fear, anger, surprise, and disgust\" <|end_2d|>Answer: ',\n",
       " 'During DNA replication, mistakes are coded into the leading strand about once every 100,000/1 million copies. This DNA is subject to proofreading by several mechanisms. If a mistake is noted and the incorrect base is removed shortly following the time RNA primer is removed, this would most likely be the work of which repair mechanism?<|start_2d|>\"DNA polymerase I\" <|split_2d|>\"DNA polymerase III\" <|split_2d|>\"Mismatch repair mechanism\" <|split_2d|>\"Endonuclease repair\" <|end_2d|>Answer: ',\n",
       " 'Relatively free or easy entry (low or nonexistent barriers to entry) is best matched by which of the following?<|start_2d|>\"More consumer choices, greater price elasticity of demand, more competitors.\" <|split_2d|>\"More consumer choices, lower price elasticity of demand, more competitors.\" <|split_2d|>\"More consumer choices, greater price elasticity of demand, fewer competitors.\" <|split_2d|>\"Fewer consumer choices, lower price elasticity of demand, fewer competitors.\" <|end_2d|>Answer: ',\n",
       " 'For which of these two scenarios does the main character (who uses I/me/my) do something clearly morally wrong, according to ordinary moral standards in the US as of 2020? Scenario 1 | The fire alarm in the apartment would go off falsely sometimes, so I replaced it. Scenario 2 | The waiter dropped a tray of dishes on the floor so I pointed and laughed.<|start_2d|>\"Wrong, Wrong\" <|split_2d|>\"Wrong, Not wrong\" <|split_2d|>\"Not wrong, Wrong\" <|split_2d|>\"Not wrong, Not wrong\" <|end_2d|>Answer: ',\n",
       " 'What will happen to the equilibrium price and the equilibrium quantity of good A when producers of good A expect the price to be higher in the near future?<|start_2d|>\"The equilibrium price will rise and the equilibrium quantity will fall.\" <|split_2d|>\"The equilibrium price will fall and the equilibrium quantity will rise.\" <|split_2d|>\"The equilibrium price and the equilibrium quantity will rise.\" <|split_2d|>\"The equilibrium price and the equilibrium quantity will fall.\" <|end_2d|>Answer: ',\n",
       " 'Which of the following statements concerning a sarcomere of a striated muscle (such as skeletal muscle) is correct?<|start_2d|>\"During contraction H zones become elongated.\" <|split_2d|>\"In the relaxed position tropomyosin impedes myosin\\'s access to the binding site of actin.\" <|split_2d|>\"Each myosin helical tail contains an actinbinding site and an ATP-hydrolyzing site.\" <|split_2d|>\"The proteins troponin and tropomyosin constitute the thick and thin filaments, respectively.\" <|end_2d|>Answer: ',\n",
       " 'Sulfurous acid is a weak acid, while sulfuric acid is a much stronger acid because<|start_2d|>\"the O–H bonds in sulfuric acid are much weaker than in sulfurous acid due to the electron withdrawing of the oxygen atoms on sulfuric acid\" <|split_2d|>\"sulfuric acid has more oxygen atoms in its formula\" <|split_2d|>\"the sulfur in sulfuric acid is more electronegative than the sulfur in sulfurous acid\" <|split_2d|>\"sulfuric acid has the hydrogen atoms bound directly to the sulfur atom\" <|end_2d|>Answer: ',\n",
       " ' Frances Kamm discusses the case of a scientist who works on finding a cure for congenital blindness and is motivated only by a bad desire for mastery to suggest that<|start_2d|>\"sometimes an action can be permissible even if it is motivated by a bad desire.\" <|split_2d|>\"all actions motived by bad desires are impermissible.\" <|split_2d|>\"the desire for mastery is not, as Sandel argues, a bad desire.\" <|split_2d|>\"sometimes the only way to cure a disease is through selfish desires.\" <|end_2d|>Answer: ',\n",
       " 'Ethical issues related to marketing communications include the fact that they are _________ and unavoidable, they create ________ needs, reinforce _________ and perpetuate _________ and ______.<|start_2d|>\"Intrusive, Artificial, Consumerism, Insecurity, Social Stereotypes\" <|split_2d|>\"Intrusive, Artificial, De-materialism, Security, Happiness\" <|split_2d|>\"Intrusive, Real, Consumerism, Insecurity, Happiness\" <|split_2d|>\"Intrusive, Real, De-materialism, Security, Social stereotypes\" <|end_2d|>Answer: ',\n",
       " 'What role do women play in food security?\\n<|start_2d|>\"Their main role is preparing meals.\" <|split_2d|>\"They play a central role as producers of food, managers of natural resources, income earners and caretakers of household nutrition.\" <|split_2d|>\"They weed the fields, but never plough or plant them, as only men are strong enough for those activities.\" <|split_2d|>\"Their efforts focus mainly on vegetable gardens and chickens; men are involved with cereal crops and larger livestock.\" <|end_2d|>Answer: ',\n",
       " 'Output in country X is 30000 units and there are 3000 persons working while country Z has an output of 40000 units and 8000 workers.<|start_2d|>\"The productivity of labor in country Z is 33 percent higher than in country X.\" <|split_2d|>\"The productivity of labor in country Z is 25 percent higher than in country X.\" <|split_2d|>\"The productivity of labor in country X is 33 percent higher than in country Z.\" <|split_2d|>\"The productivity of labor in country X is twice as much as country Z.\" <|end_2d|>Answer: ',\n",
       " '_______ such as bitcoin are becoming increasingly mainstream and have a whole host of associated ethical implications, for example, they are______ and more ______. However, they have also been used to engage in _______.<|start_2d|>\"Cryptocurrencies, Expensive, Secure, Financial Crime\" <|split_2d|>\"Traditional currency, Cheap, Unsecure, Charitable giving\" <|split_2d|>\"Cryptocurrencies, Cheap, Secure, Financial crime\" <|split_2d|>\"Traditional currency, Expensive, Unsecure, Charitable giving\" <|end_2d|>Answer: ',\n",
       " ' According to West, which of the following reasons for a women to engage in sex with her male partner may cause her harm?<|start_2d|>\"She or her children are economically dependent on her male partner, and so she reasons that she better have sex with him and keep him happy.\" <|split_2d|>\"Her refusal will result in her partner\\'s being in a foul mood which is more burdensome than having undesired sex.\" <|split_2d|>\"Her refusal might result in a violent outburst.\" <|split_2d|>\"All of the above.\" <|end_2d|>Answer: ',\n",
       " 'Construct a complete truth table for the following argument. Then, using the truth table, determine whether the argument is valid or invalid. If the argument is invalid, choose an option which presents a counterexample. (There may be other counterexamples as well.)\\n~C ⊃ D\\nD ⊃ C / C<|start_2d|>\"Valid\" <|split_2d|>\"Invalid. Counterexample when C and D are true\" <|split_2d|>\"Invalid. Counterexample when C is true and D is false\" <|split_2d|>\"Invalid. Counterexample when D is true and C is false\" <|end_2d|>Answer: ',\n",
       " 'Construct a complete truth table for the following argument. Then, using the truth table, determine whether the argument is valid or invalid. If the argument is invalid, choose an option which presents a counterexample. (There may be other counterexamples as well.)\\n(O ≡ P) ∨ P / P ∨ ~O<|start_2d|>\"Valid\" <|split_2d|>\"Invalid. Counterexample when O and P are true\" <|split_2d|>\"Invalid. Counterexample when O is true and P is false\" <|split_2d|>\"Invalid. Counterexample when P is true and O is false\" <|end_2d|>Answer: ',\n",
       " 'Which of the following is the best illustration of \"pork barrel\" legislation?<|start_2d|>\"A federal agency is created to ensure the safety of food and animal products.\" <|split_2d|>\"A bill can be passed only if a majority of congresspersons from rural districts approve of it.\" <|split_2d|>\"A senator refuses to vote for a tax increase without a corresponding decrease in spending.\" <|split_2d|>\"A member of Congress inserts a provision into a bill to secure funding for a project in his or her district.\" <|end_2d|>Answer: ',\n",
       " 'Research indicates that a test participant exposed to a list of positive words and then asked to recall the words from that list a week later will be more likely to remember those words if he<|start_2d|>\"is tested by a researcher who deliberately exhibits a positive attitude\" <|split_2d|>\"is in a positive mood when initially exposed to the words\" <|split_2d|>\"considers himself a \\'positive\\' person, regardless of his mood during the experience\" <|split_2d|>\"considers the initial testing experience positive\" <|end_2d|>Answer: ',\n",
       " 'A piano teacher is helping a student learn a new piece. At first, she praises the student for playing correct notes. After the student begins to show proficiency with the notes, the teacher only praises the student when he adds the proper dynamics and interpretation to the segments he plays. The teacher\\'s method of instruction is an example of which of the following types of training techniques?<|start_2d|>\"Negative reinforcement\" <|split_2d|>\"Negative punishment\" <|split_2d|>\"Shaping\" <|split_2d|>\"Chaining\" <|end_2d|>Answer: ',\n",
       " ' Construct a complete truth table for the following argument. Then, using the truth table, determine whether the argument is valid or invalid. If the argument is invalid, choose an option which presents a counterexample. (There may be other counterexamples as well.)\\nM ∨ N\\n~M · O / N<|start_2d|>\"Valid\" <|split_2d|>\"Invalid. Counterexample when M and O are true and N is false\" <|split_2d|>\"Invalid. Counterexample when M is true and O and N are false\" <|split_2d|>\"Invalid. Counterexample when O is true and M and N are false\" <|end_2d|>Answer: ',\n",
       " 'Which of the following may be consequences of one or more of the CLRM assumptions being violated?\\n\\ni) The coefficient estimates are not optimal\\n\\n\\nii) The standard error estimates are not optimal\\n\\n\\niii) The distributions assumed for the test statistics are inappropriate\\n\\n\\niv) Conclusions regarding the strength of relationships between the dependent\\n\\nand independent variables may be invalid.<|start_2d|>\"(ii) and (iv) only\" <|split_2d|>\"(i) and (iii) only\" <|split_2d|>\"(i), (ii), and (iii) only\" <|split_2d|>\"(i), (ii), (iii), and (iv)\" <|end_2d|>Answer: ',\n",
       " '\"There is no rationale for myth because it is through myth that reason itself is defined.\"  This means that:<|start_2d|>\"mythos is ultimately based on logos, just as myth is ultimately based on reasoning or thinking.\" <|split_2d|>\"myth does not \\'explain\\' how things are related as much as it simply reveals them as related.\" <|split_2d|>\"metaphysicians are justified in reasoning as they do because there is only one true answer about being.\" <|split_2d|>\"myth and reason are the same: \\'myth\\' defines \\'reason,\\' and \\'reason\\' defines \\'myth.\\'\" <|end_2d|>Answer: ',\n",
       " 'In a height-balanced binary search tree, the heights of the left and right descendents of any node differ by at most 1. Which of the following are true of such a tree?\\nI. Worst-case search time is logarithmic in the number of nodes.\\nII. Average-case search time is logarithmic in the number of nodes.\\nIII. Best-case search time is proportional to the height of the tree.\\nIV. The height of the tree is logarithmic in the number of nodes.<|start_2d|>\"I and III only\" <|split_2d|>\"II and III only\" <|split_2d|>\"II and IV only\" <|split_2d|>\"I, II, and IV\" <|end_2d|>Answer: ',\n",
       " 'The absence of a political party solely dedicated to labor and working class issues in the United States<|start_2d|>\"proves U.S. politicians are not concerned about serving working-class constituencies\" <|split_2d|>\"is the result of government restrictions placed on the political activities of labor unions\" <|split_2d|>\"reflects the difficulty of unifying a party around a single issue in a \\'winner-take-all\\' format\" <|split_2d|>\"demonstrates that, in the United States, most political issues regarding workers have been decided in the workers\\' favor\" <|end_2d|>Answer: ',\n",
       " 'The market for Cincinnati Reds baseball tickets is currently in equilibrium. Which of the following events would most likely increase the consumer surplus received by Reds fans?<|start_2d|>\"The Reds offer discounted parking for all home games.\" <|split_2d|>\"The Reds increase hot dog prices to reflect a higher cost of buns.\" <|split_2d|>\"The city of Cincinnati is undertaking a huge highway construction project that strands fans in pregame traffic jams for hours.\" <|split_2d|>\"The Reds must increase ticket prices to afford the most talented players.\" <|end_2d|>Answer: ',\n",
       " ' In response to Sandel\\'s argument about the relationship between genetic enhancement and parent-child relationships, Kamm argues that<|start_2d|>\"genetic transformation will actually strengthen the bond between parent and child.\" <|split_2d|>\"children are too young to understand the implications of genetic enhancement.\" <|split_2d|>\"Sandel\\'s reasoning does not rule out the use of moderate, worthwhile genetic transformation.\" <|split_2d|>\"the use of training and appliances as a way of transforming gifts is not, as Sandel argues, morally permissible.\" <|end_2d|>Answer: ',\n",
       " 'The colonic microflora can be considered as \"an organ within an organ\". Which of the following statements best describes the functions of the microbiota?\\n<|start_2d|>\"Measurement of daily dietary fibre intake underestimates the amount of fermentable material entering the colon each day\" <|split_2d|>\"All of the options given are correct\" <|split_2d|>\"Acetate, propionate and butyrate are the chief organic acids produced by anaerobic colic fermentation\" <|split_2d|>\"The establishment of an \\'acetate buffer\\' in the colonic lumen suppresses the growth of some pathogenic bacteria.\" <|end_2d|>Answer: ',\n",
       " 'How do scientists know that the majority of meteorites come from the asteroid belt?<|start_2d|>\"The spectra of some meteorites are similar to the spectra of asteroids in the asteroid belt.\" <|split_2d|>\"The asteroid belt is the only possible source of meteorites therefore they must originate there.\" <|split_2d|>\"Collisions are common in the asteroid belt and we can track the fragments from their source asteroid to the Earth where they become meteorites.\" <|split_2d|>\"High levels of Iridum have been detected in both asteroids and meteorites therefore meteorites come from the asteroid belt.\" <|end_2d|>Answer: ',\n",
       " 'Laryngoscopic examination of the vocal folds after suspected recurrent laryngeal nerve damage usually shows that the vocal fold on the injured side is tensed and in an intermediate position between adduction and abduction. This is because<|start_2d|>\"cricothyroid muscle is still functional but the interarytenoid muscles are fully active.\" <|split_2d|>\"cricothyroid muscle is still functional but the interarytenoids are weak.\" <|split_2d|>\"cricothyroid muscle is paralyzed but the interarytenoids are fully active.\" <|split_2d|>\"cricothyroid muscle is paralyzed but the interarytenoids are weak.\" <|end_2d|>Answer: ',\n",
       " 'The distance between Miriam’s house and Debbie’s house is 444.44 meters. Which statement about the values of the digits in the distance, in meters, between their houses is true?<|start_2d|>\"The value of the 4 in the tenths place is 1/10 the value of the 4 in the tens place.\" <|split_2d|>\"The value of the 4 in the hundredths place is 1/10 the value of the 4 in the ones place.\" <|split_2d|>\"The value of the 4 in the hundreds place is 10 times greater than the value of the 4 in the ones place.\" <|split_2d|>\"The value of the 4 in the tenths place is 10 times greater than the value of the 4 in the hundredths place.\" <|end_2d|>Answer: ',\n",
       " 'The electron transport chain, which is embedded in the mitochondrial membrane, exists primarily to generate new molecules of ATP for use by the cell. This is accomplished by a positive gradient of H+ ions that are formed outside the membrane which then pass back through a specialized channel known as ATP synthase. The energy created from this phosphorylates an ATP to an ATP, known as oxidative phosphorylation. The mechanism by which H+ returns to the inside of the mitochondria is known as what?<|start_2d|>\"Passive transport\" <|split_2d|>\"Passive diffusion\" <|split_2d|>\"Active transport\" <|split_2d|>\"Endocytosis\" <|end_2d|>Answer: ',\n",
       " 'Mimicry is a strategy that has evolved through natural selection to increase the fitness of organisms to their environment. Which of the following represents a form of Batesian mimicry?<|start_2d|>\"A type of millipede that is toxic to a toad is permanently avoided by the toad following the toad\\'s initial attempt to consume it.\" <|split_2d|>\"A moth exhibits false eyes at its tail end in order to disorient predators.\" <|split_2d|>\"A moth exhibits nearly identical coloration to that of a stinging bee.\" <|split_2d|>\"A ground-nesting gull chick displays a coloration pattern that is nearly indistinguishable from its surroundings.\" <|end_2d|>Answer: ',\n",
       " 'Information about what the students in Mr. Paulson’s class and in Ms. Hugo’s class ate for lunch is listed below. In Mr. Paulson’s class, 0.5 of the students ate pizza for lunch. In Ms. Hugo’s class, 0.5 of the students ate hamburgers for lunch. What information, if any, is needed to correctly compare the 0.5 of Mr. Paulson’s class that ate pizza to the 0.5 of Ms. Hugo’s class that ate hamburgers?<|start_2d|>\"whether the lunches were eaten on the same day\" <|split_2d|>\"the total number of students in each teacher’s class\" <|split_2d|>\"nothing because the portions each class ate were the same\" <|split_2d|>\"the total number of pizza slices and hamburgers eaten that day\" <|end_2d|>Answer: ',\n",
       " 'This question refers to the following information.\\nFor the catastrophe of 1914 the Germans are responsible. … Germany, in this matter, was unfortunate enough to allow herself (in spite of her skill at dissimulation) to be betrayed into an excess of candour by her characteristic tendency to go to extremes. Deutschland über alles. Germany above everything! … There you have the ultimate framework of an old but childish race.\\nGeorges Clemenceau, Grandeur and Misery of Victory, 1930\\nFrom the passage, one may infer that Clemenceau<|start_2d|>\"blamed Germany for the Great Depression\" <|split_2d|>\"blamed Germany for World War I\" <|split_2d|>\"blamed Germany for World War II\" <|split_2d|>\"blamed Germany for the Franco-Prussian War\" <|end_2d|>Answer: ',\n",
       " ' Which of the following potentially morally relevant differences between Fred\\'s behavior and the behavior of the consumers of factory-raised meat does Norcross not discuss?<|start_2d|>\"Fred\\'s behavior involves the suffering of puppies, whereas the behavior of meat-eaters \\'merely\\' involves the suffering of chickens, pigs, cows, calves, sheep, and the like.\" <|split_2d|>\"The suffering of the puppies is necessary for gustatory pleasure, whereas the suffering of animals on factory farms is simply a by-product of the conditions dictated by economic considerations.\" <|split_2d|>\"Fred could prevent the suffering of the puppies, whereas meat-eaters can\\'t prevent the suffering of the animals they consume.\" <|split_2d|>\"none of the above\" <|end_2d|>Answer: ',\n",
       " 'According to Socrates, it is important that we discover what makes a particular action (e.g., a merciful or just act) the kind of action that it is, because without such knowledge:<|start_2d|>\"no one in society will ever do any action that really is merciful or just, only those actions that they think are merciful or just.\" <|split_2d|>\"the primary purpose of human existence--which is to think and to know--is replaced by a focus on morality (acting and doing).\" <|split_2d|>\"we can refer only to how people characterize actions without knowing why such actions should be characterized that way.\" <|split_2d|>\"there would be no way to distinguish one kind of action (e.g., a merciful action) from another kind of action (e.g., a just action).\" <|end_2d|>Answer: ',\n",
       " 'In one taxonomic classification, Archaea, Eukarya, and Bacteria represent the three major domains of life. Eukarya utilize the general transcription factors TBP (TATA-binding protein) and TFIIB in transcription, whereas Bacteria do not. At least one member of Archaea has a protein similar to TBP and a protein similar to TFIIB. Based on this observation, which of the following scenarios is most likely?<|start_2d|>\"Archaea and Eukarya diverged after their common ancestor diverged from Bacteria.\" <|split_2d|>\"Archaea and Bacteria diverged after their common ancestor diverged from Eukarya.\" <|split_2d|>\"Bacteria and Eukarya diverged after their common ancestor diverged from Archaea.\" <|split_2d|>\"Archaea, Eukarya, and Bacteria diverged simultaneously from a common ancestor.\" <|end_2d|>Answer: ',\n",
       " 'During assigned seat-work time, Mary, a firstgrade student, sometimes leaves her seat and attempts to play with a block collection. When she leaves her seat, she fails to complete her seat work. Which of the following behavioral intervention strategies will most effectively increase the long-term likelihood that Mary will complete her seat work?<|start_2d|>\"Allowing Mary to read from a teacherselected book for a specific period of time before beginning her seat work\" <|split_2d|>\"Allowing Mary to play with the blocks afterward if she remains in her seat throughout the assigned seat-work time\" <|split_2d|>\"Explaining to Mary the value of completing seat work in terms of the objectives of the lesson\" <|split_2d|>\"Removing the blocks from the classroom during the assigned seat-work time\" <|end_2d|>Answer: ',\n",
       " 'This question refers to the following information.\\n\"His Majesty the Emperor of China agrees, that British subjects, with their families and establishments, shall be allowed to reside, for the purposes of carrying on their mercantile pursuits, without molestation or restraint, at the cities and towns of Canton, Amoy, Foochowfoo, Ningpo, and Shanghai; and Her Majesty the Queen of Great Britain, &c., will appoint Superintendents, or Consular officers, to reside at each of the above-named cities or towns, to be the medium of communication between the Chinese authorities and the said merchants, and to see that the just duties and other dues of the Chinese Government, as hereafter provided for, are duly discharged by Her Britannic Majesty\\'s subjects.\"\\nTreaty of Nanjing, 1839\\nThe concessions offered in this treaty most directly created British<|start_2d|>\"colonies\" <|split_2d|>\"spheres of influence\" <|split_2d|>\"protectorates\" <|split_2d|>\"businesses\" <|end_2d|>Answer: ',\n",
       " 'This question refers to the following information.\\nFlorence is more beautiful and five hundred forty years older than your Venice. … We have round about us thirty thousand estates, owned by nobleman and merchants, citizens and craftsman, yielding us yearly bread and meat, wine and oil, vegetables and cheese, hay and wood, to the value of nine thousand ducats in cash. … We have two trades greater than any four of yours in Venice put together—the trades wool and silk. … Our beautiful Florence contains within the city … two hundred seventy shops belonging to the wool merchant\\'s guild, from whence their wares are sent to Rome and the Marches, Naples and Sicily, Constantinople … and the whole of Turkey. It contains also eighty-three rich and splendid warehouses of the silk merchant\\'s guild.\\nBenedetto Dei, \"Letter to a Venetian,\" 1472\\nFrom the passage, one may infer that the economy of Renaissance Florence was primarily based on<|start_2d|>\"banking\" <|split_2d|>\"the export of agricultural goods\" <|split_2d|>\"war and conquest\" <|split_2d|>\"the manufacture and export of wool and silk products\" <|end_2d|>Answer: ',\n",
       " 'This question refers to the following information.\\nIs it not unity alone that can weld us into an effective force, capable of creating our own progress and making our valuable contribution to world peace? Which independent African state will claim that its financial structure and banking institutions are fully harnessed to its national development? Which will claim that its material resources and human energies are available for its own national aspirations? We are fast learning that political independence is not enough to rid us of the consequences of colonial rule. We have been too busy nursing our separate states to understand fully the basic need for union, rooted in common purpose, common planning and common endeavour.\\nGhana\\'s president, Kwame Nkrumah, addressing the Organization of African Unity, 1963\\nWhich of the following factors was most important in preventing the fulfillment of the political dreams described in the passage?<|start_2d|>\"A lack of common ethnicity, language, or religion\" <|split_2d|>\"The spread of communism throughout the continent\" <|split_2d|>\"Armed intervention on the part of the Cold War superpowers\" <|split_2d|>\"Africa\\'s shortage of natural resources\" <|end_2d|>Answer: ',\n",
       " 'This question refers to the following information.\\n\"The far-reaching, the boundless future will be the era of American greatness. In its magnificent domain of space and time, the nation of many nations is destined to manifest to mankind the excellence of divine principles; to establish on earth the noblest temple ever dedicated to the worship of the Most High—the Sacred and the True. Its floor shall be a hemisphere—its roof the firmament of the star-studded heavens, and its congregation a Union of many Republics, comprising hundreds of happy millions, calling, owning no man master, but governed by God\\'s natural and moral law of equality, the law of brotherhood—of \\'peace and good will amongst men.\\'\"\\nJohn L. O\\'Sullivan, \"The Great Nation of Futurity,\" 1839\\nWhich of the following best states the principle described above?<|start_2d|>\"Colonists were destined to leave the British Empire because of the distance between the New World and England.\" <|split_2d|>\"Women are biologically predestined to lives of child rearing and domestic labor.\" <|split_2d|>\"America\\'s expansion to the West Coast was inevitable and divinely sanctioned.\" <|split_2d|>\"The abolition of slavery in the United States was certain to come about because slavery was immoral.\" <|end_2d|>Answer: ',\n",
       " 'This question refers to the following information.\\n\"We found that not only was it a civil war, an effort by a people who had for years been seeking their liberation from any colonial influence whatsoever, but also we found that the Vietnamese whom we had enthusiastically molded after our own image were hard put to take up the fight against the threat we were supposedly saving them from.\\n\"We found most people didn\\'t even know the difference between communism and democracy. They only wanted to work in rice paddies without helicopters strafing them and bombs with napalm burning their villages and tearing their country apart. They wanted everything to do with the war, particularly with this foreign presence of the United States of America, to leave them alone in peace, and they practiced the art of survival by siding with whichever military force was present at a particular time, be it Viet Cong, North Vietnamese or American.\"\\nJohn Kerry, 1971\\nFrom the quote above, it is reasonable to infer that<|start_2d|>\"many Vietnamese viewed the United States as a colonial influence\" <|split_2d|>\"most Vietnamese were opposed to Communism\" <|split_2d|>\"most Vietnamese favored Communism\" <|split_2d|>\"some Viet Cong fought alongside American troops in opposition to North Vietnam\" <|end_2d|>Answer: ',\n",
       " 'This question refers to the following information.\\nBy what principle of reason then, should these foreigners send in return a poisonous drug? Without meaning to say that the foreigners harbor such destructive intentions in their hearts, we yet positively assert that from their inordinate thirst after gain, they are perfectly careless about the injuries they inflict upon us! And such being the case, we should like to ask what has become of that conscience which heaven has implanted in the breasts of all men? We have heard that in your own country opium is prohibited with the utmost strictness and severity. This is a strong proof that you know full well how hurtful it is to mankind. Since you do not permit it to injure your own country, you ought not to have this injurious drug transferred to another country, and above all others, how much less to the Inner Land! Of the products which China exports to your foreign countries, there is not one which is not beneficial to mankind in some shape or other.\\nLin Zexu, Chinese trade commissioner, letter to Queen Victoria, 1839\\nWhich of the following most likely prompted the complaint voiced in the passage?<|start_2d|>\"British sale of opium in China\" <|split_2d|>\"British exports of tobacco to China\" <|split_2d|>\"British introduction of gunpowder to China\" <|split_2d|>\"British encouragement of heroin use to China\" <|end_2d|>Answer: ',\n",
       " 'This question refers to the following information.\\nThe following quote is from Voltaire in response to the 1755 Lisbon earthquake.\\nMy dear sir, nature is very cruel. One would find it hard to imagine how the laws of movement cause such frightful disasters in the best of possible worlds. A hundred thousand ants, our fellows, crushed all at once in our ant-hill, and half of them perishing, no doubt in unspeakable agony, beneath the wreckage from which they cannot be drawn. Families ruined all over Europe, the fortune of a hundred businessmen, your compatriots, swallowed up in the ruins of Lisbon. What a wretched gamble is the game of human life! What will the preachers say, especially if the palace of the Inquisition is still standing? I flatter myself that at least the reverend father inquisitors have been crushed like others. That ought to teach men not to persecute each other, for while a few holy scoundrels burn a few fanatics, the earth swallows up one and all.\\n—Voltaire, in a letter, 1755\\nVoltaire is best known for supporting which of the following demands of the Enlightenment philosophes?<|start_2d|>\"Deism should be adopted by all as the only logical religion.\" <|split_2d|>\"Religious toleration leads to the destruction of social unity.\" <|split_2d|>\"Skepticism is not a reliable way of examining information.\" <|split_2d|>\"Religious toleration should be given to all people of all religions.\" <|end_2d|>Answer: ',\n",
       " 'This question refers to the following information.\\nOne of the rights which the freeman has always guarded with most jealous care is that of enjoying the rewards of his own industry. Realizing that the power to tax is the power to destroy and that the power to take a certain amount of property or of income is only another way of saying that for a certain proportion of his time a citizen must work for the government, the authority to impose a tax on the people has been most carefully guarded.… A government which lays taxes on the people not required by urgent necessity and sound public policy is not a protector of liberty, but an instrument of tyranny. It condemns the citizen to tyranny. One of the first signs of the breaking down of free government is a disregard by the taxing power of the right of the people to their own property.… Unless the people can enjoy that reasonable security in the possession of their property, which is guaranteed by the Constitution, against unreasonable taxation, freedom is at an end.… With us economy is imperative. It is a full test of our national character.… It is always the people who toil that pay.\\n—Calvin Coolidge, \"Economy in the Interest of All,\" June 30, 1924\\nWhich of the following presidents would be most likely to share Coolidge\\'s sentiments?<|start_2d|>\"Franklin D. Roosevelt\" <|split_2d|>\"Lyndon B. Johnson\" <|split_2d|>\"Ronald Reagan\" <|split_2d|>\"Barack Obama\" <|end_2d|>Answer: ',\n",
       " 'This question refers to the following information.\\n\"Lincoln was strongly anti-slavery, but he was not an abolitionist or a Radical Republican and never claimed to be one. He made a sharp distinction between his frequently reiterated personal wish that \\'all men everywhere could be free\\' and his official duties as a legislator, congressman, and president in a legal and constitutional system that recognized the South\\'s right to property in slaves. Even after issuing the Emancipation Proclamation he continued to declare his preference for gradual abolition. While his racial views changed during the Civil War, he never became a principled egalitarian in the manner of abolitionists such as Frederick Douglass or Wendell Phillips or Radical Republicans like Charles Sumner.\"\\n—Eric Foner, The Fiery Trial, 2010\\nWhich of the following statements best describes Eric Foner\\'s argument about President Abraham Lincoln\\'s views on slavery?<|start_2d|>\"President Lincoln was a consistent supporter of the abolitionist cause.\" <|split_2d|>\"President Lincoln was reluctant to be ideologically associated with advocates like Frederick Douglass.\" <|split_2d|>\"In his ambition to become president, Abraham Lincoln declared his desire to use his constitutional powers to end slavery.\" <|split_2d|>\"President Lincoln had continually changing views on slavery and abolition that did not always fit into the prevailing political categories.\" <|end_2d|>Answer: ',\n",
       " 'This question refers to the following information.\\n\"The Chinese are all infidels: they worship images, and burn their dead just like the [Hindus]. The King of China is a Tartar, and one of the descendants of [Ghenghis] Khan…In all the Chinese provinces, there is a town for the [Muslims], and in this they reside. They also have cells, colleges, and mosques, and are made much of by the Kings of China…\\nWhen we approached this city [of Hangzhou] we were met by its judge, the [elders] of Islamism, and the great merchants. The [Muslims] are exceedingly numerous here. This whole city is surrounded by a wall: each of the six [districts of Hangzhou] is also surrounded by a wall. In the first reside the guards, with their commander. I was told that, in the muster-rolls, these amount to twelve thousand…In the second division are the Jews, Christians, and the Turks who worship the sun: these are numerous, their number is not known: and theirs is the most beautiful city. Their streets are well disposed, and their great men are exceedingly wealthy. There are in the city a great number of [Muslims], with some of whom I resided for fifteen days; and was treated most [honorably]…\"\\nIbn Battuta, Voyages, 1332–1346 C.E.\\nThe observations expressed in the excerpt are best seen as evidence for which of the following in Yuan China?<|start_2d|>\"Policies of religious toleration\" <|split_2d|>\"Instatement of foreigners as provincial administrators\" <|split_2d|>\"Mongol assimilation into Chinese culture\" <|split_2d|>\"Military pressures from internal unrest\" <|end_2d|>Answer: ',\n",
       " 'This question refers to the following information.\\nRead the following governmental regulation.\\nPress Law\\nSo long as this decree shall remain in force no publication which appears in the form of daily issues, or as a serial not exceeding twenty sheets of printed matter, shall go to press in any state of the union without the previous knowledge and approval of the state officials. Writings which do not belong to one of the above-mentioned classes shall be treated according to the laws now in force, or which may be enacted, in the individual states of the union. . . . Each state of the union is responsible, not only to the state against which the offense is directly committed, but to the whole Confederation, for every publication appearing under its supervision in which the honor or security of other states is infringed or their constitution or administration attacked. . . .\\n—Carlsbad Resolutions adopted by the Germanic States, 1819\\nAccording to the above-mentioned decrees, the German confederated states most feared which of the following?<|start_2d|>\"The effect liberal, young students would have on an impressionable faculty and the surrounding communities, where they would surely spread their message.\" <|split_2d|>\"The dissemination of liberal ideas by the media and the sharing of nationalist or liberal ideas at the university in the classroom or in secret.\" <|split_2d|>\"The dissolution of the union of German states that they had just created.\" <|split_2d|>\"Support of Bonapartism, which was growing in strength prior to the passage of these Carlsbad Resolutions and preceeding Napoleon\\'s invasion.\" <|end_2d|>Answer: ',\n",
       " 'This question refers to the following information.\\n\"Buckingham Palace, 10th May 1839.\\nThe Queen forgot to ask Lord Melbourne if he thought there would be any harm in her writing to the Duke of Cambridge that she really was fearful of fatiguing herself, if she went out to a party at Gloucester House on Tuesday, an Ancient Concert on Wednesday, and a ball at Northumberland House on Thursday, considering how much she had to do these last four days. If she went to the Ancient Concert on Wednesday, having besides a concert of her own here on Monday, it would be four nights of fatigue, really exhausted as the Queen is.\\nBut if Lord Melbourne thinks that as there are only to be English singers at the Ancient Concert, she ought to go, she could go there for one act; but she would much rather, if possible, get out of it, for it is a fatiguing time&….\\nAs the negotiations with the Tories are quite at an end, and Lord Melbourne has been here, the Queen hopes Lord Melbourne will not object to dining with her on Sunday?\"\\nThe Letters of Queen Victoria, Volume 1 (of 3), 1837-1843: A Selection from Her Majesty\\'s Correspondence Between the Years 1837 and 1861\\nThe long evenings of entertainment for Queen Victoria suggest what about the nature of the English monarchy in the nineteenth century?<|start_2d|>\"That true political power lay elsewhere\" <|split_2d|>\"That she was very fond of attending balls and concerts\" <|split_2d|>\"That important political progress could only be made by attending social events\" <|split_2d|>\"That with England\\'s nineteenth-century economic success came more leisure time for the upper classes\" <|end_2d|>Answer: ',\n",
       " 'This question refers to the following information.\\nYou are the United States,\\nyou are the future invader\\nof the native America that has Indian blood,\\nthat still prays to Jesus Christ and still speaks Spanish.\\n. . .\\nyou are Alexander-Nebuchadnezzar.\\nYou think that life is fire,\\nthat progress is eruption,\\nthat wherever you shoot\\nyou hit the future.\\nNo.\\n. . .\\nBut our America, that has had poets\\nsince the ancient times of Netzahualcoyotl,\\n. . .\\nthat consulted the stars, that knew Atlantis\\nwhose resounding name comes to us from Plato,\\nthat since the remote times of its life\\nhas lived on light, on fire, on perfume, on love,\\nAmerica of the great Montezuma, of the Inca,\\nthe fragrant America of Christopher Columbus,\\nCatholic America, Spanish America,\\nthe America in which noble Cuauhtémoc said:\\n\"I\\'m not in a bed of roses\", that America\\nthat trembles in hurricanes and lives on love,\\nit lives, you men of Saxon eyes and barbarous soul.\\nAnd it dreams. And it loves, and it vibrates, and it is the daughter of the sun.\\nBe careful. Viva Spanish America!\\nThere are a thousand cubs loosed from the Spanish lion.\\nRoosevelt, one would have to be, through God himself,\\nthe-fearful rifleman and strong hunter,\\nto manage to grab us in your iron claws.\\nAnd, although you count on everything, you lack one thing: God!\\n—Adapted from \"To Roosevelt\" by Ruben Dario, 1904\\nWhat events might have prompted the poet to compose this piece?<|start_2d|>\"The discovery of the Zimmerman Telegram\" <|split_2d|>\"The embargo of Cuba after Castro’s revolution\" <|split_2d|>\"U.S. involvement in Panama’s independence\" <|split_2d|>\"U.S. involvement in the Haitian Revolution\" <|end_2d|>Answer: ',\n",
       " 'This question refers to the following information.\\n\"The Government of the German Reich and The Government of the Union of Soviet Socialist Republics desirous of strengthening the cause of peace between Germany and the U.S.S.R., and proceeding from the fundamental provisions of the Neutrality Agreement concluded in April, 1926 between Germany and the U.S.S.R., have reached the following Agreement:\\nArticle I. Both High Contracting Parties obligate themselves to desist from any act of violence, any aggressive action, and any attack on each other, either individually or jointly with other Powers.\\nArticle II. Should one of the High Contracting Parties become the object of belligerent action by a third Power, the other High Contracting Party shall in no manner lend its support to this third Power.\\nArticle III. The Governments of the two High Contracting Parties shall in the future maintain continual contact with one another for the purpose of consultation in order to exchange information on problems affecting their common interests.\\nArticle IV. Should disputes or conflicts arise between the High Contracting Parties shall participate in any grouping of Powers whatsoever that is directly or indirectly aimed at the other party.\\nArticle V. Should disputes or conflicts arise between the High Contracting Parties over problems of one kind or another, both parties shall settle these disputes or conflicts exclusively through friendly exchange of opinion or, if necessary, through the establishment of arbitration commissions.\"\\nMolotov-Ribbentrop Pact, 1939\\nThe article listed above that was violated by Operation Barbarossa was<|start_2d|>\"Article I\" <|split_2d|>\"Article II\" <|split_2d|>\"Article III\" <|split_2d|>\"Article IV\" <|end_2d|>Answer: ',\n",
       " 'This question refers to the following information.\\nRead the the following petition to answer questions.\\nThe Scribbling-Machines have thrown thousands of your petitioners out of employ, whereby they are brought into great distress, and are not able to procure a maintenance for their families, and deprived them of the opportunity of bringing up their children to labour. … The number of Scribbling-Machines extending about seventeen miles south-west of Leeds exceed all belief, being no less than one hundred and seventy! And as each machine will do as much work in twelve hours, as ten men can in that time do by hand, … [And, as the machines do] as much work in one day as would otherwise employ twenty men, … [a] full four thousand men are left to shift for a living how they can, and must of course fall to the Parish, if not timely relieved. … How are those men, thus thrown out of employ to provide for their families; and what are they to put their children apprentice to, that the rising generation may have something to keep them at work, in order that they may not be like vagabonds strolling about in idleness? … Many more evils we could enumerate, but we would hope, that the sensible part of mankind, who are not biased by interest, must see the dreadful tendency of their continuance; a depopulation must be the consequence; trade being then lost, the landed interest will have no other satisfaction but that of being last devoured.\\nLeeds Woolen Workers Petition, 1786\\nThe sentiments expressed by the Leeds woolen workers illustrate which of the following historical trends?<|start_2d|>\"The social effects of industrialization\" <|split_2d|>\"The rise of nationalism\" <|split_2d|>\"Imperial expansion\" <|split_2d|>\"Cultural changes in a material age\" <|end_2d|>Answer: ',\n",
       " 'This question refers to the following information.\\nRead the following letter.\\nIt happened . . . that a Spaniard saw an Indian . . . eating a piece of flesh taken from the body of an Indian who had been killed. . . . I had the culprit burned, explaining that the cause was his having killed that Indian and eaten him[,] which was prohibited by Your Majesty, and by me in Your Royal name. I further made the chief understand that all the people . . . must abstain from this custom. . . . I came . . . to protect their lives as well as their property, and to teach them that they were to adore but one God[,] . . . that they must turn from their idols, and the rites they had practiced until then, for these were lies and deceptions which the devil . . . had invented. . . . I, likewise, had come to teach them that Your Majesty, by the will of Divine Providence, rules the universe, and that they also must submit themselves to the imperial yoke, and do all that we who are Your Majesty\\'s ministers here might order them.\\n—Hernan Cortez, Fifth Letter to Holy Roman Emperor Charles V, 1521\\nWhich of the following was NOT a result of the European conquest of the Americas realized by the end of the seventeenth century?<|start_2d|>\"Europeans established overseas colonies on the coasts of the Americas and throughout the continent of Africa.\" <|split_2d|>\"Europe\\'s colonial expansion led to a global exchange of goods, flora, fauna, cultural practices, and diseases.\" <|split_2d|>\"Europeans created vast global trade networks that allowed them to gain large accumulations of wealth.\" <|split_2d|>\"Europeans expanded the African slave trade in response to the establishment of a plantation economy in the Americas and to demographic catastrophes among indigenous peoples.\" <|end_2d|>Answer: ',\n",
       " 'This question refers to the following information.\\nI am of opinion that the principal and true profession of the Courtier ought to be that of arms; which I would have him follow actively above all else, and be known among others as bold and strong, and loyal to whomsoever he serves. . . .\\nI would have him well built and shapely of limb, and would have him show strength and lightness and suppleness, and know all bodily exercises that befit a man of war; whereof I think the first should be to handle every sort of weapon well on foot and on horse, to understand the advantages of each, and especially to be familiar with those weapons that are ordinarily used among gentlemen. . . .\\nOur Courtier then will be esteemed excellent and will attain grace in everything, particularly in speaking. . . .\\nI would have him more than passably accomplished in letters, at least in those studies that are called the humanities, and conversant not only with the Latin language but with the Greek, for the sake of the many different things that have been admirably written therein. Let him be well versed in the poets, and not less in the orators and historians, and also proficient in writing verse and prose, especially in this vulgar [vernacular] tongue of ours. . . .\\nYou must know that I am not content with the Courtier unless he be also a musician and unless, besides understanding and being able to read notes, he can play upon divers instruments. . . .\\nI wish our Courtier to guard against getting the name of a liar or a boaster, which sometimes befalls even those who do not deserve it.\\n—From Baldassare Castiglione\\'s Book of the Courtier, 1528\\nWhich of the following themes of the Renaissance era is the above writing most connected to?<|start_2d|>\"Secularism\" <|split_2d|>\"Individualism\" <|split_2d|>\"Humanism\" <|split_2d|>\"Perspective\" <|end_2d|>Answer: ',\n",
       " 'This question refers to the following information.\\n\"Those whose condition is such that their function is the use of their bodies and nothing better can be expected of them, those, I say, are slaves of nature. It is better for them to be ruled thus.\"\\nJuan de Sepulveda, Politics, 1522\\n\"When Latin American nations gained independence in the 19th century, those two strains converged, and merged with an older, more universalist, natural law tradition. The result was a distinctively Latin American form of rights discourse. Paolo Carozza traces the roots of that discourse to a distinctive application, and extension, of Thomistic moral philosophy to the injustices of Spanish conquests in the New World. The key figure in that development seems to have been Bartolomé de Las Casas, a 16th-century Spanish bishop who condemned slavery and championed the cause of Indians on the basis of a natural right to liberty grounded in their membership in a single common humanity. \\'All the peoples of the world are humans,\\' Las Casas wrote, and \\'all the races of humankind are one.\\' According to Brian Tierney, Las Casas and other Spanish Dominican philosophers laid the groundwork for a doctrine of natural rights that was independent of religious revelation \\'by drawing on a juridical tradition that derived natural rights and natural law from human rationality and free will, and by appealing to Aristotelian philosophy.\\'\"\\nMary Ann Glendon, \"The Forgotten Crucible: The Latin American Influence on the Universal Human Rights Idea,” 2003\\nWhich one of the following statements about the Spanish conquest of the Americas is most accurate?<|start_2d|>\"African slavery was a direct result of Spanish settlements in Florida.\" <|split_2d|>\"Early native civilizations in Mexico introduced Spanish explorers to cattle ranching and wheat cultivation.\" <|split_2d|>\"Christopher Columbus was not the first European to have explored North America.\" <|split_2d|>\"Due to racial prejudice, Spanish explorers shunned intermarriage with native people.\" <|end_2d|>Answer: ',\n",
       " 'This question refers to the following information.\\n\"In 1500 that work appeared which Erasmus had written after his misfortune at Dover, and had dedicated to Mountjoy, the Adagiorum Collectanea. It was a collection of about eight hundred proverbial sayings drawn from the Latin authors of antiquity and elucidated for the use of those who aspired to write an elegant Latin style. In the dedication Erasmus pointed out the profit an author may derive, both in ornamenting his style and in strengthening his argumentation, from having at his disposal a good supply of sentences hallowed by their antiquity. He proposes to offer such a help to his readers. What he actually gave was much more. He familiarized a much wider circle than the earlier humanists had reached with the spirit of antiquity.\\nUntil this time the humanists had, to some extent, monopolized the treasures of classic culture, in order to parade their knowledge of which the multitude remained destitute, and so to become strange prodigies of learning and elegance. With his irresistible need of teaching and his sincere love for humanity and its general culture, Erasmus introduced the classic spirit, in so far as it could be reflected in the soul of a sixteenth-century Christian, among the people. Not he alone; but none more extensively and more effectively. Not among all the people, it is true, for by writing in Latin he limited his direct influence to the educated classes, which in those days were the upper classes.\\nErasmus made current the classic spirit. Humanism ceased to be the exclusive privilege of a few. According to Beatus Rhenanus he had been reproached by some humanists, when about to publish the Adagia, for divulging the mysteries of their craft. But he desired that the book of antiquity should be open to all.\"\\nJohan Huizinga, twentieth-century Dutch philosopher, Erasmus and the Age of Reformation, 1924\\nThe type of humanism attributed to Erasmus in this passage is most similar to what Southern Renaissance movement?<|start_2d|>\"Neoplatonism\" <|split_2d|>\"Antitrinitarianism\" <|split_2d|>\"Pietism\" <|split_2d|>\"Rationalism\" <|end_2d|>Answer: ',\n",
       " 'This question refers to the following information.\\nFirst we must remark that the cosmos is spherical in form, partly because this form being a perfect whole requiring no joints, is the most complete of all, partly because it makes the most capacious form, which is best suited to contain and preserve everything; or again because all the constituent parts of the universe, that is the sun, moon and the planets appear in this form; or because everything strives to attain this form, as appears in the case of drops of water and other fluid bodies if they attempt to define themselves. So no one will doubt that this form belongs to the heavenly bodies. …\\nThat the earth is also spherical is therefore beyond question, because it presses from all sides upon its center. Although by reason of the elevations of the mountains and the depressions of the valleys a perfect circle cannot be understood, yet this does not affect the general spherical nature of the earth. …\\nAs it has been already shown that the earth has the form of a sphere, we must consider whether a movement also coincides with this form, and what place the earth holds in the universe. … The great majority of authors of course agree that the earth stands still in the center of the universe, and consider it inconceivable and ridiculous to suppose the opposite. But if the matter is carefully weighed, it will be seen that the question is not yet settled and therefore by no means to be regarded lightly. Every change of place which is observed is due, namely, to a movement of the observed object or of the observer, or to movements of both. … Now it is from the earth that the revolution of the heavens is observed and it is produced for our eyes. Therefore if the earth undergoes no movement this movement must take place in everything outside of the earth, but in the opposite direction than if everything on the earth moved, and of this kind is the daily revolution. So this appears to affect the whole universe, that is, everything outside the earth with the single exception of the earth itself. If, however, one should admit that this movement was not peculiar to the heavens, but that the earth revolved from west to east, and if this was carefully considered in regard to the apparent rising and setting of the sun, the moon and the stars, it would be discovered that this was the real situation.\"\\nNicolas Copernicus, The Revolutions of the Heavenly Bodies, 1543\\nFrom the passage, one could argue that Copernicus was working in<|start_2d|>\"the Aristotelian tradition\" <|split_2d|>\"the natural magic tradition\" <|split_2d|>\"the skeptical tradition\" <|split_2d|>\"the Platonic/Pythagorean tradition\" <|end_2d|>Answer: ']"
      ]
     },
     "execution_count": 7,
     "metadata": {},
     "output_type": "execute_result"
    }
   ],
   "source": [
    "sorted(list(df_ret.index), key=len)"
   ]
  },
  {
   "cell_type": "code",
   "execution_count": 6,
   "id": "67f2b485-d44b-453b-ade4-034a7ec31dc1",
   "metadata": {
    "tags": []
   },
   "outputs": [],
   "source": [
    "df_conf = df.drop_duplicates(['prompt','response_type']).pivot(\n",
    "    index = 'prompt',\n",
    "    columns='response_type',\n",
    "    values=['is_correct_answer','text_output']\n",
    ")\n",
    "df_conf.columns = df_conf.columns.to_flat_index()\n",
    "df_ret = df_conf[(df_conf[('is_correct_answer', 'normal')] == True) &\n",
    "(df_conf[('is_correct_answer','normal_reversed')] == False) &\n",
    "(df_conf[('is_correct_answer','order_independent')] == True)]\n"
   ]
  },
  {
   "cell_type": "code",
   "execution_count": 13,
   "id": "6aac06d0-1afa-4477-acfa-de3b9cb0a170",
   "metadata": {
    "tags": []
   },
   "outputs": [
    {
     "name": "stdout",
     "output_type": "stream",
     "text": [
      "| normal   |   False |   True |\n",
      "|:---------|--------:|-------:|\n",
      "| False    |     139 |     30 |\n",
      "| True     |      28 |     38 |\n",
      "| normal   |    False |     True |\n",
      "|:---------|---------:|---------:|\n",
      "| False    | 0.591489 | 0.12766  |\n",
      "| True     | 0.119149 | 0.161702 |\n"
     ]
    }
   ],
   "source": [
    "df_conf = df.drop_duplicates(['prompt','response_type']).pivot(\n",
    "    index = 'prompt',\n",
    "    columns='response_type',\n",
    "    values='is_correct_answer'\n",
    ")[['normal','normal_reversed','order_independent']].groupby(['normal','normal_reversed']).count().reset_index().pivot(\n",
    "    index = 'normal',\n",
    "    columns='normal_reversed',\n",
    "    values='order_independent'\n",
    ")\n",
    "df_mean = df.drop_duplicates(['prompt','response_type']).pivot(\n",
    "    index = 'prompt',\n",
    "    columns='response_type',\n",
    "    values='is_correct_answer'\n",
    ")[['normal','normal_reversed','order_independent']].groupby(['normal','normal_reversed']).count()\n",
    "df_mean = df_mean / df_mean.sum().sum()\n",
    "df_normed = df_conf /df_conf.sum().sum()\n",
    "print(df_conf.reset_index().to_markdown(index=False))\n",
    "print(df_normed.reset_index().to_markdown(index=False))"
   ]
  },
  {
   "cell_type": "code",
   "execution_count": 9,
   "id": "7f5c1fc9-63dc-4227-ac84-d461635f589e",
   "metadata": {
    "tags": []
   },
   "outputs": [
    {
     "name": "stdout",
     "output_type": "stream",
     "text": [
      "meta-llama/Llama-2-13b-hf\n",
      "| normal   |   False |   True |\n",
      "|:---------|--------:|-------:|\n",
      "| False    |     871 |    180 |\n",
      "| True     |     154 |    280 |\n",
      "| normal   |    False |     True |\n",
      "|:---------|---------:|---------:|\n",
      "| False    | 0.586532 | 0.121212 |\n",
      "| True     | 0.103704 | 0.188552 |\n",
      "meta-llama/Meta-Llama-3-8B\n",
      "| normal   |   False |   True |\n",
      "|:---------|--------:|-------:|\n",
      "| False    |    1577 |    334 |\n",
      "| True     |     365 |    571 |\n",
      "| normal   |    False |     True |\n",
      "|:---------|---------:|---------:|\n",
      "| False    | 0.553916 | 0.117316 |\n",
      "| True     | 0.128205 | 0.200562 |\n",
      "meta-llama/Llama-2-7b-chat-hf\n",
      "| normal   |   False |   True |\n",
      "|:---------|--------:|-------:|\n",
      "| False    |    1663 |    377 |\n",
      "| True     |     415 |    491 |\n",
      "| normal   |    False |     True |\n",
      "|:---------|---------:|---------:|\n",
      "| False    | 0.564494 | 0.12797  |\n",
      "| True     | 0.140869 | 0.166667 |\n",
      "meta-llama/Llama-2-13b-chat-hf\n",
      "| normal   |   False |   True |\n",
      "|:---------|--------:|-------:|\n",
      "| False    |    1065 |    238 |\n",
      "| True     |     219 |    340 |\n",
      "| normal   |    False |     True |\n",
      "|:---------|---------:|---------:|\n",
      "| False    | 0.571966 | 0.12782  |\n",
      "| True     | 0.117615 | 0.182599 |\n",
      "gpt2\n",
      "| normal   |   False |   True |\n",
      "|:---------|--------:|-------:|\n",
      "| False    |    5458 |    687 |\n",
      "| True     |     689 |   1426 |\n",
      "| normal   |    False |      True |\n",
      "|:---------|---------:|----------:|\n",
      "| False    | 0.660775 | 0.0831719 |\n",
      "| True     | 0.083414 | 0.172639  |\n",
      "meta-llama/Llama-2-7b-hf\n",
      "| normal   |   False |   True |\n",
      "|:---------|--------:|-------:|\n",
      "| False    |    1626 |    232 |\n",
      "| True     |     237 |    461 |\n",
      "| normal   |    False |      True |\n",
      "|:---------|---------:|----------:|\n",
      "| False    | 0.63615  | 0.0907668 |\n",
      "| True     | 0.092723 | 0.18036   |\n",
      "mistralai/Mistral-7B-Instruct-v0.2\n",
      "| normal   |   False |   True |\n",
      "|:---------|--------:|-------:|\n",
      "| False    |    1497 |    317 |\n",
      "| True     |     289 |    520 |\n",
      "| normal   |    False |     True |\n",
      "|:---------|---------:|---------:|\n",
      "| False    | 0.570721 | 0.120854 |\n",
      "| True     | 0.110179 | 0.198246 |\n"
     ]
    }
   ],
   "source": [
    "plot_dat =[]\n",
    "\n",
    "\n",
    "for model in df['model'].unique():\n",
    "    df_conf = df[(df['model']==model)].drop_duplicates(['prompt','response_type']).pivot(\n",
    "        index = 'prompt',\n",
    "        columns='response_type',\n",
    "        values='is_correct_answer'\n",
    "    )[['normal','normal_reversed','order_independent']].groupby(['normal','normal_reversed']).count().reset_index().pivot(\n",
    "        index = 'normal',\n",
    "        columns='normal_reversed',\n",
    "        values='order_independent'\n",
    "    )\n",
    "    df_mean = df[(df['model']==model)].drop_duplicates(['prompt','response_type']).pivot(\n",
    "        index = 'prompt',\n",
    "        columns='response_type',\n",
    "        values='is_correct_answer'\n",
    "    )[['normal','normal_reversed','order_independent']].groupby(['normal','normal_reversed']).count()\n",
    "    df_mean = df_mean / df_mean.sum().sum()\n",
    "    df_normed = df_conf /df_conf.sum().sum()\n",
    "    print(model)\n",
    "    print(df_conf.reset_index().to_markdown(index=False))\n",
    "    print(df_normed.reset_index().to_markdown(index=False))\n",
    "    plot_dat.append({\n",
    "    'model':model,\n",
    "    'acc' : float(df_mean.loc[(True,False)]) + float(df_mean.loc[(True,True)]),\n",
    "    'error' :  float(df_mean.loc[(False,True)]),\n",
    "    'oid' : False,\n",
    "    #'oid' : float(df[(df['model']==model) & (df['response_type']=='order_independent')].drop_duplicates(['prompt','response_type'])['is_correct_answer'].mean())\n",
    "    })\n",
    "    plot_dat.append({\n",
    "    'model':model,\n",
    "    'acc' : float(df[(df['model']==model) & (df['response_type']=='order_independent')].drop_duplicates(['prompt','response_type'])['is_correct_answer'].mean()),\n",
    "    'error' : 0,\n",
    "    'oid' : True,\n",
    "    #'oid' : \n",
    "    })"
   ]
  },
  {
   "cell_type": "code",
   "execution_count": 16,
   "id": "3e314a70-0ba0-41a9-9fb0-b336a5117f85",
   "metadata": {
    "tags": []
   },
   "outputs": [
    {
     "data": {
      "image/png": "[encoded data removed]",
      "text/plain": [
       "<Figure size 900x500 with 1 Axes>"
      ]
     },
     "metadata": {},
     "output_type": "display_data"
    }
   ],
   "source": [
    "df_plot = pandas.DataFrame(plot_dat)\n",
    "fig, ax = plt.subplots()\n",
    "#ax = sns.barplot(x='Param', y='Value', data=df, hue='Name', palette='CMRmap_r')\n",
    "seaborn.barplot(\n",
    "    x = 'model',\n",
    "    y = 'acc',\n",
    "    data =df_plot,\n",
    "    hue ='oid',\n",
    "    #yerr = df_plot['error'],\n",
    "    ax = ax\n",
    ")\n",
    "\n",
    "err_patches =  ax.patches[:7]\n",
    "oid_patches =  ax.patches[7:-2]\n",
    "\n",
    "x_coords = [p.get_x() + 0.5 * p.get_width() for p in ax.patches][:-2]\n",
    "y_coords = [p.get_height() for p in ax.patches][:-2]\n",
    "ax.errorbar(x=[p.get_x() + 0.5 * p.get_width() for p in err_patches], y=[p.get_height() for p in err_patches], \n",
    "            yerr=df_plot[df_plot['oid'] == False][\"error\"], fmt=\"none\", c=\"k\")\n",
    "\n",
    "ax.errorbar(x=[p.get_x() + 0.5 * p.get_width() for p in oid_patches], y=[p.get_height() for p in oid_patches], \n",
    "            yerr=df_plot[df_plot['oid'] == True][\"error\"], fmt=\"none\", c=\"k\")\n",
    "#ax.set_ylim([.15,.5])\n",
    "ax.set_xticklabels([l._text.split('/')[-1] for l in ax.get_xticklabels()], rotation=90, ha='right')\n",
    "patches, labels = ax.get_legend_handles_labels()\n",
    "label_map = {\n",
    "    'True' : \"Yes\",\n",
    "    \"False\" : \"No\",\n",
    "}\n",
    "labels = [label_map[l] for l in labels]\n",
    "ax.legend(patches, labels,bbox_to_anchor=(.5,1),loc = 'upper left', title='Order Independant')\n",
    "ax.set_xlabel(\"Model\")\n",
    "ax.set_ylabel(\"CSQA Top 1 Accuracy\")\n",
    "order_independent_llm.plot_helpers.multi_savefig(\"CSQA-ACC-errors\")"
   ]
  },
  {
   "cell_type": "code",
   "execution_count": null,
   "id": "55a9d3c7-6aca-4183-b0b6-07eea8542bfa",
   "metadata": {},
   "outputs": [],
   "source": []
  },
  {
   "cell_type": "code",
   "execution_count": null,
   "id": "9930d712-d743-49cc-9bba-4684aef37233",
   "metadata": {},
   "outputs": [],
   "source": []
  },
  {
   "cell_type": "code",
   "execution_count": null,
   "id": "ff0934e9-195c-47fe-8a5d-ab8e82aea2ed",
   "metadata": {},
   "outputs": [],
   "source": [
    "plot_dat = []\n",
    "for model in df['model'].unique():\n",
    "    df_conf = df[(df['model']==model)].drop_duplicates(['prompt','response_type']).pivot(\n",
    "        index = 'prompt',\n",
    "        columns='response_type',\n",
    "        values='is_correct_answer'\n",
    "    )[['normal','normal_reversed','order_independent']].groupby(['normal','normal_reversed']).count().reset_index().pivot(\n",
    "        index = 'normal',\n",
    "        columns='normal_reversed',\n",
    "        values='order_independent'\n",
    "    )\n",
    "    df_mean = df[(df['model']==model)].drop_duplicates(['prompt','response_type']).pivot(\n",
    "        index = 'prompt',\n",
    "        columns='response_type',\n",
    "        values='is_correct_answer'\n",
    "    )[['normal','normal_reversed','order_independent']].groupby(['normal','normal_reversed']).count()\n",
    "    df_mean = df_mean / df_mean.sum().sum()\n",
    "    df_normed = df_conf /df_conf.sum().sum()\n",
    "    print(model)\n",
    "    print(df_conf.reset_index().to_markdown(index=False))\n",
    "    print(df_normed.reset_index().to_markdown(index=False))\n",
    "    plot_dat.append({\n",
    "    'model':model,\n",
    "    'acc' : float(df_mean.loc[(True,False)]) + float(df_mean.loc[(True,True)]),\n",
    "    'error' : float(df_mean.loc[(False,True)]), # float(df_mean.loc[(True,False)]) + \n",
    "    'oid' : False,\n",
    "    #'oid' : float(df[(df['model']==model) & (df['response_type']=='order_independent')].drop_duplicates(['prompt','response_type'])['is_correct_answer'].mean())\n",
    "    })\n",
    "    plot_dat.append({\n",
    "    'model':model,\n",
    "    'acc' : float(df[(df['model']==model) & (df['response_type']=='order_independent')].drop_duplicates(['prompt','response_type'])['is_correct_answer'].mean()),\n",
    "    'error' : 0,\n",
    "    'oid' : True,\n",
    "    #'oid' : \n",
    "    })"
   ]
  },
  {
   "cell_type": "code",
   "execution_count": 2,
   "id": "1745390f-4b9a-42b0-9818-e2714e44c95b",
   "metadata": {
    "tags": []
   },
   "outputs": [],
   "source": [
    "prompts = order_independent_llm.SplitPrompt.from_json_file(\"../data/csqa_split/csqa_input_01500.json\")"
   ]
  },
  {
   "cell_type": "code",
   "execution_count": 7,
   "id": "3ef7d1c6-5cbb-4322-8153-8a9a4c74931f",
   "metadata": {
    "tags": []
   },
   "outputs": [],
   "source": [
    "target ='../results/csqa_split/lmsys_vicuna-7b-v1.5-100/lmsys_vicuna-7b-v1.5-100-csqa_input_01000.jsonl_tmp'"
   ]
  },
  {
   "cell_type": "code",
   "execution_count": 8,
   "id": "a9fecced-334b-4bad-b134-a7abdbd5a9c6",
   "metadata": {
    "tags": []
   },
   "outputs": [],
   "source": [
    "p2 = order_independent_llm.filter_prompts(target, prompts)"
   ]
  },
  {
   "cell_type": "code",
   "execution_count": 9,
   "id": "fa5c2906-00ef-4695-ada6-264ede0bf874",
   "metadata": {
    "tags": []
   },
   "outputs": [
    {
     "data": {
      "text/plain": [
       "500"
      ]
     },
     "execution_count": 9,
     "metadata": {},
     "output_type": "execute_result"
    }
   ],
   "source": [
    "len(prompts)"
   ]
  },
  {
   "cell_type": "code",
   "execution_count": 10,
   "id": "fd9d0118-0817-4f75-b5ce-10207f18ed1e",
   "metadata": {
    "tags": []
   },
   "outputs": [
    {
     "data": {
      "text/plain": [
       "500"
      ]
     },
     "execution_count": 10,
     "metadata": {},
     "output_type": "execute_result"
    }
   ],
   "source": [
    "len(p2)"
   ]
  },
  {
   "cell_type": "code",
   "execution_count": 7,
   "id": "7cece4da-de82-49a2-b34a-880ef6863e70",
   "metadata": {
    "tags": []
   },
   "outputs": [],
   "source": [
    "with open(target) as f:\n",
    "    rets = [json.loads(l) for l in f]"
   ]
  },
  {
   "cell_type": "code",
   "execution_count": 12,
   "id": "05728f78-4356-4344-8291-a2392f764aa0",
   "metadata": {
    "tags": []
   },
   "outputs": [
    {
     "data": {
      "text/plain": [
       "True"
      ]
     },
     "execution_count": 12,
     "metadata": {},
     "output_type": "execute_result"
    }
   ],
   "source": [
    "prompts[0].text == rets[0]['prompt']"
   ]
  },
  {
   "cell_type": "code",
   "execution_count": 9,
   "id": "825f22c9-2686-4b8e-97f1-0ed39ea1bf15",
   "metadata": {
    "tags": []
   },
   "outputs": [
    {
     "data": {
      "text/plain": [
       "'If someone is free from guilt what are they likely to achieve?\\n<|start_2d|>\\n- peaceful sleep<|split_2d|>\\n- freedom from want<|split_2d|>\\n- medal<|split_2d|>\\n- headache<|split_2d|>\\n- new computer<|end_2d|> Answer: '"
      ]
     },
     "execution_count": 9,
     "metadata": {},
     "output_type": "execute_result"
    }
   ],
   "source": [
    "rets[0]['prompt']"
   ]
  },
  {
   "cell_type": "code",
   "execution_count": 3,
   "id": "9e85bda6-a583-46d2-bef6-aab01fe62d53",
   "metadata": {
    "tags": []
   },
   "outputs": [
    {
     "data": {
      "text/plain": [
       "[SplitPrompt(text='If someone is free from guilt what are they likely to achieve?\\n<|start_2d|>\\n- peaceful sleep<|split_2d|>\\n- freedom from want<|split_2d|>\\n- medal<|split_2d|>\\n- headache<|split_2d|>\\n- new computer<|end_2d|> Answer: ', metadata={'label': 'peaceful sleep', 'incorrect_answers': ['freedom from want', 'medal', 'headache', 'new computer']})]"
      ]
     },
     "execution_count": 3,
     "metadata": {},
     "output_type": "execute_result"
    }
   ],
   "source": [
    "prompts[:1]"
   ]
  },
  {
   "cell_type": "code",
   "execution_count": null,
   "id": "099def19-44b6-440c-a8cc-a00f0576ece3",
   "metadata": {},
   "outputs": [],
   "source": []
  },
  {
   "cell_type": "code",
   "execution_count": 2,
   "id": "9b783fc0-31bf-4d5a-a167-0e040337d6db",
   "metadata": {
    "tags": []
   },
   "outputs": [
    {
     "data": {
      "application/vnd.jupyter.widget-view+json": {
       "model_id": "a5508a16d02b4b5383d870c293a164e5",
       "version_major": 2,
       "version_minor": 0
      },
      "text/plain": [
       "Loading checkpoint shards:   0%|          | 0/2 [00:00<?, ?it/s]"
      ]
     },
     "metadata": {},
     "output_type": "display_data"
    }
   ],
   "source": [
    "model, tokenizer = order_independent_llm.load_model(\"meta-llama/Llama-2-7b-hf\", 'auto')"
   ]
  },
  {
   "cell_type": "code",
   "execution_count": 4,
   "id": "6a6b98fb-8bdd-4e33-97bc-80e2fc7beb26",
   "metadata": {
    "tags": []
   },
   "outputs": [
    {
     "data": {
      "text/plain": [
       "'cuda'"
      ]
     },
     "execution_count": 4,
     "metadata": {},
     "output_type": "execute_result"
    }
   ],
   "source": [
    "model.device.type"
   ]
  },
  {
   "cell_type": "code",
   "execution_count": 12,
   "id": "3ce2e165-3775-4754-9440-b01c4b8f7d22",
   "metadata": {
    "tags": []
   },
   "outputs": [],
   "source": [
    "resp2 = order_independent_llm.order_independent_query(\n",
    "            prefix=\"test\",\n",
    "            parallel_substrings=['a','b', 'c'],\n",
    "            suffix='\\n1 paragraph summary of the disaster, including damage, invesigation and casualty discussion.\\n',\n",
    "            model=model,\n",
    "            tokenizer=tokenizer,\n",
    "            max_new_tokens=200,\n",
    "            #torch_device='cuda',\n",
    "            is_order_independent=True,\n",
    "        )"
   ]
  },
  {
   "cell_type": "code",
   "execution_count": 10,
   "id": "3f928e9c-5b7a-4a2b-b5a2-3e06fcddd531",
   "metadata": {
    "tags": []
   },
   "outputs": [],
   "source": [
    "gc.collect()\n",
    "torch.cuda.empty_cache()"
   ]
  },
  {
   "cell_type": "code",
   "execution_count": 10,
   "id": "998a5adb-c46a-41c4-b7fd-ad27564bfda6",
   "metadata": {
    "tags": []
   },
   "outputs": [
    {
     "data": {
      "text/plain": [
       "device(type='cuda', index=0)"
      ]
     },
     "execution_count": 10,
     "metadata": {},
     "output_type": "execute_result"
    }
   ],
   "source": [
    "model.device"
   ]
  },
  {
   "cell_type": "code",
   "execution_count": 13,
   "id": "ef5f3aa1-97b4-4bf3-9e15-7490f809cc7a",
   "metadata": {
    "tags": []
   },
   "outputs": [],
   "source": [
    "#resp2"
   ]
  },
  {
   "cell_type": "code",
   "execution_count": 14,
   "id": "145d421c-2c8d-4274-9e9e-5c9d1b55d4ae",
   "metadata": {
    "tags": []
   },
   "outputs": [],
   "source": [
    "raw = \"\"\"On March 26, 2024, at 1:28 a.m. EDT (05:28 UTC), the main spans and the three nearest northeast approach spans of the Francis Scott Key Bridge across the Patapsco River in the Baltimore metropolitan area of Maryland, United States, collapsed after the container ship Dali struck one of its piers. Two people were rescued from the river; one had no injuries, while the other was transported to a hospital in critical condition. Six members of a maintenance crew working on the roadway were reported missing; three bodies were recovered, and the other three are presumed dead.[1][2]\n",
    "\n",
    "The collapse blocked most shipping to and from the Port of Baltimore. Maryland Governor Wes Moore called the event a \"global crisis\" that had affected more than 8,000 jobs. The economic impact of the waterway's closure has been estimated at $15 million per day.\n",
    "Background\n",
    "Main articles: Francis Scott Key Bridge (Baltimore) and MV Dali\n",
    "Dali's size, though considered large, is less than that of the largest container ship.[3] It is recognized that bigger ships can cause bigger disasters, such as the 1,300-foot vessel in the 2021 Suez Canal obstruction.[3]\n",
    "\n",
    "The Francis Scott Key Bridge was a steel arch-shaped continuous truss bridge, the second-longest in the United States and third-longest in the world.[4] Opened in 1977, the 1.6-mile (2.6 km; 1.4 nmi) bridge ran northeast from Hawkins Point, Baltimore, to Sollers Point in Dundalk in Baltimore County, Maryland. Before being damaged, it carried Interstate 695, a beltway around Baltimore;[5] its four lanes (two in each direction[6]) were used by some 34,000 vehicles each day, including 3,000 trucks, many of which hauled hazardous materials barred from the two harbor tunnels.[7][8]\n",
    "\n",
    "The bridge crossed one of the busiest shipping routes in the United States: the lower Patapsco River, which connects the Port of Baltimore to the Chesapeake Bay and the Atlantic Ocean.[5][7] In 2023, the port handled more than 444,000 passengers and 52.3 million tons of foreign cargo valued at $80 billion.[5] It was the second-largest U.S. port for coal, and had been the leading port for automobiles and light trucks for 13 straight years, handling more than 847,000 vehicles in 2023.[9][10] It employed 15,000 people and indirectly supported 140,000 others,[11] annually helping to generate $3.3 billion in wages and salaries, $2.6 billion in business revenue, and $400 million in state and local tax revenue.[8]\n",
    "\n",
    "MV Dali is a container ship registered in Singapore, and at the time of the allision[a] was operated by Synergy Marine Group[12] and owned by Grace Ocean Private Ltd,[13] both based in Singapore. A Neopanamax vessel completed in 2015, Dali has a length of 980 feet (300 m), a 157-foot (48 m) beam, and a 40-foot (12.2 m) draft.[14] Danish shipping company Maersk chartered Dali upon its delivery.[15] Once in service, Dali had undergone 27 inspections at ports globally,[16][17] including two in 2023: one in June in San Antonio, Chile, where a fuel-pressure gauge was repaired; and the second in September by the U.S. Coast Guard in New York, which found no problems.[18][19][17]\n",
    "\n",
    "In March 2024, Dali was crewed by 20 Indian nationals and one Sri Lankan.[20] The ship traveled from Panama to New York, arriving on March 19,[21] then sailed to the Virginia International Gateway in Portsmouth, Virginia.[22] The ship left Virginia on March 22 and the following day arrived in Baltimore,[23] where it underwent engine maintenance.[24][25]\n",
    "\n",
    "When the bridge was completed in 1977, the largest container ships could hold 2,000 to 3,000 twenty-foot equivalent unit (TEU) containers.[26] After the Panama Canal expansion began to allow the passage of 14,000-TEU vessels in 2016, the Maryland Port Administration installed new cranes and dredged the harbor to enable the port to accommodate the larger ships.[27] At the time of its collision, Dali was loaded nearly to its 10,000-TEU capacity with 4,700 forty-foot containers.[26]\n",
    "\n",
    "In 1980, a ship roughly one-third the size of Dali struck and lightly damaged one of the bridge's piers.[28][29] After the bridge collapsed in 2024, anonymous former agency officials told The Washington Post that the Maryland Transportation Authority (MDTA) did not consider studying the possibility of a collision with a larger ship, and instead spent decades studying how terrorists might attack the bridge after the September 11 attacks or inspecting for structural flaws similar to those that caused the I-35W Mississippi River bridge collapse in 2007.[30]\n",
    "\n",
    "Federal regulations for protecting bridges from ship collisions were updated in 1991 after the Sunshine Skyway Bridge collapse in 1980, but existing bridges were exempted by a grandfather clause, and the Francis Scott Key Bridge piers lacked the level of fender system or island barriers required of newer bridges.[31][32][33] However, engineering experts debate whether such bridge protection systems could have prevented the collapse given Dali's size.[34][35]\n",
    "Collapse\n",
    "Upstream view of the bridge in 2015; Dali hit the fourth pier from left.[36]\n",
    "MV Dali immobilized by the wreckage\n",
    "\n",
    "Dali left the Port of Baltimore at 12:44 a.m. EDT (04:44 UTC) on March 26, 2024,[37] bound for Colombo, Sri Lanka.[38] The ship had two local harbor pilots on board.[36] Following standard operating procedure in Baltimore, tugboats that piloted the ship from its berth were released once the ship was in the channel.[39][40][8] At 1:24 a.m.,[41][42] the ship suffered a \"complete blackout\" and began to drift out of the shipping channel; a backup generator supported electrical systems but did not provide power to the propulsion system.[43] At 1:27 a.m., a mayday call was made from the ship,[42] notifying the Maryland Department of Transportation that the crew had lost propulsion and control of the vessel and that a collision with the bridge was possible.[44]\n",
    "\n",
    "One of the pilots requested that traffic be stopped from crossing the bridge immediately.[45][46][47][48] The ship's lights went out and came on again some moments later; then again went off and returned just before impact as smoke once again began rising from the funnel.[36][49] At the pilot's request, the MDTA Police dispatch asked officers to stop traffic in both directions at 1:27:53 a.m.; outer loop (eastbound/northbound) traffic was stopped at the south side after 20 seconds. Inner loop (westbound/southbound) traffic was stopped at the north side by 1:28:58 a.m., around the time of the collapse.[50] The Maritime and Port Authority of Singapore (MPA) reported that the ship dropped anchor before hitting the bridge, as part of its emergency procedures.[45]\n",
    "\n",
    "At 1:28:45 a.m.,[51][52][53] the ship struck the southwest pier of the central truss arch span, at roughly 8 knots (9.2 mph; 15 km/h).[54] AIS data showed the ship traveling at a speed of 8.7 knots (10.0 mph; 16.1 km/h) at 1:25 a.m. before departing the channel and slowing to 6.8 knots (7.8 mph; 12.6 km/h) by the time of the collision two minutes later.[49][55]\n",
    "\n",
    "Within seconds of the collision, the bridge broke apart in several places,[56] leaving sections protruding from the water and the roadway's approaches cut off.[54] The main span fell onto the ship's bow and a section of it came to rest there.[45][57] The bridge strike and partial collapse were recorded on video.[58][59]\n",
    "\n",
    "Multiple vehicles were on the bridge at the time it collapsed, though initially no one was believed to be inside them.[54] Workers were repairing potholes on the bridge[54] and were in their vehicles on a break at the time of the collapse.[60] A resident living near the bridge recalled being awakened by deep rumbling that shook his residence for several seconds following the collapse, which he said \"felt like an earthquake\".[54]\n",
    "\n",
    "Emergency teams began receiving 911 calls at 1:30 a.m.[45] The Baltimore Police Department was alerted to the collapse at 1:35 a.m. Large rescue and recovery efforts were begun.[58] The Coast Guard deployed boats and a helicopter as part of rescue efforts.[45] Fifty public safety divers in eight teams were dispatched to search for people who fell into the river.[61][45]\n",
    "\"\"\""
   ]
  },
  {
   "cell_type": "code",
   "execution_count": 15,
   "id": "4355be1c-8d77-48db-9e42-a3469cb5c61b",
   "metadata": {
    "tags": []
   },
   "outputs": [],
   "source": [
    "substrings = [\n",
    "    \"\"\"Damage\n",
    "A labelled diagram of the bridge, with Dali's impact point and the collapsed sections illustrated\n",
    "Panoramic photography of the scene as depicted in the diagram.\n",
    "The collapsed portion of the bridge comprises the three spans under the metal truss, and three others to the northeast (left of the images, in Dundalk, Maryland; right is Hawkins Point, Baltimore).[45]\n",
    "2016 photo of the pier struck by the ship\n",
    "Aerial view of the damage\n",
    "\n",
    "The bridge's continuous truss relied on its overall structure to maintain integrity; in engineering terms, it was fracture critical, meaning it had no redundancy against removal of support of any particular part of it.[51] The collision destroyed its southwest main truss pier, causing the south and central spans to collapse, which led to the collapse of a northern span.[58][62] Each failure sequence took seconds, and within 30 seconds the entirety of the trussed spans, and three others, had fallen.[63]\n",
    "\n",
    "The bridge was determined to be fully compliant with the building code[which?] when it collapsed.[45] The bridge had dolphin and fender protection against ship impact, but these protections were insufficient.[32][64][65]\n",
    "\n",
    "Of Dali's 4,700 shipping containers, 13 were damaged in the collision.[19] Two fell into the water, neither of which carried hazardous substances.[66] Dali sustained hull damage above the water line and the ship was impaled by remnants of the bridge superstructure (estimated to be 3,000 to 4,000 tonnes of bridge wreckage),[67][68] which pressed it against the channel floor.[69][70] The ship remained watertight,[67] and the shipping company initially claimed there was no water pollution directly from the ship.[71][72] Authorities installed 2,400 feet (730 m) of water containment booms[73] around the ship after a sheen was detected in the waterway, which was believed to have been produced by 21 US gallons (17 imp gal; 79 L) of oil that leaked from a bow thruster on the ship.[74] On March 27, the National Transportation Safety Board (NTSB) announced an investigation into a hazmat spill resulting from breached containers aboard Dali, including some of the 56 containers that carried about 764 tons of hazardous materials: primarily corrosives, flammable substances (including lithium batteries), and Class 9 materials.\"\"\"\n",
    ",\n",
    "    \"\"\"Casualties\n",
    "\n",
    "NOAA reported a water temperature of 47 °F (8 °C) at the time of the collapse.[54] Two people were rescued from the river: one was in \"very serious\" condition and the other uninjured.[77] One of those rescued was a Mexican national.[13] Six people, all part of the maintenance crew working on the bridge, were reported missing and presumed dead following the suspension of a Coast Guard search.[1][45][78][79][80] One was identified as a Honduran national, two were from Guatemala, and the others were from El Salvador and Mexico.[13][42]\n",
    "\n",
    "Five submerged vehicles, including three passenger vehicles and a transit mixer, were detected using sonar.[81] Emergency services also used drones and infrared technology in the search.[51] The bodies of two of the maintenance crew were recovered from inside a red pickup truck: a 35-year-old Mexican national and a 26-year-old Guatemalan national.[1][82] They were found at a depth of 25 feet (7.6 m) below the mid-section of the bridge.[83] The search was suspended based on the condition of the debris and risk of further collapse.[1] On April 5, the body of a 38-year-old Honduran national was recovered from a submerged vehicle. A 35-year-old Guatemalan national, a 49-year-old Salvadoran national, and Mexican national remain among the missing.[84]\n",
    "\n",
    "Occupational Safety and Health Administration regulations require that construction companies keep skiffs available at construction sites over waterways. Coast Guard officials said they were unaware of whether the company that employed the highway workers had one available, and satellite imagery at the time of the bridge collapse does not appear to show one present at the bridge. The company declined to respond to press inquiries about whether a boat was available.[85]\n",
    "\n",
    "Dali's crew and the two pilots were accounted for and did not sustain any serious injuries.[71] One crew member was slightly injured and required some stitches.[66] Groups such as the Baltimore International Seafarers' Center made efforts to support the crew members as they remained on the boat,[86] including providing them with Wi-Fi hotspots.\"\"\",\n",
    "    \"\"\"Investigation\n",
    "External videos\n",
    "video icon Press conference with NTSB Chair Jennifer Homendy, March 26, 2024, C-SPAN\n",
    "Three people in FBI uniforms are on a boat. They are closely inspecting the mangled remains of bridge struts poking out of the water in front of them.\n",
    "An evidence response team from the FBI examines a segment of the bridge several hours after the collapse.\n",
    "Folding tables are arranged in rows and a square in a large presentation room in a police station. People in various uniforms representing many agencies are seated at the tables and focused on their laptops. The center of the room has a table piled with boxes of pizza, salads, and other provisions.\n",
    "Officials coordinating response and rescue efforts at the Maryland Transportation Authority headquarters on the day of the collapse\n",
    "\n",
    "The NTSB began an investigation and sent a team to the site.[88] The agency is expected to release a preliminary report two to four weeks after the collapse, and later issue urgent safety recommendations, while its investigation could take between 12 and 24 months.[1][89] The Federal Bureau of Investigation (FBI) was also deployed to the scene, but said that terrorism was not suspected in the incident.[90][54] On March 27, a Unified Command Joint Information Center was established to coordinate the investigation and salvage. The command includes team members from the U.S. Coast Guard, Maryland Department of the Environment, MDTA, Maryland State Police, and Synergy Marine, as the primary stakeholders.[91]\n",
    "\n",
    "As the flag state, Singapore's Transport Safety Investigation Bureau (TSIB) and the MPA sent personnel to Baltimore to help in investigations. The MPA said it offered support to the NTSB and the Office of Marine Safety.[92]\n",
    "\n",
    "NTSB personnel boarded the ship late on March 26 and obtained the voyage data recorder (VDR), which would help investigators develop a timeline of events leading up to the collision.[93][94] Several possible factors were being considered, including the possibility that contaminated fuel or an improper grade of fuel had caused the loss of the ship's power.[95][96][97] At a Senate Commerce Committee hearing on April 10, NTSB Chair Jennifer Homendy stated that the agency was gathering data about the ship's electrical system and examining its circuit breakers with the assistance of Hyundai Heavy Industries, Dali's shipbuilder.\"\"\"\n",
    "\"\"\"Aftermath\n",
    "\n",
    "The debris from the collapse has blocked maritime access to virtually the entirety of the Port of Baltimore; nearly 30 ships had signaled the port as their destination, and more than 40 were trapped.[106] Only one part of the Port of Baltimore was unaffected: the Tradepoint Atlantic marine terminal at Sparrows Point, on the seaward side of the Key Bridge.[107] Tradepoint Atlantic said on April 3 that it began preparing for an influx of redirected ships and estimated that it would unload and process 10,000 vehicles over the next 15 days.[108]\n",
    "\n",
    "Maryland governor Wes Moore declared a state of emergency shortly thereafter,[45] and Maryland Secretary of Transportation Paul Wiedefeld ordered the suspension of all shipping to and from the Port of Baltimore[109] until further notice; trucking facilities remained operational.[54] At 4:15 a.m., the Federal Aviation Administration imposed a 5-nautical-mile (5.8 mi; 9.3 km) temporary flight restriction around the incident site.[110] Maersk, which chartered the vessel,[111] saw the price of its shares decline by about 2% when trading opened at Nasdaq Copenhagen on March 26.[112]\n",
    "Salvage\n",
    "Chesapeake 1000 on-site\n",
    "\n",
    "The U.S. Army Corps of Engineers (USACE) is taking the lead in removing the fallen portions of the bridge. The U.S. Navy is planning to remove the submerged portions using barges with heavy-lift cranes, including the \"largest crane ship on the East Coast\": the Chesapeake 1000 of the Donjon Marine Co., able to lift 1,000 short tons (890 long tons; 910 t).[113][114] The designated salvor is Resolve Marine.[69] Thirty-two USACE personnel and 38 Navy contractors were deployed to the scene.[73] More than 1,100 engineering specialists were[needs update] to join them.[115] Seven floating cranes, ten tugboats, nine barges, eight salvage vessels, and five Coast Guard boats were deployed around the bridge.[116]\n",
    "\n",
    "On March 30, engineers began removing the first piece of the bridge from the river.[117][118][119] On April 1, the Coast Guard opened a temporary passage for commercial work vessels involved in recovery and clearing efforts, with a controlling depth of 11 feet (3.4 m), a horizontal clearance of 264 feet (80 m) and a vertical clearance of 96 feet (29 m),[120] and was approving ships' passage case by case.[121] The next day, the first work vessel used the alternate channel: a tugboat pushing a fuel barge to Dover Air Force Base in Delaware. A second channel was opened the next day, as work continued on a third channel.[122][123] On April 7, salvage crews started removing containers from Dali.\"\"\",\n",
    "\"\"\"Responses\n",
    "President Biden is briefed on the collapse\n",
    "External videos\n",
    "video icon Remarks by U.S. president Joe Biden on the bridge collapse, March 26, 2024, C-SPAN\n",
    "\n",
    "President Joe Biden was briefed on the disaster within hours of the collision.[54] U.S. Secretary of Transportation Pete Buttigieg contacted Maryland governor Wes Moore and Baltimore mayor Brandon Scott to offer his department's support.[161] Moore addressed the families of the victims in Spanish, saying, \"Estamos contigo, ahora y siempre [we are with you, now and always]\".[89] Maryland Center for History and Culture vice president David Belew said, \"Our harbor, port and many families are fundamentally changed\" by the disaster.[162] On March 27, Moore and Biden thanked Dali's crew for transmitting the mayday call warning of the ship's power failure and the impending collision.[163][164] On March 28, three officers of the MDTA were recognized at the opening game of the Baltimore Orioles for their role in stopping traffic before the bridge collapsed.[74]\n",
    "President Biden joins Governor Moore and local officials to speak near the bridge\n",
    "\n",
    "Biden visited the site on April 5; he surveyed the wreckage from Marine One and was later briefed by officials from the local government, the Coast Guard and USACE. He pledged the support of the federal government for a bridge replacement and the recovery effort \"every step of the way\", adding that \"the nation has your back\". He also met with families of the victims.[165][166]\n",
    "\n",
    "The Mexican embassy in the U.S. is providing consular assistance to the families, with a dedicated phone line for affected Mexican nationals.[167] Mexican president Andrés Manuel López Obrador said the disaster highlighted the contribution of migrants to the US economy and \"demonstrates that migrants go out and do risky jobs at midnight\".[168] Rafael Laveaga Rendón, head of the consular section, travelled to Baltimore to help the workers’ families.[169] It has been confirmed that one of the rescued was from Michoacán, while the two Mexican nationals who are still missing are from Michoacán and Veracruz.\"\"\"\n",
    "\"\"\"Replacement bridge\n",
    "\n",
    "In an address on March 26, Biden said that he would ask Congress to fund a replacement bridge.[170] On March 28, the federal government released an initial $60 million in emergency aid under the Emergency Relief (ER) Program of the Federal Highway Administration (FHWA) that is subsidized by the Highway Trust Fund.[74][171] Buttigieg also urged Congress to provide funding for a replacement bridge.[172] Senate Minority Leader Mitch McConnell said that it was the federal government's responsibility to absorb the costs.[173]\n",
    "\n",
    "The House Freedom Caucus issued a statement listing demands for their support of funding for a replacement bridge, including that the federal government seek maximum liability from the shipping companies upfront.[174][175] While vowing to hold those responsible for the bridge collapse accountable, Maryland Senator Ben Cardin argued against waiting for related litigation to be resolved and insurance claims to be approved, saying \"We're not going to delay opening our channel or rebuilding our bridge with the lengthy process that may take\", with which Buttigieg agreed.[166][176] On April 8, Moore stated that he would meet with members of Congress during the following week to discuss potential support for funding a replacement bridge.[177]\n",
    "\n",
    "While some engineering professors suggested that replacing the bridge could take as long as 10 years and cost at least $350 million,[70][178][179] a report issued by the Congressional Research Service (CRS) noted that replacement bridges can qualify for a Categorical Exclusion (CE) under the National Environmental Policy Act to accelerate regulatory review and project delivery and that the I-35W Saint Anthony Falls Bridge that replaced the I-35W Mississippi River bridge (which received a CE) was completed in 11 months, and repairs to the Sunshine Skyway Bridge took five years to complete.[171]\n",
    "\n",
    "The CRS report notes further that a replacement bridge could be eligible for additional funding from the FHWA ER Program that could cover 80% of the project cost since the bridge was a state highway, 90% of the project cost if the expenses cause the state government to exceed its federal-aid highway program funds for the fiscal year, or 100% of the project cost if Congress makes an exception for the project from the ER Program rules (which Congress did for the I-35W Saint Anthony Falls Bridge), while any state funds received from an approved insurance claim would offset funding awarded from the ER Program.[171] On April 9, the Maryland congressional delegation announced that they would introduce a bill to make an exception to the ER Program rules for a replacement bridge.\"\"\",\n",
    "]"
   ]
  },
  {
   "cell_type": "code",
   "execution_count": 20,
   "id": "8cc4947b-4ff4-47ee-9945-9943bcdda41a",
   "metadata": {
    "tags": []
   },
   "outputs": [
    {
     "name": "stdout",
     "output_type": "stream",
     "text": [
      "|===========================================================================|\n",
      "|                  PyTorch CUDA memory summary, device ID 0                 |\n",
      "|---------------------------------------------------------------------------|\n",
      "|            CUDA OOMs: 3            |        cudaMalloc retries: 5         |\n",
      "|===========================================================================|\n",
      "|        Metric         | Cur Usage  | Peak Usage | Tot Alloc  | Tot Freed  |\n",
      "|---------------------------------------------------------------------------|\n",
      "| Allocated memory      |  27148 MiB |  27148 MiB |  87245 MiB |  60097 MiB |\n",
      "|       from large pool |  27097 MiB |  27097 MiB |  76337 MiB |  49239 MiB |\n",
      "|       from small pool |     50 MiB |    156 MiB |  10908 MiB |  10858 MiB |\n",
      "|---------------------------------------------------------------------------|\n",
      "| Active memory         |  27148 MiB |  27148 MiB |  87245 MiB |  60097 MiB |\n",
      "|       from large pool |  27097 MiB |  27097 MiB |  76337 MiB |  49239 MiB |\n",
      "|       from small pool |     50 MiB |    156 MiB |  10908 MiB |  10858 MiB |\n",
      "|---------------------------------------------------------------------------|\n",
      "| Requested memory      |  27145 MiB |  27145 MiB |  86237 MiB |  59092 MiB |\n",
      "|       from large pool |  27095 MiB |  27095 MiB |  75373 MiB |  48278 MiB |\n",
      "|       from small pool |     50 MiB |    156 MiB |  10863 MiB |  10813 MiB |\n",
      "|---------------------------------------------------------------------------|\n",
      "| GPU reserved memory   |  27282 MiB |  27282 MiB |  28012 MiB | 747520 KiB |\n",
      "|       from large pool |  27228 MiB |  27228 MiB |  27724 MiB | 507904 KiB |\n",
      "|       from small pool |     54 MiB |    170 MiB |    288 MiB | 239616 KiB |\n",
      "|---------------------------------------------------------------------------|\n",
      "| Non-releasable memory | 137163 KiB | 188429 KiB |  81402 MiB |  81268 MiB |\n",
      "|       from large pool | 133185 KiB | 176887 KiB |  69564 MiB |  69434 MiB |\n",
      "|       from small pool |   3978 KiB |  46258 KiB |  11838 MiB |  11834 MiB |\n",
      "|---------------------------------------------------------------------------|\n",
      "| Allocations           |     971    |    1010    |  506559    |  505588    |\n",
      "|       from large pool |     431    |     485    |   21559    |   21128    |\n",
      "|       from small pool |     540    |     542    |  485000    |  484460    |\n",
      "|---------------------------------------------------------------------------|\n",
      "| Active allocs         |     971    |    1010    |  506559    |  505588    |\n",
      "|       from large pool |     431    |     485    |   21559    |   21128    |\n",
      "|       from small pool |     540    |     542    |  485000    |  484460    |\n",
      "|---------------------------------------------------------------------------|\n",
      "| GPU reserved segments |     296    |     362    |     437    |     141    |\n",
      "|       from large pool |     269    |     277    |     293    |      24    |\n",
      "|       from small pool |      27    |      85    |     144    |     117    |\n",
      "|---------------------------------------------------------------------------|\n",
      "| Non-releasable allocs |     105    |     150    |  182280    |  182175    |\n",
      "|       from large pool |      37    |      44    |    4492    |    4455    |\n",
      "|       from small pool |      68    |     133    |  177788    |  177720    |\n",
      "|---------------------------------------------------------------------------|\n",
      "| Oversize allocations  |       0    |       0    |       0    |       0    |\n",
      "|---------------------------------------------------------------------------|\n",
      "| Oversize GPU segments |       0    |       0    |       0    |       0    |\n",
      "|===========================================================================|\n",
      "\n"
     ]
    }
   ],
   "source": [
    "print(torch.cuda.memory_summary())"
   ]
  },
  {
   "cell_type": "code",
   "execution_count": 19,
   "id": "3d5d00bd-c3db-42a6-a8d5-f20da41b9f31",
   "metadata": {
    "tags": []
   },
   "outputs": [
    {
     "ename": "OutOfMemoryError",
     "evalue": "CUDA out of memory. Tried to allocate 48.00 MiB. GPU 0 has a total capacty of 79.15 GiB of which 16.00 MiB is free. Including non-PyTorch memory, this process has 79.12 GiB memory in use. Of the allocated memory 26.51 GiB is allocated by PyTorch, and 133.95 MiB is reserved by PyTorch but unallocated. If reserved but unallocated memory is large try setting max_split_size_mb to avoid fragmentation.  See documentation for Memory Management and PYTORCH_CUDA_ALLOC_CONF",
     "output_type": "error",
     "traceback": [
      "\u001b[0;31m---------------------------------------------------------------------------\u001b[0m",
      "\u001b[0;31mOutOfMemoryError\u001b[0m                          Traceback (most recent call last)",
      "Cell \u001b[0;32mIn[19], line 1\u001b[0m\n\u001b[0;32m----> 1\u001b[0m resp2 \u001b[38;5;241m=\u001b[39m \u001b[43morder_independent_llm\u001b[49m\u001b[38;5;241;43m.\u001b[39;49m\u001b[43morder_independent_query\u001b[49m\u001b[43m(\u001b[49m\n\u001b[1;32m      2\u001b[0m \u001b[43m            \u001b[49m\u001b[43mprefix\u001b[49m\u001b[38;5;241;43m=\u001b[39;49m\u001b[43mraw\u001b[49m\u001b[43m,\u001b[49m\n\u001b[1;32m      3\u001b[0m \u001b[43m            \u001b[49m\u001b[43mparallel_substrings\u001b[49m\u001b[38;5;241;43m=\u001b[39;49m\u001b[43msubstrings\u001b[49m\u001b[43m[\u001b[49m\u001b[43m:\u001b[49m\u001b[38;5;241;43m1\u001b[39;49m\u001b[43m]\u001b[49m\u001b[43m,\u001b[49m\n\u001b[1;32m      4\u001b[0m \u001b[43m            \u001b[49m\u001b[43msuffix\u001b[49m\u001b[38;5;241;43m=\u001b[39;49m\u001b[38;5;124;43m'\u001b[39;49m\u001b[38;5;130;43;01m\\n\u001b[39;49;00m\u001b[38;5;124;43m1 paragraph summary of the disaster, including damage, invesigation and casualty discussion.\u001b[39;49m\u001b[38;5;130;43;01m\\n\u001b[39;49;00m\u001b[38;5;124;43m'\u001b[39;49m\u001b[43m,\u001b[49m\n\u001b[1;32m      5\u001b[0m \u001b[43m            \u001b[49m\u001b[43mmodel\u001b[49m\u001b[38;5;241;43m=\u001b[39;49m\u001b[43mmodel\u001b[49m\u001b[43m,\u001b[49m\n\u001b[1;32m      6\u001b[0m \u001b[43m            \u001b[49m\u001b[43mtokenizer\u001b[49m\u001b[38;5;241;43m=\u001b[39;49m\u001b[43mtokenizer\u001b[49m\u001b[43m,\u001b[49m\n\u001b[1;32m      7\u001b[0m \u001b[43m            \u001b[49m\u001b[43mmax_new_tokens\u001b[49m\u001b[38;5;241;43m=\u001b[39;49m\u001b[38;5;241;43m200\u001b[39;49m\u001b[43m,\u001b[49m\n\u001b[1;32m      8\u001b[0m \u001b[43m            \u001b[49m\u001b[38;5;66;43;03m#torch_device='cuda',\u001b[39;49;00m\n\u001b[1;32m      9\u001b[0m \u001b[43m            \u001b[49m\u001b[43mis_order_independent\u001b[49m\u001b[38;5;241;43m=\u001b[39;49m\u001b[38;5;28;43;01mTrue\u001b[39;49;00m\u001b[43m,\u001b[49m\n\u001b[1;32m     10\u001b[0m \u001b[43m        \u001b[49m\u001b[43m)\u001b[49m\n",
      "File \u001b[0;32m/n/holylabs/LABS/dwork_lab/Lab/reidmcy/projects/triple_queries_order_dependence/order_independent_llm/input_processing.py:411\u001b[0m, in \u001b[0;36morder_independent_query\u001b[0;34m(prefix, parallel_substrings, suffix, model, tokenizer, max_new_tokens, is_order_independent, modify_model, edit_position, edit_attention, pad_attention, metadata)\u001b[0m\n\u001b[1;32m    409\u001b[0m \u001b[38;5;28;01mif\u001b[39;00m modify_model:\n\u001b[1;32m    410\u001b[0m     model \u001b[38;5;241m=\u001b[39m get_2D_attention_accepting_model(model)\n\u001b[0;32m--> 411\u001b[0m generated \u001b[38;5;241m=\u001b[39m \u001b[43mmodel\u001b[49m\u001b[38;5;241;43m.\u001b[39;49m\u001b[43mgenerate\u001b[49m\u001b[43m(\u001b[49m\n\u001b[1;32m    412\u001b[0m \u001b[43m    \u001b[49m\u001b[43mtokAll\u001b[49m\u001b[43m[\u001b[49m\u001b[38;5;124;43m\"\u001b[39;49m\u001b[38;5;124;43minput_ids\u001b[39;49m\u001b[38;5;124;43m\"\u001b[39;49m\u001b[43m]\u001b[49m\u001b[43m,\u001b[49m\n\u001b[1;32m    413\u001b[0m \u001b[43m    \u001b[49m\u001b[43mmax_new_tokens\u001b[49m\u001b[38;5;241;43m=\u001b[39;49m\u001b[43mmax_new_tokens\u001b[49m\u001b[43m,\u001b[49m\n\u001b[1;32m    414\u001b[0m \u001b[43m    \u001b[49m\u001b[43mattention_mask\u001b[49m\u001b[38;5;241;43m=\u001b[39;49m\u001b[43mattention_mask_2d\u001b[49m\u001b[43m,\u001b[49m\n\u001b[1;32m    415\u001b[0m \u001b[43m    \u001b[49m\u001b[43mposition_ids\u001b[49m\u001b[38;5;241;43m=\u001b[39;49m\u001b[43mposition_ids\u001b[49m\u001b[43m,\u001b[49m\n\u001b[1;32m    416\u001b[0m \u001b[43m    \u001b[49m\u001b[43mreturn_dict_in_generate\u001b[49m\u001b[38;5;241;43m=\u001b[39;49m\u001b[38;5;28;43;01mTrue\u001b[39;49;00m\u001b[43m,\u001b[49m\n\u001b[1;32m    417\u001b[0m \u001b[43m    \u001b[49m\u001b[43moutput_scores\u001b[49m\u001b[38;5;241;43m=\u001b[39;49m\u001b[38;5;28;43;01mTrue\u001b[39;49;00m\u001b[43m,\u001b[49m\n\u001b[1;32m    418\u001b[0m \u001b[43m    \u001b[49m\u001b[43mdo_sample\u001b[49m\u001b[38;5;241;43m=\u001b[39;49m\u001b[38;5;28;43;01mFalse\u001b[39;49;00m\u001b[43m,\u001b[49m\n\u001b[1;32m    419\u001b[0m \u001b[43m    \u001b[49m\u001b[43mpad_token_id\u001b[49m\u001b[38;5;241;43m=\u001b[39;49m\u001b[43mtokenizer\u001b[49m\u001b[38;5;241;43m.\u001b[39;49m\u001b[43meos_token_id\u001b[49m\u001b[43m,\u001b[49m\n\u001b[1;32m    420\u001b[0m \u001b[43m\u001b[49m\u001b[43m)\u001b[49m\n\u001b[1;32m    421\u001b[0m \u001b[38;5;66;03m# remove from GPU\u001b[39;00m\n\u001b[1;32m    422\u001b[0m \u001b[38;5;28;01mif\u001b[39;00m model_device\u001b[38;5;241m.\u001b[39mtype \u001b[38;5;241m==\u001b[39m \u001b[38;5;124m\"\u001b[39m\u001b[38;5;124mcuda\u001b[39m\u001b[38;5;124m\"\u001b[39m:\n",
      "File \u001b[0;32m~/.conda/envs/cuda_11/lib/python3.11/site-packages/torch/utils/_contextlib.py:115\u001b[0m, in \u001b[0;36mcontext_decorator.<locals>.decorate_context\u001b[0;34m(*args, **kwargs)\u001b[0m\n\u001b[1;32m    112\u001b[0m \u001b[38;5;129m@functools\u001b[39m\u001b[38;5;241m.\u001b[39mwraps(func)\n\u001b[1;32m    113\u001b[0m \u001b[38;5;28;01mdef\u001b[39;00m \u001b[38;5;21mdecorate_context\u001b[39m(\u001b[38;5;241m*\u001b[39margs, \u001b[38;5;241m*\u001b[39m\u001b[38;5;241m*\u001b[39mkwargs):\n\u001b[1;32m    114\u001b[0m     \u001b[38;5;28;01mwith\u001b[39;00m ctx_factory():\n\u001b[0;32m--> 115\u001b[0m         \u001b[38;5;28;01mreturn\u001b[39;00m \u001b[43mfunc\u001b[49m\u001b[43m(\u001b[49m\u001b[38;5;241;43m*\u001b[39;49m\u001b[43margs\u001b[49m\u001b[43m,\u001b[49m\u001b[43m \u001b[49m\u001b[38;5;241;43m*\u001b[39;49m\u001b[38;5;241;43m*\u001b[39;49m\u001b[43mkwargs\u001b[49m\u001b[43m)\u001b[49m\n",
      "File \u001b[0;32m~/.conda/envs/cuda_11/lib/python3.11/site-packages/transformers/generation/utils.py:1479\u001b[0m, in \u001b[0;36mGenerationMixin.generate\u001b[0;34m(self, inputs, generation_config, logits_processor, stopping_criteria, prefix_allowed_tokens_fn, synced_gpus, assistant_model, streamer, negative_prompt_ids, negative_prompt_attention_mask, **kwargs)\u001b[0m\n\u001b[1;32m   1462\u001b[0m     \u001b[38;5;28;01mreturn\u001b[39;00m \u001b[38;5;28mself\u001b[39m\u001b[38;5;241m.\u001b[39massisted_decoding(\n\u001b[1;32m   1463\u001b[0m         input_ids,\n\u001b[1;32m   1464\u001b[0m         candidate_generator\u001b[38;5;241m=\u001b[39mcandidate_generator,\n\u001b[0;32m   (...)\u001b[0m\n\u001b[1;32m   1475\u001b[0m         \u001b[38;5;241m*\u001b[39m\u001b[38;5;241m*\u001b[39mmodel_kwargs,\n\u001b[1;32m   1476\u001b[0m     )\n\u001b[1;32m   1477\u001b[0m \u001b[38;5;28;01mif\u001b[39;00m generation_mode \u001b[38;5;241m==\u001b[39m GenerationMode\u001b[38;5;241m.\u001b[39mGREEDY_SEARCH:\n\u001b[1;32m   1478\u001b[0m     \u001b[38;5;66;03m# 11. run greedy search\u001b[39;00m\n\u001b[0;32m-> 1479\u001b[0m     \u001b[38;5;28;01mreturn\u001b[39;00m \u001b[38;5;28;43mself\u001b[39;49m\u001b[38;5;241;43m.\u001b[39;49m\u001b[43mgreedy_search\u001b[49m\u001b[43m(\u001b[49m\n\u001b[1;32m   1480\u001b[0m \u001b[43m        \u001b[49m\u001b[43minput_ids\u001b[49m\u001b[43m,\u001b[49m\n\u001b[1;32m   1481\u001b[0m \u001b[43m        \u001b[49m\u001b[43mlogits_processor\u001b[49m\u001b[38;5;241;43m=\u001b[39;49m\u001b[43mprepared_logits_processor\u001b[49m\u001b[43m,\u001b[49m\n\u001b[1;32m   1482\u001b[0m \u001b[43m        \u001b[49m\u001b[43mstopping_criteria\u001b[49m\u001b[38;5;241;43m=\u001b[39;49m\u001b[43mprepared_stopping_criteria\u001b[49m\u001b[43m,\u001b[49m\n\u001b[1;32m   1483\u001b[0m \u001b[43m        \u001b[49m\u001b[43mpad_token_id\u001b[49m\u001b[38;5;241;43m=\u001b[39;49m\u001b[43mgeneration_config\u001b[49m\u001b[38;5;241;43m.\u001b[39;49m\u001b[43mpad_token_id\u001b[49m\u001b[43m,\u001b[49m\n\u001b[1;32m   1484\u001b[0m \u001b[43m        \u001b[49m\u001b[43meos_token_id\u001b[49m\u001b[38;5;241;43m=\u001b[39;49m\u001b[43mgeneration_config\u001b[49m\u001b[38;5;241;43m.\u001b[39;49m\u001b[43meos_token_id\u001b[49m\u001b[43m,\u001b[49m\n\u001b[1;32m   1485\u001b[0m \u001b[43m        \u001b[49m\u001b[43moutput_scores\u001b[49m\u001b[38;5;241;43m=\u001b[39;49m\u001b[43mgeneration_config\u001b[49m\u001b[38;5;241;43m.\u001b[39;49m\u001b[43moutput_scores\u001b[49m\u001b[43m,\u001b[49m\n\u001b[1;32m   1486\u001b[0m \u001b[43m        \u001b[49m\u001b[43mreturn_dict_in_generate\u001b[49m\u001b[38;5;241;43m=\u001b[39;49m\u001b[43mgeneration_config\u001b[49m\u001b[38;5;241;43m.\u001b[39;49m\u001b[43mreturn_dict_in_generate\u001b[49m\u001b[43m,\u001b[49m\n\u001b[1;32m   1487\u001b[0m \u001b[43m        \u001b[49m\u001b[43msynced_gpus\u001b[49m\u001b[38;5;241;43m=\u001b[39;49m\u001b[43msynced_gpus\u001b[49m\u001b[43m,\u001b[49m\n\u001b[1;32m   1488\u001b[0m \u001b[43m        \u001b[49m\u001b[43mstreamer\u001b[49m\u001b[38;5;241;43m=\u001b[39;49m\u001b[43mstreamer\u001b[49m\u001b[43m,\u001b[49m\n\u001b[1;32m   1489\u001b[0m \u001b[43m        \u001b[49m\u001b[38;5;241;43m*\u001b[39;49m\u001b[38;5;241;43m*\u001b[39;49m\u001b[43mmodel_kwargs\u001b[49m\u001b[43m,\u001b[49m\n\u001b[1;32m   1490\u001b[0m \u001b[43m    \u001b[49m\u001b[43m)\u001b[49m\n\u001b[1;32m   1492\u001b[0m \u001b[38;5;28;01melif\u001b[39;00m generation_mode \u001b[38;5;241m==\u001b[39m GenerationMode\u001b[38;5;241m.\u001b[39mCONTRASTIVE_SEARCH:\n\u001b[1;32m   1493\u001b[0m     \u001b[38;5;28;01mif\u001b[39;00m \u001b[38;5;129;01mnot\u001b[39;00m model_kwargs[\u001b[38;5;124m\"\u001b[39m\u001b[38;5;124muse_cache\u001b[39m\u001b[38;5;124m\"\u001b[39m]:\n",
      "File \u001b[0;32m~/.conda/envs/cuda_11/lib/python3.11/site-packages/transformers/generation/utils.py:2316\u001b[0m, in \u001b[0;36mGenerationMixin.greedy_search\u001b[0;34m(self, input_ids, logits_processor, stopping_criteria, max_length, pad_token_id, eos_token_id, output_attentions, output_hidden_states, output_scores, return_dict_in_generate, synced_gpus, streamer, **model_kwargs)\u001b[0m\n\u001b[1;32m   2313\u001b[0m model_inputs \u001b[38;5;241m=\u001b[39m \u001b[38;5;28mself\u001b[39m\u001b[38;5;241m.\u001b[39mprepare_inputs_for_generation(input_ids, \u001b[38;5;241m*\u001b[39m\u001b[38;5;241m*\u001b[39mmodel_kwargs)\n\u001b[1;32m   2315\u001b[0m \u001b[38;5;66;03m# forward pass to get next token\u001b[39;00m\n\u001b[0;32m-> 2316\u001b[0m outputs \u001b[38;5;241m=\u001b[39m \u001b[38;5;28;43mself\u001b[39;49m\u001b[43m(\u001b[49m\n\u001b[1;32m   2317\u001b[0m \u001b[43m    \u001b[49m\u001b[38;5;241;43m*\u001b[39;49m\u001b[38;5;241;43m*\u001b[39;49m\u001b[43mmodel_inputs\u001b[49m\u001b[43m,\u001b[49m\n\u001b[1;32m   2318\u001b[0m \u001b[43m    \u001b[49m\u001b[43mreturn_dict\u001b[49m\u001b[38;5;241;43m=\u001b[39;49m\u001b[38;5;28;43;01mTrue\u001b[39;49;00m\u001b[43m,\u001b[49m\n\u001b[1;32m   2319\u001b[0m \u001b[43m    \u001b[49m\u001b[43moutput_attentions\u001b[49m\u001b[38;5;241;43m=\u001b[39;49m\u001b[43moutput_attentions\u001b[49m\u001b[43m,\u001b[49m\n\u001b[1;32m   2320\u001b[0m \u001b[43m    \u001b[49m\u001b[43moutput_hidden_states\u001b[49m\u001b[38;5;241;43m=\u001b[39;49m\u001b[43moutput_hidden_states\u001b[49m\u001b[43m,\u001b[49m\n\u001b[1;32m   2321\u001b[0m \u001b[43m\u001b[49m\u001b[43m)\u001b[49m\n\u001b[1;32m   2323\u001b[0m \u001b[38;5;28;01mif\u001b[39;00m synced_gpus \u001b[38;5;129;01mand\u001b[39;00m this_peer_finished:\n\u001b[1;32m   2324\u001b[0m     \u001b[38;5;28;01mcontinue\u001b[39;00m  \u001b[38;5;66;03m# don't waste resources running the code we don't need\u001b[39;00m\n",
      "File \u001b[0;32m~/.conda/envs/cuda_11/lib/python3.11/site-packages/torch/nn/modules/module.py:1518\u001b[0m, in \u001b[0;36mModule._wrapped_call_impl\u001b[0;34m(self, *args, **kwargs)\u001b[0m\n\u001b[1;32m   1516\u001b[0m     \u001b[38;5;28;01mreturn\u001b[39;00m \u001b[38;5;28mself\u001b[39m\u001b[38;5;241m.\u001b[39m_compiled_call_impl(\u001b[38;5;241m*\u001b[39margs, \u001b[38;5;241m*\u001b[39m\u001b[38;5;241m*\u001b[39mkwargs)  \u001b[38;5;66;03m# type: ignore[misc]\u001b[39;00m\n\u001b[1;32m   1517\u001b[0m \u001b[38;5;28;01melse\u001b[39;00m:\n\u001b[0;32m-> 1518\u001b[0m     \u001b[38;5;28;01mreturn\u001b[39;00m \u001b[38;5;28;43mself\u001b[39;49m\u001b[38;5;241;43m.\u001b[39;49m\u001b[43m_call_impl\u001b[49m\u001b[43m(\u001b[49m\u001b[38;5;241;43m*\u001b[39;49m\u001b[43margs\u001b[49m\u001b[43m,\u001b[49m\u001b[43m \u001b[49m\u001b[38;5;241;43m*\u001b[39;49m\u001b[38;5;241;43m*\u001b[39;49m\u001b[43mkwargs\u001b[49m\u001b[43m)\u001b[49m\n",
      "File \u001b[0;32m~/.conda/envs/cuda_11/lib/python3.11/site-packages/torch/nn/modules/module.py:1527\u001b[0m, in \u001b[0;36mModule._call_impl\u001b[0;34m(self, *args, **kwargs)\u001b[0m\n\u001b[1;32m   1522\u001b[0m \u001b[38;5;66;03m# If we don't have any hooks, we want to skip the rest of the logic in\u001b[39;00m\n\u001b[1;32m   1523\u001b[0m \u001b[38;5;66;03m# this function, and just call forward.\u001b[39;00m\n\u001b[1;32m   1524\u001b[0m \u001b[38;5;28;01mif\u001b[39;00m \u001b[38;5;129;01mnot\u001b[39;00m (\u001b[38;5;28mself\u001b[39m\u001b[38;5;241m.\u001b[39m_backward_hooks \u001b[38;5;129;01mor\u001b[39;00m \u001b[38;5;28mself\u001b[39m\u001b[38;5;241m.\u001b[39m_backward_pre_hooks \u001b[38;5;129;01mor\u001b[39;00m \u001b[38;5;28mself\u001b[39m\u001b[38;5;241m.\u001b[39m_forward_hooks \u001b[38;5;129;01mor\u001b[39;00m \u001b[38;5;28mself\u001b[39m\u001b[38;5;241m.\u001b[39m_forward_pre_hooks\n\u001b[1;32m   1525\u001b[0m         \u001b[38;5;129;01mor\u001b[39;00m _global_backward_pre_hooks \u001b[38;5;129;01mor\u001b[39;00m _global_backward_hooks\n\u001b[1;32m   1526\u001b[0m         \u001b[38;5;129;01mor\u001b[39;00m _global_forward_hooks \u001b[38;5;129;01mor\u001b[39;00m _global_forward_pre_hooks):\n\u001b[0;32m-> 1527\u001b[0m     \u001b[38;5;28;01mreturn\u001b[39;00m \u001b[43mforward_call\u001b[49m\u001b[43m(\u001b[49m\u001b[38;5;241;43m*\u001b[39;49m\u001b[43margs\u001b[49m\u001b[43m,\u001b[49m\u001b[43m \u001b[49m\u001b[38;5;241;43m*\u001b[39;49m\u001b[38;5;241;43m*\u001b[39;49m\u001b[43mkwargs\u001b[49m\u001b[43m)\u001b[49m\n\u001b[1;32m   1529\u001b[0m \u001b[38;5;28;01mtry\u001b[39;00m:\n\u001b[1;32m   1530\u001b[0m     result \u001b[38;5;241m=\u001b[39m \u001b[38;5;28;01mNone\u001b[39;00m\n",
      "File \u001b[0;32m~/.conda/envs/cuda_11/lib/python3.11/site-packages/transformers/models/llama/modeling_llama.py:1188\u001b[0m, in \u001b[0;36mLlamaForCausalLM.forward\u001b[0;34m(self, input_ids, attention_mask, position_ids, past_key_values, inputs_embeds, labels, use_cache, output_attentions, output_hidden_states, return_dict)\u001b[0m\n\u001b[1;32m   1185\u001b[0m return_dict \u001b[38;5;241m=\u001b[39m return_dict \u001b[38;5;28;01mif\u001b[39;00m return_dict \u001b[38;5;129;01mis\u001b[39;00m \u001b[38;5;129;01mnot\u001b[39;00m \u001b[38;5;28;01mNone\u001b[39;00m \u001b[38;5;28;01melse\u001b[39;00m \u001b[38;5;28mself\u001b[39m\u001b[38;5;241m.\u001b[39mconfig\u001b[38;5;241m.\u001b[39muse_return_dict\n\u001b[1;32m   1187\u001b[0m \u001b[38;5;66;03m# decoder outputs consists of (dec_features, layer_state, dec_hidden, dec_attn)\u001b[39;00m\n\u001b[0;32m-> 1188\u001b[0m outputs \u001b[38;5;241m=\u001b[39m \u001b[38;5;28;43mself\u001b[39;49m\u001b[38;5;241;43m.\u001b[39;49m\u001b[43mmodel\u001b[49m\u001b[43m(\u001b[49m\n\u001b[1;32m   1189\u001b[0m \u001b[43m    \u001b[49m\u001b[43minput_ids\u001b[49m\u001b[38;5;241;43m=\u001b[39;49m\u001b[43minput_ids\u001b[49m\u001b[43m,\u001b[49m\n\u001b[1;32m   1190\u001b[0m \u001b[43m    \u001b[49m\u001b[43mattention_mask\u001b[49m\u001b[38;5;241;43m=\u001b[39;49m\u001b[43mattention_mask\u001b[49m\u001b[43m,\u001b[49m\n\u001b[1;32m   1191\u001b[0m \u001b[43m    \u001b[49m\u001b[43mposition_ids\u001b[49m\u001b[38;5;241;43m=\u001b[39;49m\u001b[43mposition_ids\u001b[49m\u001b[43m,\u001b[49m\n\u001b[1;32m   1192\u001b[0m \u001b[43m    \u001b[49m\u001b[43mpast_key_values\u001b[49m\u001b[38;5;241;43m=\u001b[39;49m\u001b[43mpast_key_values\u001b[49m\u001b[43m,\u001b[49m\n\u001b[1;32m   1193\u001b[0m \u001b[43m    \u001b[49m\u001b[43minputs_embeds\u001b[49m\u001b[38;5;241;43m=\u001b[39;49m\u001b[43minputs_embeds\u001b[49m\u001b[43m,\u001b[49m\n\u001b[1;32m   1194\u001b[0m \u001b[43m    \u001b[49m\u001b[43muse_cache\u001b[49m\u001b[38;5;241;43m=\u001b[39;49m\u001b[43muse_cache\u001b[49m\u001b[43m,\u001b[49m\n\u001b[1;32m   1195\u001b[0m \u001b[43m    \u001b[49m\u001b[43moutput_attentions\u001b[49m\u001b[38;5;241;43m=\u001b[39;49m\u001b[43moutput_attentions\u001b[49m\u001b[43m,\u001b[49m\n\u001b[1;32m   1196\u001b[0m \u001b[43m    \u001b[49m\u001b[43moutput_hidden_states\u001b[49m\u001b[38;5;241;43m=\u001b[39;49m\u001b[43moutput_hidden_states\u001b[49m\u001b[43m,\u001b[49m\n\u001b[1;32m   1197\u001b[0m \u001b[43m    \u001b[49m\u001b[43mreturn_dict\u001b[49m\u001b[38;5;241;43m=\u001b[39;49m\u001b[43mreturn_dict\u001b[49m\u001b[43m,\u001b[49m\n\u001b[1;32m   1198\u001b[0m \u001b[43m\u001b[49m\u001b[43m)\u001b[49m\n\u001b[1;32m   1200\u001b[0m hidden_states \u001b[38;5;241m=\u001b[39m outputs[\u001b[38;5;241m0\u001b[39m]\n\u001b[1;32m   1201\u001b[0m \u001b[38;5;28;01mif\u001b[39;00m \u001b[38;5;28mself\u001b[39m\u001b[38;5;241m.\u001b[39mconfig\u001b[38;5;241m.\u001b[39mpretraining_tp \u001b[38;5;241m>\u001b[39m \u001b[38;5;241m1\u001b[39m:\n",
      "File \u001b[0;32m~/.conda/envs/cuda_11/lib/python3.11/site-packages/torch/nn/modules/module.py:1518\u001b[0m, in \u001b[0;36mModule._wrapped_call_impl\u001b[0;34m(self, *args, **kwargs)\u001b[0m\n\u001b[1;32m   1516\u001b[0m     \u001b[38;5;28;01mreturn\u001b[39;00m \u001b[38;5;28mself\u001b[39m\u001b[38;5;241m.\u001b[39m_compiled_call_impl(\u001b[38;5;241m*\u001b[39margs, \u001b[38;5;241m*\u001b[39m\u001b[38;5;241m*\u001b[39mkwargs)  \u001b[38;5;66;03m# type: ignore[misc]\u001b[39;00m\n\u001b[1;32m   1517\u001b[0m \u001b[38;5;28;01melse\u001b[39;00m:\n\u001b[0;32m-> 1518\u001b[0m     \u001b[38;5;28;01mreturn\u001b[39;00m \u001b[38;5;28;43mself\u001b[39;49m\u001b[38;5;241;43m.\u001b[39;49m\u001b[43m_call_impl\u001b[49m\u001b[43m(\u001b[49m\u001b[38;5;241;43m*\u001b[39;49m\u001b[43margs\u001b[49m\u001b[43m,\u001b[49m\u001b[43m \u001b[49m\u001b[38;5;241;43m*\u001b[39;49m\u001b[38;5;241;43m*\u001b[39;49m\u001b[43mkwargs\u001b[49m\u001b[43m)\u001b[49m\n",
      "File \u001b[0;32m~/.conda/envs/cuda_11/lib/python3.11/site-packages/torch/nn/modules/module.py:1527\u001b[0m, in \u001b[0;36mModule._call_impl\u001b[0;34m(self, *args, **kwargs)\u001b[0m\n\u001b[1;32m   1522\u001b[0m \u001b[38;5;66;03m# If we don't have any hooks, we want to skip the rest of the logic in\u001b[39;00m\n\u001b[1;32m   1523\u001b[0m \u001b[38;5;66;03m# this function, and just call forward.\u001b[39;00m\n\u001b[1;32m   1524\u001b[0m \u001b[38;5;28;01mif\u001b[39;00m \u001b[38;5;129;01mnot\u001b[39;00m (\u001b[38;5;28mself\u001b[39m\u001b[38;5;241m.\u001b[39m_backward_hooks \u001b[38;5;129;01mor\u001b[39;00m \u001b[38;5;28mself\u001b[39m\u001b[38;5;241m.\u001b[39m_backward_pre_hooks \u001b[38;5;129;01mor\u001b[39;00m \u001b[38;5;28mself\u001b[39m\u001b[38;5;241m.\u001b[39m_forward_hooks \u001b[38;5;129;01mor\u001b[39;00m \u001b[38;5;28mself\u001b[39m\u001b[38;5;241m.\u001b[39m_forward_pre_hooks\n\u001b[1;32m   1525\u001b[0m         \u001b[38;5;129;01mor\u001b[39;00m _global_backward_pre_hooks \u001b[38;5;129;01mor\u001b[39;00m _global_backward_hooks\n\u001b[1;32m   1526\u001b[0m         \u001b[38;5;129;01mor\u001b[39;00m _global_forward_hooks \u001b[38;5;129;01mor\u001b[39;00m _global_forward_pre_hooks):\n\u001b[0;32m-> 1527\u001b[0m     \u001b[38;5;28;01mreturn\u001b[39;00m \u001b[43mforward_call\u001b[49m\u001b[43m(\u001b[49m\u001b[38;5;241;43m*\u001b[39;49m\u001b[43margs\u001b[49m\u001b[43m,\u001b[49m\u001b[43m \u001b[49m\u001b[38;5;241;43m*\u001b[39;49m\u001b[38;5;241;43m*\u001b[39;49m\u001b[43mkwargs\u001b[49m\u001b[43m)\u001b[49m\n\u001b[1;32m   1529\u001b[0m \u001b[38;5;28;01mtry\u001b[39;00m:\n\u001b[1;32m   1530\u001b[0m     result \u001b[38;5;241m=\u001b[39m \u001b[38;5;28;01mNone\u001b[39;00m\n",
      "File \u001b[0;32m~/.conda/envs/cuda_11/lib/python3.11/site-packages/transformers/models/llama/modeling_llama.py:1032\u001b[0m, in \u001b[0;36mLlamaModel.forward\u001b[0;34m(self, input_ids, attention_mask, position_ids, past_key_values, inputs_embeds, use_cache, output_attentions, output_hidden_states, return_dict)\u001b[0m\n\u001b[1;32m   1029\u001b[0m     position_ids \u001b[38;5;241m=\u001b[39m position_ids\u001b[38;5;241m.\u001b[39munsqueeze(\u001b[38;5;241m0\u001b[39m)\n\u001b[1;32m   1031\u001b[0m \u001b[38;5;28;01mif\u001b[39;00m inputs_embeds \u001b[38;5;129;01mis\u001b[39;00m \u001b[38;5;28;01mNone\u001b[39;00m:\n\u001b[0;32m-> 1032\u001b[0m     inputs_embeds \u001b[38;5;241m=\u001b[39m \u001b[38;5;28;43mself\u001b[39;49m\u001b[38;5;241;43m.\u001b[39;49m\u001b[43membed_tokens\u001b[49m\u001b[43m(\u001b[49m\u001b[43minput_ids\u001b[49m\u001b[43m)\u001b[49m\n\u001b[1;32m   1034\u001b[0m \u001b[38;5;28;01mif\u001b[39;00m \u001b[38;5;28mself\u001b[39m\u001b[38;5;241m.\u001b[39m_use_flash_attention_2:\n\u001b[1;32m   1035\u001b[0m     \u001b[38;5;66;03m# 2d mask is passed through the layers\u001b[39;00m\n\u001b[1;32m   1036\u001b[0m     attention_mask \u001b[38;5;241m=\u001b[39m attention_mask \u001b[38;5;28;01mif\u001b[39;00m (attention_mask \u001b[38;5;129;01mis\u001b[39;00m \u001b[38;5;129;01mnot\u001b[39;00m \u001b[38;5;28;01mNone\u001b[39;00m \u001b[38;5;129;01mand\u001b[39;00m \u001b[38;5;241m0\u001b[39m \u001b[38;5;129;01min\u001b[39;00m attention_mask) \u001b[38;5;28;01melse\u001b[39;00m \u001b[38;5;28;01mNone\u001b[39;00m\n",
      "File \u001b[0;32m~/.conda/envs/cuda_11/lib/python3.11/site-packages/torch/nn/modules/module.py:1518\u001b[0m, in \u001b[0;36mModule._wrapped_call_impl\u001b[0;34m(self, *args, **kwargs)\u001b[0m\n\u001b[1;32m   1516\u001b[0m     \u001b[38;5;28;01mreturn\u001b[39;00m \u001b[38;5;28mself\u001b[39m\u001b[38;5;241m.\u001b[39m_compiled_call_impl(\u001b[38;5;241m*\u001b[39margs, \u001b[38;5;241m*\u001b[39m\u001b[38;5;241m*\u001b[39mkwargs)  \u001b[38;5;66;03m# type: ignore[misc]\u001b[39;00m\n\u001b[1;32m   1517\u001b[0m \u001b[38;5;28;01melse\u001b[39;00m:\n\u001b[0;32m-> 1518\u001b[0m     \u001b[38;5;28;01mreturn\u001b[39;00m \u001b[38;5;28;43mself\u001b[39;49m\u001b[38;5;241;43m.\u001b[39;49m\u001b[43m_call_impl\u001b[49m\u001b[43m(\u001b[49m\u001b[38;5;241;43m*\u001b[39;49m\u001b[43margs\u001b[49m\u001b[43m,\u001b[49m\u001b[43m \u001b[49m\u001b[38;5;241;43m*\u001b[39;49m\u001b[38;5;241;43m*\u001b[39;49m\u001b[43mkwargs\u001b[49m\u001b[43m)\u001b[49m\n",
      "File \u001b[0;32m~/.conda/envs/cuda_11/lib/python3.11/site-packages/torch/nn/modules/module.py:1527\u001b[0m, in \u001b[0;36mModule._call_impl\u001b[0;34m(self, *args, **kwargs)\u001b[0m\n\u001b[1;32m   1522\u001b[0m \u001b[38;5;66;03m# If we don't have any hooks, we want to skip the rest of the logic in\u001b[39;00m\n\u001b[1;32m   1523\u001b[0m \u001b[38;5;66;03m# this function, and just call forward.\u001b[39;00m\n\u001b[1;32m   1524\u001b[0m \u001b[38;5;28;01mif\u001b[39;00m \u001b[38;5;129;01mnot\u001b[39;00m (\u001b[38;5;28mself\u001b[39m\u001b[38;5;241m.\u001b[39m_backward_hooks \u001b[38;5;129;01mor\u001b[39;00m \u001b[38;5;28mself\u001b[39m\u001b[38;5;241m.\u001b[39m_backward_pre_hooks \u001b[38;5;129;01mor\u001b[39;00m \u001b[38;5;28mself\u001b[39m\u001b[38;5;241m.\u001b[39m_forward_hooks \u001b[38;5;129;01mor\u001b[39;00m \u001b[38;5;28mself\u001b[39m\u001b[38;5;241m.\u001b[39m_forward_pre_hooks\n\u001b[1;32m   1525\u001b[0m         \u001b[38;5;129;01mor\u001b[39;00m _global_backward_pre_hooks \u001b[38;5;129;01mor\u001b[39;00m _global_backward_hooks\n\u001b[1;32m   1526\u001b[0m         \u001b[38;5;129;01mor\u001b[39;00m _global_forward_hooks \u001b[38;5;129;01mor\u001b[39;00m _global_forward_pre_hooks):\n\u001b[0;32m-> 1527\u001b[0m     \u001b[38;5;28;01mreturn\u001b[39;00m \u001b[43mforward_call\u001b[49m\u001b[43m(\u001b[49m\u001b[38;5;241;43m*\u001b[39;49m\u001b[43margs\u001b[49m\u001b[43m,\u001b[49m\u001b[43m \u001b[49m\u001b[38;5;241;43m*\u001b[39;49m\u001b[38;5;241;43m*\u001b[39;49m\u001b[43mkwargs\u001b[49m\u001b[43m)\u001b[49m\n\u001b[1;32m   1529\u001b[0m \u001b[38;5;28;01mtry\u001b[39;00m:\n\u001b[1;32m   1530\u001b[0m     result \u001b[38;5;241m=\u001b[39m \u001b[38;5;28;01mNone\u001b[39;00m\n",
      "File \u001b[0;32m~/.conda/envs/cuda_11/lib/python3.11/site-packages/torch/nn/modules/sparse.py:162\u001b[0m, in \u001b[0;36mEmbedding.forward\u001b[0;34m(self, input)\u001b[0m\n\u001b[1;32m    161\u001b[0m \u001b[38;5;28;01mdef\u001b[39;00m \u001b[38;5;21mforward\u001b[39m(\u001b[38;5;28mself\u001b[39m, \u001b[38;5;28minput\u001b[39m: Tensor) \u001b[38;5;241m-\u001b[39m\u001b[38;5;241m>\u001b[39m Tensor:\n\u001b[0;32m--> 162\u001b[0m     \u001b[38;5;28;01mreturn\u001b[39;00m \u001b[43mF\u001b[49m\u001b[38;5;241;43m.\u001b[39;49m\u001b[43membedding\u001b[49m\u001b[43m(\u001b[49m\n\u001b[1;32m    163\u001b[0m \u001b[43m        \u001b[49m\u001b[38;5;28;43minput\u001b[39;49m\u001b[43m,\u001b[49m\u001b[43m \u001b[49m\u001b[38;5;28;43mself\u001b[39;49m\u001b[38;5;241;43m.\u001b[39;49m\u001b[43mweight\u001b[49m\u001b[43m,\u001b[49m\u001b[43m \u001b[49m\u001b[38;5;28;43mself\u001b[39;49m\u001b[38;5;241;43m.\u001b[39;49m\u001b[43mpadding_idx\u001b[49m\u001b[43m,\u001b[49m\u001b[43m \u001b[49m\u001b[38;5;28;43mself\u001b[39;49m\u001b[38;5;241;43m.\u001b[39;49m\u001b[43mmax_norm\u001b[49m\u001b[43m,\u001b[49m\n\u001b[1;32m    164\u001b[0m \u001b[43m        \u001b[49m\u001b[38;5;28;43mself\u001b[39;49m\u001b[38;5;241;43m.\u001b[39;49m\u001b[43mnorm_type\u001b[49m\u001b[43m,\u001b[49m\u001b[43m \u001b[49m\u001b[38;5;28;43mself\u001b[39;49m\u001b[38;5;241;43m.\u001b[39;49m\u001b[43mscale_grad_by_freq\u001b[49m\u001b[43m,\u001b[49m\u001b[43m \u001b[49m\u001b[38;5;28;43mself\u001b[39;49m\u001b[38;5;241;43m.\u001b[39;49m\u001b[43msparse\u001b[49m\u001b[43m)\u001b[49m\n",
      "File \u001b[0;32m~/.conda/envs/cuda_11/lib/python3.11/site-packages/torch/nn/functional.py:2233\u001b[0m, in \u001b[0;36membedding\u001b[0;34m(input, weight, padding_idx, max_norm, norm_type, scale_grad_by_freq, sparse)\u001b[0m\n\u001b[1;32m   2227\u001b[0m     \u001b[38;5;66;03m# Note [embedding_renorm set_grad_enabled]\u001b[39;00m\n\u001b[1;32m   2228\u001b[0m     \u001b[38;5;66;03m# XXX: equivalent to\u001b[39;00m\n\u001b[1;32m   2229\u001b[0m     \u001b[38;5;66;03m# with torch.no_grad():\u001b[39;00m\n\u001b[1;32m   2230\u001b[0m     \u001b[38;5;66;03m#   torch.embedding_renorm_\u001b[39;00m\n\u001b[1;32m   2231\u001b[0m     \u001b[38;5;66;03m# remove once script supports set_grad_enabled\u001b[39;00m\n\u001b[1;32m   2232\u001b[0m     _no_grad_embedding_renorm_(weight, \u001b[38;5;28minput\u001b[39m, max_norm, norm_type)\n\u001b[0;32m-> 2233\u001b[0m \u001b[38;5;28;01mreturn\u001b[39;00m \u001b[43mtorch\u001b[49m\u001b[38;5;241;43m.\u001b[39;49m\u001b[43membedding\u001b[49m\u001b[43m(\u001b[49m\u001b[43mweight\u001b[49m\u001b[43m,\u001b[49m\u001b[43m \u001b[49m\u001b[38;5;28;43minput\u001b[39;49m\u001b[43m,\u001b[49m\u001b[43m \u001b[49m\u001b[43mpadding_idx\u001b[49m\u001b[43m,\u001b[49m\u001b[43m \u001b[49m\u001b[43mscale_grad_by_freq\u001b[49m\u001b[43m,\u001b[49m\u001b[43m \u001b[49m\u001b[43msparse\u001b[49m\u001b[43m)\u001b[49m\n",
      "\u001b[0;31mOutOfMemoryError\u001b[0m: CUDA out of memory. Tried to allocate 48.00 MiB. GPU 0 has a total capacty of 79.15 GiB of which 16.00 MiB is free. Including non-PyTorch memory, this process has 79.12 GiB memory in use. Of the allocated memory 26.51 GiB is allocated by PyTorch, and 133.95 MiB is reserved by PyTorch but unallocated. If reserved but unallocated memory is large try setting max_split_size_mb to avoid fragmentation.  See documentation for Memory Management and PYTORCH_CUDA_ALLOC_CONF"
     ]
    }
   ],
   "source": [
    "resp2 = order_independent_llm.order_independent_query(\n",
    "            prefix=raw,\n",
    "            parallel_substrings=substrings,\n",
    "            suffix='\\n1 paragraph summary of the disaster, including damage, invesigation and casualty discussion.\\n',\n",
    "            model=model,\n",
    "            tokenizer=tokenizer,\n",
    "            max_new_tokens=200,\n",
    "            #torch_device='cuda',\n",
    "            is_order_independent=True,\n",
    "        )"
   ]
  },
  {
   "cell_type": "code",
   "execution_count": null,
   "id": "555114d4-d80e-415e-b7e4-43ff305ba360",
   "metadata": {
    "tags": []
   },
   "outputs": [],
   "source": [
    "resp2.raw_output.scores[:10]"
   ]
  },
  {
   "cell_type": "code",
   "execution_count": null,
   "id": "84d6755d-00dd-454a-a12b-7e54d49bec80",
   "metadata": {
    "tags": []
   },
   "outputs": [],
   "source": [
    "resp3 = order_independent_llm.order_independent_query(\n",
    "            prefix=raw,\n",
    "            parallel_substrings=substrings[::-1],\n",
    "            suffix='\\n1 paragraph summary of the disaster, including damage, invesigation and casualty discussion.\\n',\n",
    "            model=model,\n",
    "            tokenizer=tokenizer,\n",
    "            max_new_tokens=200,\n",
    "            torch_device='cuda',\n",
    "            is_order_independent=True,\n",
    "        )"
   ]
  },
  {
   "cell_type": "code",
   "execution_count": null,
   "id": "64836c49-2933-4aab-a34e-3ccac1f283d7",
   "metadata": {
    "tags": []
   },
   "outputs": [],
   "source": [
    "resp3.raw_output.scores[:10]"
   ]
  },
  {
   "cell_type": "code",
   "execution_count": null,
   "id": "1e1954f5-d83f-4332-98d2-89eaf60bfc86",
   "metadata": {
    "tags": []
   },
   "outputs": [],
   "source": [
    "resp2.text_output"
   ]
  },
  {
   "cell_type": "code",
   "execution_count": 16,
   "id": "bb8b520d-35c3-46fc-af31-9afc16bbc2ca",
   "metadata": {
    "tags": []
   },
   "outputs": [
    {
     "data": {
      "text/plain": [
       "'The Francis Scott Key Bridge was a steel arch-shaped continuous truss bridge, the second-longest in the United States and third-longest in the world.[4] Opened in 1977, the 1.6-mile (2.6 km; 1.4 nmi) bridge ran northeast from Hawkins Point, Baltimore, to Sollers Point in Dundalk in Baltimore County, Maryland. Before being damaged, it carried Interstate 695, a beltway around Baltimore;[5] its four lanes (two in each direction[6]) were used by some 34,000 vehicles each day, including 3,000 trucks, many of which hauled hazardous materials barred from the two harbor tunnels.[7][8]\\n\\nThe bridge crossed one of the busiest shipping routes in the United States: the lower Patapsco River, which connects the Port of Baltimore to the Chesapeake Bay and the Atlantic Ocean.[5][7] In 2023, the port handled more than'"
      ]
     },
     "execution_count": 16,
     "metadata": {},
     "output_type": "execute_result"
    }
   ],
   "source": [
    "resp3.text_output"
   ]
  },
  {
   "cell_type": "code",
   "execution_count": 14,
   "id": "a1ede625-7540-44f2-90b0-21b49242266c",
   "metadata": {
    "tags": []
   },
   "outputs": [
    {
     "data": {
      "text/plain": [
       "(tensor([[ 6.8651, 10.2671,  9.5885,  ..., -6.6185, -6.6184, -6.6184]],\n",
       "        device='cuda:0'),\n",
       " tensor([[ 0.0641,  3.1897,  1.8972,  ..., -9.0719, -9.0718, -9.0718]],\n",
       "        device='cuda:0'),\n",
       " tensor([[ 8.3073,  7.6090,  6.0796,  ..., -6.5057, -6.5057, -6.5057]],\n",
       "        device='cuda:0'),\n",
       " tensor([[ 8.1259,  8.8570,  5.0670,  ..., -5.4954, -5.4956, -5.4955]],\n",
       "        device='cuda:0'),\n",
       " tensor([[ 7.3216,  7.5358,  6.6497,  ..., -7.1498, -7.1497, -7.1498]],\n",
       "        device='cuda:0'),\n",
       " tensor([[ 5.3539,  6.9131,  6.4476,  ..., -4.2093, -4.2093, -4.2093]],\n",
       "        device='cuda:0'),\n",
       " tensor([[ 3.5979,  5.3973,  2.7254,  ..., -5.8673, -5.8673, -5.8673]],\n",
       "        device='cuda:0'),\n",
       " tensor([[ 5.1628,  6.1174,  4.5418,  ..., -6.4156, -6.4155, -6.4155]],\n",
       "        device='cuda:0'),\n",
       " tensor([[ 5.8885,  6.3962,  4.3591,  ..., -7.5208, -7.5208, -7.5208]],\n",
       "        device='cuda:0'),\n",
       " tensor([[ 5.8219,  6.7970,  5.4301,  ..., -4.2245, -4.2245, -4.2245]],\n",
       "        device='cuda:0'))"
      ]
     },
     "execution_count": 14,
     "metadata": {},
     "output_type": "execute_result"
    }
   ],
   "source": [
    "resp3.raw_output.scores[:10]"
   ]
  },
  {
   "cell_type": "code",
   "execution_count": null,
   "id": "d2c1bb83-ac0d-4790-b9cb-ae9cccfbe012",
   "metadata": {
    "tags": []
   },
   "outputs": [
    {
     "data": {
      "application/vnd.jupyter.widget-view+json": {
       "model_id": "8987998d96cb4a6eac6f7687ff43347a",
       "version_major": 2,
       "version_minor": 0
      },
      "text/plain": [
       "Loading checkpoint shards:   0%|          | 0/15 [00:00<?, ?it/s]"
      ]
     },
     "metadata": {},
     "output_type": "display_data"
    }
   ],
   "source": [
    "model, tokenizer = order_independent_llm.load_model(\"meta-llama/Llama-2-70b-hf\", 'cpu')"
   ]
  },
  {
   "cell_type": "code",
   "execution_count": 2,
   "id": "1450655d-7651-4ceb-8085-9d814da60a94",
   "metadata": {
    "tags": []
   },
   "outputs": [
    {
     "data": {
      "application/vnd.jupyter.widget-view+json": {
       "model_id": "fc9ea591b6c74c0c98493a3f7e526e87",
       "version_major": 2,
       "version_minor": 0
      },
      "text/plain": [
       "Downloading shards:   0%|          | 0/15 [00:00<?, ?it/s]"
      ]
     },
     "metadata": {},
     "output_type": "display_data"
    },
    {
     "data": {
      "application/vnd.jupyter.widget-view+json": {
       "model_id": "bc9ff7e9ddc34bf68e1e916bc8d6267d",
       "version_major": 2,
       "version_minor": 0
      },
      "text/plain": [
       "Loading checkpoint shards:   0%|          | 0/15 [00:00<?, ?it/s]"
      ]
     },
     "metadata": {},
     "output_type": "display_data"
    },
    {
     "data": {
      "application/vnd.jupyter.widget-view+json": {
       "model_id": "8a01f8efe6c84c2bac14ea7de2b99efc",
       "version_major": 2,
       "version_minor": 0
      },
      "text/plain": [
       "generation_config.json:   0%|          | 0.00/188 [00:00<?, ?B/s]"
      ]
     },
     "metadata": {},
     "output_type": "display_data"
    },
    {
     "name": "stderr",
     "output_type": "stream",
     "text": [
      "WARNING:root:Some parameters are on the meta device device because they were offloaded to the cpu.\n"
     ]
    }
   ],
   "source": [
    "model, tokenizer = order_independent_llm.load_model(\"meta-llama/Llama-2-70b-chat-hf\", 'cpu')"
   ]
  }
 ],
 "metadata": {
  "kernelspec": {
   "display_name": "Python 3 (ipykernel)",
   "language": "python",
   "name": "python3"
  },
  "language_info": {
   "codemirror_mode": {
    "name": "ipython",
    "version": 3
   },
   "file_extension": ".py",
   "mimetype": "text/x-python",
   "name": "python",
   "nbconvert_exporter": "python",
   "pygments_lexer": "ipython3",
   "version": "3.11.4"
  }
 },
 "nbformat": 4,
 "nbformat_minor": 5
}
